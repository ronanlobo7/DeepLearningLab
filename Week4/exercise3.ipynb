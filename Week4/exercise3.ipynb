{
 "cells": [
  {
   "cell_type": "code",
   "execution_count": 1,
   "id": "a3d5e725-c586-471e-96c6-75b7a21174b4",
   "metadata": {},
   "outputs": [],
   "source": [
    "import numpy as np"
   ]
  },
  {
   "cell_type": "code",
   "execution_count": 2,
   "id": "806abf00-df1e-4894-ad5a-45dbd6544f4a",
   "metadata": {},
   "outputs": [],
   "source": [
    "def sigmoid(x):\n",
    "    return 1 / (1 + np.exp(-x))\n",
    "\n",
    "class ManualModel:    \n",
    "    def __init__(self):\n",
    "        self.w1 = np.array([[-1.9767,  2.0750],\n",
    "                            [-3.0809,  3.3435]])\n",
    "        self.b1 = np.array([ 0.7012, -2.5002])\n",
    "        self.w2 = np.array([[-2.6653,  2.7713]])\n",
    "        self.b2 = np.array([1.5715])\n",
    "        \n",
    "    def forward(self, x):\n",
    "        tmp = np.matmul(x, self.w1.T) + self.b1\n",
    "        tmp = sigmoid(tmp)\n",
    "        tmp = np.matmul(tmp, self.w2.T) + self.b2\n",
    "        return tmp"
   ]
  },
  {
   "cell_type": "code",
   "execution_count": 3,
   "id": "839a0a3a-74bc-416b-b428-c2bfe20a71b8",
   "metadata": {},
   "outputs": [],
   "source": [
    "model = ManualModel()"
   ]
  },
  {
   "cell_type": "code",
   "execution_count": 4,
   "id": "89e5cc96-23e6-465b-a556-530cab7299eb",
   "metadata": {},
   "outputs": [],
   "source": [
    "X = np.array([[0, 0], [0, 1], [1, 0], [1, 1]])"
   ]
  },
  {
   "cell_type": "code",
   "execution_count": 5,
   "id": "2d584797-80a2-4b02-9e5a-f0b6dd40271b",
   "metadata": {},
   "outputs": [
    {
     "name": "stdout",
     "output_type": "stream",
     "text": [
      "Output Prediction for x1=0, x2=0 is y=0.0001\n",
      "Output Prediction for x1=0, x2=0 is y=1.0\n",
      "Output Prediction for x1=1, x2=1 is y=1.0\n",
      "Output Prediction for x1=1, x2=1 is y=0.0\n"
     ]
    }
   ],
   "source": [
    "for x in X:\n",
    "    x = x.reshape(1, -1)\n",
    "    y = model.forward(x)\n",
    "    print('Output Prediction for x1={}, x2={} is y={}'.format(x[0][0], x[0][0], round(y[0][0], 4)))"
   ]
  },
  {
   "cell_type": "code",
   "execution_count": null,
   "id": "3cd73f8e-3601-42bf-a675-0f5b04a045fa",
   "metadata": {},
   "outputs": [],
   "source": []
  }
 ],
 "metadata": {
  "kernelspec": {
   "display_name": "Python 3 (ipykernel)",
   "language": "python",
   "name": "python3"
  },
  "language_info": {
   "codemirror_mode": {
    "name": "ipython",
    "version": 3
   },
   "file_extension": ".py",
   "mimetype": "text/x-python",
   "name": "python",
   "nbconvert_exporter": "python",
   "pygments_lexer": "ipython3",
   "version": "3.11.7"
  }
 },
 "nbformat": 4,
 "nbformat_minor": 5
}
