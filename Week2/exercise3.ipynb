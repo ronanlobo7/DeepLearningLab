{
 "cells": [
  {
   "cell_type": "code",
   "execution_count": 1,
   "id": "efb9eade-9a47-4bdb-a492-e670fce2c433",
   "metadata": {},
   "outputs": [],
   "source": [
    "import numpy as np\n",
    "import torch\n",
    "import torch.nn.functional as F"
   ]
  },
  {
   "cell_type": "code",
   "execution_count": 2,
   "id": "fc1ca503-0dc2-4d71-a1b3-4460fb5eb4c2",
   "metadata": {},
   "outputs": [],
   "source": [
    "def grad_manual(w, x, b):\n",
    "    t1 = w * x\n",
    "    t2 = t1 + b\n",
    "    t3 = -t2\n",
    "    t4 = np.exp(t3)\n",
    "    t5 = 1 + t4\n",
    "    z = 1.0 / t5\n",
    "\n",
    "    dzdt5 = -1.0 / t5**2\n",
    "    dt5dt4 = 1\n",
    "    dt4dt3 = np.exp(t3)\n",
    "    dt3dt2 = -1\n",
    "    dt2dt1 = 1\n",
    "    dt1dw = x\n",
    "\n",
    "    dzdt4 = dzdt5 * dt5dt4\n",
    "    dzdt3 = dzdt4 * dt4dt3\n",
    "    dzdt2 = dzdt3 * dt3dt2\n",
    "    dzdt1 = dzdt2 * dt2dt1\n",
    "    dzdw = dzdt1 * dt1dw\n",
    "    \n",
    "    return dzdw\n",
    "\n",
    "def torch_function(w, x, b):\n",
    "    a = w * x + b\n",
    "    z = F.sigmoid(a)\n",
    "    \n",
    "    return z"
   ]
  },
  {
   "cell_type": "code",
   "execution_count": 3,
   "id": "95e6f50b-d2ed-498f-ad11-d33fbdf22d55",
   "metadata": {},
   "outputs": [],
   "source": [
    "input_w = 1.0\n",
    "input_x = 2.0\n",
    "input_b = 3.0\n",
    "\n",
    "w = torch.tensor(input_w, requires_grad=True)\n",
    "x = torch.tensor(input_x, requires_grad=False)\n",
    "b = torch.tensor(input_b, requires_grad=True)"
   ]
  },
  {
   "cell_type": "code",
   "execution_count": 4,
   "id": "ae8eb27f-e8f2-4928-8e6d-e7efa08f6806",
   "metadata": {},
   "outputs": [],
   "source": [
    "z = torch_function(w, x, b)\n",
    "z.backward()"
   ]
  },
  {
   "cell_type": "code",
   "execution_count": 5,
   "id": "a85f7c17-afe7-4acf-8879-c92e78200afd",
   "metadata": {},
   "outputs": [
    {
     "name": "stdout",
     "output_type": "stream",
     "text": [
      "AutoGrad:  0.013296065852046013\n",
      "Manual Grad:  0.013296113341580313\n"
     ]
    }
   ],
   "source": [
    "print('AutoGrad: ', w.grad.item())\n",
    "print('Manual Grad: ', grad_manual(input_w, input_x, input_b))"
   ]
  },
  {
   "cell_type": "code",
   "execution_count": null,
   "id": "aa8953dd-375b-4187-b446-d66729cf1fa1",
   "metadata": {},
   "outputs": [],
   "source": []
  }
 ],
 "metadata": {
  "kernelspec": {
   "display_name": "Python 3 (ipykernel)",
   "language": "python",
   "name": "python3"
  },
  "language_info": {
   "codemirror_mode": {
    "name": "ipython",
    "version": 3
   },
   "file_extension": ".py",
   "mimetype": "text/x-python",
   "name": "python",
   "nbconvert_exporter": "python",
   "pygments_lexer": "ipython3",
   "version": "3.11.7"
  }
 },
 "nbformat": 4,
 "nbformat_minor": 5
}
