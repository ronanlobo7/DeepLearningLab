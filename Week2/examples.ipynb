{
 "cells": [
  {
   "cell_type": "code",
   "execution_count": 1,
   "id": "b5c2be01-7b00-4e50-9f12-846fe4990d70",
   "metadata": {},
   "outputs": [],
   "source": [
    "import torch"
   ]
  },
  {
   "cell_type": "code",
   "execution_count": null,
   "id": "01f90c8c-ff37-4242-a254-96a571f83936",
   "metadata": {},
   "outputs": [],
   "source": []
  },
  {
   "cell_type": "code",
   "execution_count": 2,
   "id": "10347263-e433-4109-927c-400dfafdb342",
   "metadata": {},
   "outputs": [],
   "source": [
    "x = torch.tensor(3.5, requires_grad=True)"
   ]
  },
  {
   "cell_type": "code",
   "execution_count": 3,
   "id": "ce4917b8-644f-400a-b5c6-cdc76086c3d4",
   "metadata": {},
   "outputs": [],
   "source": [
    "y = x * x"
   ]
  },
  {
   "cell_type": "code",
   "execution_count": 4,
   "id": "ab363341-6f2a-426a-8153-2731fd30436c",
   "metadata": {},
   "outputs": [],
   "source": [
    "z = 2*y + 3"
   ]
  },
  {
   "cell_type": "code",
   "execution_count": 5,
   "id": "7eacc65c-008d-4bf3-8321-4ae2f5f0c7fe",
   "metadata": {},
   "outputs": [
    {
     "name": "stdout",
     "output_type": "stream",
     "text": [
      "x:  tensor(3.5000, requires_grad=True)\n",
      "y=x*x:  tensor(12.2500, grad_fn=<MulBackward0>)\n",
      "z=2*y+3:  tensor(27.5000, grad_fn=<AddBackward0>)\n"
     ]
    }
   ],
   "source": [
    "print(\"x: \", x)\n",
    "print(\"y=x*x: \", y)\n",
    "print(\"z=2*y+3: \", z)"
   ]
  },
  {
   "cell_type": "code",
   "execution_count": 6,
   "id": "a23b8399-3cc2-43f9-911b-6006bbed724f",
   "metadata": {},
   "outputs": [],
   "source": [
    "z.backward()"
   ]
  },
  {
   "cell_type": "code",
   "execution_count": 7,
   "id": "178d6fbc-bb8d-4325-9448-8ffca06348d6",
   "metadata": {},
   "outputs": [
    {
     "name": "stdout",
     "output_type": "stream",
     "text": [
      "Working out gradients dz/dx\n",
      "Gradient at x=3.5:  tensor(14.)\n"
     ]
    }
   ],
   "source": [
    "print(\"Working out gradients dz/dx\")\n",
    "print(\"Gradient at x=3.5: \", x.grad)"
   ]
  },
  {
   "cell_type": "code",
   "execution_count": null,
   "id": "8a8b40d8-cee5-47ec-aec3-e571ea4c52c5",
   "metadata": {},
   "outputs": [],
   "source": []
  },
  {
   "cell_type": "code",
   "execution_count": 8,
   "id": "f4724e43-33e1-4bf7-b48d-65acdac96a03",
   "metadata": {},
   "outputs": [],
   "source": [
    "def f(x):\n",
    "    return (x-2)**2\n",
    "\n",
    "def fp(x):\n",
    "    return 2*(x-2)"
   ]
  },
  {
   "cell_type": "code",
   "execution_count": 9,
   "id": "c34292bd-a53c-46f9-bf65-8744b8433b48",
   "metadata": {},
   "outputs": [],
   "source": [
    "x = torch.tensor([1.0], requires_grad=True)\n",
    "y = f(x)\n",
    "y.backward()"
   ]
  },
  {
   "cell_type": "code",
   "execution_count": 10,
   "id": "cfebd194-62ff-4346-a791-2357f73ae7bc",
   "metadata": {},
   "outputs": [
    {
     "name": "stdout",
     "output_type": "stream",
     "text": [
      "Analytical f'(x):  tensor([-2.], grad_fn=<MulBackward0>)\n",
      "PyTorch's f'(x):  tensor([-2.])\n"
     ]
    }
   ],
   "source": [
    "print('Analytical f\\'(x): ', fp(x))\n",
    "print('PyTorch\\'s f\\'(x): ', x.grad)"
   ]
  },
  {
   "cell_type": "code",
   "execution_count": null,
   "id": "c2a36e02-1768-4cfe-bbcd-50d980d1f357",
   "metadata": {},
   "outputs": [],
   "source": []
  },
  {
   "cell_type": "code",
   "execution_count": 11,
   "id": "14861afa-066c-4a9c-a820-153c2db0615f",
   "metadata": {},
   "outputs": [
    {
     "name": "stdout",
     "output_type": "stream",
     "text": [
      "tensor([9.], grad_fn=<AddBackward0>)\n"
     ]
    }
   ],
   "source": [
    "x = torch.tensor([2.0])\n",
    "x.requires_grad_(True)\n",
    "y = x**2 + 5\n",
    "print(y)"
   ]
  },
  {
   "cell_type": "code",
   "execution_count": 12,
   "id": "2ae6f911-416c-43d6-a984-df3b810ac36d",
   "metadata": {},
   "outputs": [
    {
     "name": "stdout",
     "output_type": "stream",
     "text": [
      "PyTorch gradient:  tensor([4.])\n"
     ]
    }
   ],
   "source": [
    "y.backward()\n",
    "\n",
    "print('PyTorch gradient: ', x.grad)"
   ]
  },
  {
   "cell_type": "code",
   "execution_count": 13,
   "id": "15082850-3956-45e6-92ea-05c7e0786a84",
   "metadata": {},
   "outputs": [
    {
     "name": "stdout",
     "output_type": "stream",
     "text": [
      "Analytical gradient:  tensor([4.])\n"
     ]
    }
   ],
   "source": [
    "with torch.no_grad():\n",
    "    dy_dx = 2 * x\n",
    "\n",
    "print('Analytical gradient: ', dy_dx)"
   ]
  },
  {
   "cell_type": "code",
   "execution_count": null,
   "id": "556b5cdd-cab0-48d5-996f-4a19a75e4bd5",
   "metadata": {},
   "outputs": [],
   "source": []
  },
  {
   "cell_type": "code",
   "execution_count": 14,
   "id": "16cf5c60-7fd3-4a22-9f57-da5c11e907dd",
   "metadata": {},
   "outputs": [],
   "source": [
    "import numpy as np"
   ]
  },
  {
   "cell_type": "code",
   "execution_count": 15,
   "id": "a201acad-40b8-4506-8622-7f87f9dde03d",
   "metadata": {},
   "outputs": [],
   "source": [
    "def grad_sigmoid_manual(x):\n",
    "    a = -x\n",
    "    b = np.exp(a)\n",
    "    c = 1 + b\n",
    "    s = 1.0 / c\n",
    "\n",
    "    dsdc = (-1.0 / (c**2))\n",
    "    dsdb = dsdc * 1\n",
    "    dsda = dsdb * np.exp(a)\n",
    "    dsdx = dsda * (-1)\n",
    "\n",
    "    return dsdx\n",
    "\n",
    "def sigmoid(x):\n",
    "    y = 1.0 / (1.0 + torch.exp(-x))\n",
    "    return y"
   ]
  },
  {
   "cell_type": "code",
   "execution_count": 16,
   "id": "7b6a12e3-1bca-4ac0-ac7c-69e74ef3858f",
   "metadata": {},
   "outputs": [],
   "source": [
    "input_x = 2.0\n",
    "x = torch.tensor(input_x).requires_grad_(True)\n",
    "y = sigmoid(x)\n",
    "y.backward()"
   ]
  },
  {
   "cell_type": "code",
   "execution_count": 17,
   "id": "672c3207-785a-40b4-9368-9117dec226b3",
   "metadata": {},
   "outputs": [
    {
     "name": "stdout",
     "output_type": "stream",
     "text": [
      "AutoGrad:  0.10499356687068939\n",
      "Manual:  0.1049935854035065\n"
     ]
    }
   ],
   "source": [
    "print('AutoGrad: ', x.grad.item())\n",
    "print('Manual: ', grad_sigmoid_manual(input_x))"
   ]
  },
  {
   "cell_type": "code",
   "execution_count": null,
   "id": "fce4c082-3542-4dfd-b635-db8bb7dbf3c1",
   "metadata": {},
   "outputs": [],
   "source": []
  }
 ],
 "metadata": {
  "kernelspec": {
   "display_name": "Python 3 (ipykernel)",
   "language": "python",
   "name": "python3"
  },
  "language_info": {
   "codemirror_mode": {
    "name": "ipython",
    "version": 3
   },
   "file_extension": ".py",
   "mimetype": "text/x-python",
   "name": "python",
   "nbconvert_exporter": "python",
   "pygments_lexer": "ipython3",
   "version": "3.11.7"
  }
 },
 "nbformat": 4,
 "nbformat_minor": 5
}
