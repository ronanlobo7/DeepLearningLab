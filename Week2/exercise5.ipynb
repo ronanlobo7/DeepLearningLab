{
 "cells": [
  {
   "cell_type": "code",
   "execution_count": 1,
   "id": "fee017c2-8987-438f-9de7-7fb5bc8b1810",
   "metadata": {},
   "outputs": [],
   "source": [
    "import torch"
   ]
  },
  {
   "cell_type": "code",
   "execution_count": 2,
   "id": "33cdbec6-8a8b-4563-bd1d-5430a172914d",
   "metadata": {},
   "outputs": [],
   "source": [
    "def grad_manual(x):\n",
    "    a = x**4\n",
    "    b = 8 * a\n",
    "    c = x ** 3\n",
    "    d = 3 * c\n",
    "    e = x ** 2\n",
    "    f = 7 * e\n",
    "    g = 6 * x\n",
    "    h = b + d\n",
    "    i = h + f\n",
    "    j = i + g\n",
    "    y = j + 3\n",
    "\n",
    "    dydj = 1\n",
    "    djdi = 1\n",
    "    djdg = 1\n",
    "    didh = 1\n",
    "    didf = 1\n",
    "    dhdb = 1\n",
    "    dhdd = 1\n",
    "    dgdx = 6\n",
    "    dfde = 7\n",
    "    dedx = 2 * x\n",
    "    dddc = 3\n",
    "    dcdx = 3 * x**2\n",
    "    dbda = 8\n",
    "    dadx = 4 * x**3\n",
    "\n",
    "    dydi = dydj * djdi\n",
    "    dydh = dydi * didh\n",
    "    dydg = dydj * djdg\n",
    "    dydf = dydi * didf\n",
    "    dyde = dydf * dfde\n",
    "    dydd = dydh * dhdd\n",
    "    dydc = dydd * dddc\n",
    "    dydb = dydh * dhdb\n",
    "    dyda = dydb * dbda\n",
    "    \n",
    "    dydx_1 = dyda * dadx\n",
    "    dydx_2 = dydc * dcdx\n",
    "    dydx_3 = dyde * dedx\n",
    "    dydx_4 = dydg * dgdx\n",
    "    \n",
    "    dydx = dydx_1 + dydx_2 + dydx_3 + dydx_4\n",
    "    \n",
    "    return dydx\n",
    "\n",
    "def torch_function(x):\n",
    "    a = x**4\n",
    "    b = 8 * a\n",
    "    c = x ** 3\n",
    "    d = 3 * c\n",
    "    e = x ** 2\n",
    "    f = 7 * e\n",
    "    g = 6 * x\n",
    "    h = b + d\n",
    "    i = h + f\n",
    "    j = i + g\n",
    "    y = j + 3\n",
    "    \n",
    "    return y"
   ]
  },
  {
   "cell_type": "code",
   "execution_count": 3,
   "id": "f15b9d3c-a592-4d8c-bc04-552ee0ab0610",
   "metadata": {},
   "outputs": [],
   "source": [
    "input_x = 2.0\n",
    "\n",
    "x = torch.tensor(input_x, requires_grad=True)"
   ]
  },
  {
   "cell_type": "code",
   "execution_count": 4,
   "id": "3d236d64-b851-4118-8b78-01b66b0c3feb",
   "metadata": {},
   "outputs": [],
   "source": [
    "y = torch_function(x)\n",
    "y.backward()"
   ]
  },
  {
   "cell_type": "code",
   "execution_count": 5,
   "id": "1e42f028-1f3f-45b9-b40f-b09c14a86949",
   "metadata": {},
   "outputs": [
    {
     "name": "stdout",
     "output_type": "stream",
     "text": [
      "AutoGrad:  326.0\n",
      "Manual Grad:  326.0\n"
     ]
    }
   ],
   "source": [
    "print('AutoGrad: ', x.grad.item())\n",
    "print('Manual Grad: ', grad_manual(input_x))"
   ]
  },
  {
   "cell_type": "code",
   "execution_count": null,
   "id": "3235224c-b6ad-493a-923f-e2c0b1878bad",
   "metadata": {},
   "outputs": [],
   "source": []
  }
 ],
 "metadata": {
  "kernelspec": {
   "display_name": "Python 3 (ipykernel)",
   "language": "python",
   "name": "python3"
  },
  "language_info": {
   "codemirror_mode": {
    "name": "ipython",
    "version": 3
   },
   "file_extension": ".py",
   "mimetype": "text/x-python",
   "name": "python",
   "nbconvert_exporter": "python",
   "pygments_lexer": "ipython3",
   "version": "3.11.7"
  }
 },
 "nbformat": 4,
 "nbformat_minor": 5
}
