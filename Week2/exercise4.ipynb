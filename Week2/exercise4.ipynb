{
 "cells": [
  {
   "cell_type": "code",
   "execution_count": 1,
   "id": "7acfea37-26b3-4675-8e11-f2871d8ca74a",
   "metadata": {},
   "outputs": [],
   "source": [
    "import numpy as np\n",
    "import torch\n",
    "import torch.nn.functional as F"
   ]
  },
  {
   "cell_type": "code",
   "execution_count": 2,
   "id": "ee7d14ea-50f6-47e7-bf22-1bc03790539d",
   "metadata": {},
   "outputs": [],
   "source": [
    "def grad_manual(x):\n",
    "    a = x * x\n",
    "    b = - a\n",
    "    c = -2 * x\n",
    "    d = np.sin(x)\n",
    "    e = - d\n",
    "    f = np.exp(b + c + e)\n",
    "\n",
    "    dfdb = np.exp(b + c + e)\n",
    "    dfdc = np.exp(b + c + e)\n",
    "    dfde = np.exp(b + c + e)\n",
    "    dedd = -1\n",
    "    dddx = np.cos(x)\n",
    "    dcdx = -2\n",
    "    dbda = -1\n",
    "    dadx = 2 * x\n",
    "\n",
    "    dfda = dfdb * dbda\n",
    "    dfdx_1 = dfda * dadx\n",
    "    dfdx_2 = dfdc * dcdx\n",
    "    dfdd = dfde * dedd\n",
    "    dfdx_3 = dfdd * dddx\n",
    "\n",
    "    dfdx = dfdx_1 + dfdx_2 + dfdx_3\n",
    "    \n",
    "    return dfdx\n",
    "\n",
    "def torch_function(x):\n",
    "    a = x * x\n",
    "    b = - a\n",
    "    c = -2 * x\n",
    "    d = torch.sin(x)\n",
    "    e = - d\n",
    "    f = torch.exp(b + c + e)\n",
    "    \n",
    "    return f"
   ]
  },
  {
   "cell_type": "code",
   "execution_count": 3,
   "id": "52f20e1d-f619-474f-b434-654576c92300",
   "metadata": {},
   "outputs": [],
   "source": [
    "input_x = 1.0\n",
    "\n",
    "x = torch.tensor(input_x, requires_grad=True)"
   ]
  },
  {
   "cell_type": "code",
   "execution_count": 4,
   "id": "a975507d-56f8-424b-b9d5-b799655f7376",
   "metadata": {},
   "outputs": [],
   "source": [
    "f = torch_function(x)\n",
    "f.backward()"
   ]
  },
  {
   "cell_type": "code",
   "execution_count": 5,
   "id": "93b6764a-2607-4aeb-8fc8-f29ced8d9df2",
   "metadata": {},
   "outputs": [
    {
     "name": "stdout",
     "output_type": "stream",
     "text": [
      "AutoGrad:  -0.09744400531053543\n",
      "Manual Grad:  -0.09744400362337256\n"
     ]
    }
   ],
   "source": [
    "print('AutoGrad: ', x.grad.item())\n",
    "print('Manual Grad: ', grad_manual(input_x))"
   ]
  },
  {
   "cell_type": "code",
   "execution_count": null,
   "id": "01609140-543a-4af8-a1a4-1d3c8b46e13d",
   "metadata": {},
   "outputs": [],
   "source": []
  }
 ],
 "metadata": {
  "kernelspec": {
   "display_name": "Python 3 (ipykernel)",
   "language": "python",
   "name": "python3"
  },
  "language_info": {
   "codemirror_mode": {
    "name": "ipython",
    "version": 3
   },
   "file_extension": ".py",
   "mimetype": "text/x-python",
   "name": "python",
   "nbconvert_exporter": "python",
   "pygments_lexer": "ipython3",
   "version": "3.11.7"
  }
 },
 "nbformat": 4,
 "nbformat_minor": 5
}
