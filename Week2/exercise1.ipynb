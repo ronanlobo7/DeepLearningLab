{
 "cells": [
  {
   "cell_type": "code",
   "execution_count": 1,
   "id": "4978a2d2-d590-4804-9185-46fff09498aa",
   "metadata": {},
   "outputs": [],
   "source": [
    "import torch"
   ]
  },
  {
   "cell_type": "code",
   "execution_count": 2,
   "id": "a936effa-64ea-4b27-9cc4-405c36c06e73",
   "metadata": {},
   "outputs": [],
   "source": [
    "def grad_manual(a, b):\n",
    "    x = 2 * a + 3 * b\n",
    "    y = 5 * a * a + 3 * b * b * b\n",
    "    z = 2 * x + 3 * y\n",
    "\n",
    "    dzdx = 2\n",
    "    dzdy = 3\n",
    "    dxda = 2\n",
    "    dyda = 10 * a\n",
    "\n",
    "    dzda = dzdx * dxda + dzdy * dyda\n",
    "\n",
    "    return dzda\n",
    "\n",
    "def torch_function(a, b):\n",
    "    x = 2 * a + 3 * b\n",
    "    y = 5 * a * a + 3 * b * b * b\n",
    "    z = 2 * x + 3 * y\n",
    "\n",
    "    return z"
   ]
  },
  {
   "cell_type": "code",
   "execution_count": 3,
   "id": "bd37112f-248e-4e5c-8be0-e25d14e60ce1",
   "metadata": {},
   "outputs": [],
   "source": [
    "input_a = 1.0\n",
    "input_b = 2.0\n",
    "\n",
    "a = torch.tensor(input_a, requires_grad=True)\n",
    "b = torch.tensor(input_b, requires_grad=True)"
   ]
  },
  {
   "cell_type": "code",
   "execution_count": 4,
   "id": "b100a1ff-4bce-4f33-88fa-ee3a62529975",
   "metadata": {},
   "outputs": [],
   "source": [
    "z = torch_function(a, b)\n",
    "z.backward()"
   ]
  },
  {
   "cell_type": "code",
   "execution_count": 5,
   "id": "5122fd65-2cb3-4cb5-a330-33cc4ac4e016",
   "metadata": {},
   "outputs": [
    {
     "name": "stdout",
     "output_type": "stream",
     "text": [
      "AutoGrad:  34.0\n",
      "Manual Grad:  34.0\n"
     ]
    }
   ],
   "source": [
    "print('AutoGrad: ', a.grad.item())\n",
    "print('Manual Grad: ', grad_manual(input_a, input_b))"
   ]
  },
  {
   "cell_type": "code",
   "execution_count": null,
   "id": "55de5055-6959-40b2-9a96-d80f07cd7d1f",
   "metadata": {},
   "outputs": [],
   "source": []
  }
 ],
 "metadata": {
  "kernelspec": {
   "display_name": "Python 3 (ipykernel)",
   "language": "python",
   "name": "python3"
  },
  "language_info": {
   "codemirror_mode": {
    "name": "ipython",
    "version": 3
   },
   "file_extension": ".py",
   "mimetype": "text/x-python",
   "name": "python",
   "nbconvert_exporter": "python",
   "pygments_lexer": "ipython3",
   "version": "3.11.7"
  }
 },
 "nbformat": 4,
 "nbformat_minor": 5
}
