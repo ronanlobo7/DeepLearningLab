{
 "cells": [
  {
   "cell_type": "code",
   "execution_count": 1,
   "id": "c6e5534c-a7c5-45ff-86eb-6711189e6e2b",
   "metadata": {},
   "outputs": [],
   "source": [
    "import numpy as np\n",
    "import torch"
   ]
  },
  {
   "cell_type": "code",
   "execution_count": 2,
   "id": "15d6e351-083c-421b-b3ee-71b528c10029",
   "metadata": {},
   "outputs": [],
   "source": [
    "def grad_manual(x, y, z):\n",
    "    a = 2 * x\n",
    "    b = np.sin(y)\n",
    "    c = a / b\n",
    "    d = c * z\n",
    "    e = np.log(d + 1)\n",
    "    f = np.tanh(e)\n",
    "\n",
    "    dfde = 1 - np.tanh(e)**2\n",
    "    dedd = 1 / (d + 1)\n",
    "    dddz = c\n",
    "    dddc = z\n",
    "    dcdb = -a / b**2\n",
    "    dbda = 1 / b\n",
    "    dbdy = np.cos(y)\n",
    "    dadx = 2\n",
    "\n",
    "    dfdd = dfde * dedd\n",
    "    dfdc = dfdd * dddc\n",
    "    dfdb = dfdc * dcdb\n",
    "    dfdy = dfdb * dbdy\n",
    "    \n",
    "    return dfdy\n",
    "\n",
    "def torch_function(x, y, z):\n",
    "    a = 2 * x\n",
    "    b = torch.sin(y)\n",
    "    c = a / b\n",
    "    d = c * z\n",
    "    e = torch.log(d + 1)\n",
    "    f = torch.tanh(e)\n",
    "    \n",
    "    return f"
   ]
  },
  {
   "cell_type": "code",
   "execution_count": 3,
   "id": "8bd5244d-5f64-45e6-a3ff-9771d91d4b30",
   "metadata": {},
   "outputs": [],
   "source": [
    "input_x = 1.0\n",
    "input_y = 2.0\n",
    "input_z = 3.0\n",
    "\n",
    "x = torch.tensor(input_x, requires_grad=True)\n",
    "y = torch.tensor(input_y, requires_grad=True)\n",
    "z = torch.tensor(input_z, requires_grad=True)"
   ]
  },
  {
   "cell_type": "code",
   "execution_count": 4,
   "id": "cba74893-d5cf-4784-88b7-fa129f2f8c4f",
   "metadata": {},
   "outputs": [],
   "source": [
    "f = torch_function(x, y, z)\n",
    "f.backward()"
   ]
  },
  {
   "cell_type": "code",
   "execution_count": 5,
   "id": "809721ef-d044-49b7-b43d-f2da274d1e49",
   "metadata": {},
   "outputs": [
    {
     "name": "stdout",
     "output_type": "stream",
     "text": [
      "AutoGrad:  0.026604030281305313\n",
      "Manual Grad:  0.02660400976902784\n"
     ]
    }
   ],
   "source": [
    "print('AutoGrad: ', y.grad.item())\n",
    "print('Manual Grad: ', grad_manual(input_x, input_y, input_z))"
   ]
  },
  {
   "cell_type": "code",
   "execution_count": null,
   "id": "38e9cec5-177f-4054-9fb5-74235f2000ae",
   "metadata": {},
   "outputs": [],
   "source": []
  }
 ],
 "metadata": {
  "kernelspec": {
   "display_name": "Python 3 (ipykernel)",
   "language": "python",
   "name": "python3"
  },
  "language_info": {
   "codemirror_mode": {
    "name": "ipython",
    "version": 3
   },
   "file_extension": ".py",
   "mimetype": "text/x-python",
   "name": "python",
   "nbconvert_exporter": "python",
   "pygments_lexer": "ipython3",
   "version": "3.11.7"
  }
 },
 "nbformat": 4,
 "nbformat_minor": 5
}
