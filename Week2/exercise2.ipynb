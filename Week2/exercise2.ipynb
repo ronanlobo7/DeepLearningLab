{
 "cells": [
  {
   "cell_type": "code",
   "execution_count": 1,
   "id": "5e407a58-1f0d-4d70-aad6-defd54028e3f",
   "metadata": {},
   "outputs": [],
   "source": [
    "import torch\n",
    "import torch.nn.functional as F"
   ]
  },
  {
   "cell_type": "code",
   "execution_count": 2,
   "id": "d9ff40e3-f62b-4205-8250-ce27e6eace68",
   "metadata": {},
   "outputs": [],
   "source": [
    "relu = lambda x: x if x >= 0 else 0\n",
    "grad_relu = lambda x: 1 if x >= 0 else 0\n",
    "\n",
    "def grad_manual(w, x, b):\n",
    "    u = w * x\n",
    "    v = u + b\n",
    "    a = relu(v)\n",
    "\n",
    "    dadv = grad_relu(v)\n",
    "    dvdu = 1\n",
    "    dudw = x\n",
    "\n",
    "    dadu = dadv * dvdu\n",
    "    dadw = dadu * dudw\n",
    "    \n",
    "    return dadw\n",
    "\n",
    "def torch_function(w, x, b):\n",
    "    u = w * x\n",
    "    v = u + b\n",
    "    a = F.relu(v)\n",
    "    \n",
    "    return a"
   ]
  },
  {
   "cell_type": "code",
   "execution_count": 3,
   "id": "f01ca46e-da80-4bb7-8f01-3ba2af0ef471",
   "metadata": {},
   "outputs": [],
   "source": [
    "input_w = 1.0\n",
    "input_x = 2.0\n",
    "input_b = 3.0\n",
    "\n",
    "w = torch.tensor(input_w, requires_grad=True)\n",
    "x = torch.tensor(input_x, requires_grad=False)\n",
    "b = torch.tensor(input_b, requires_grad=True)"
   ]
  },
  {
   "cell_type": "code",
   "execution_count": 4,
   "id": "8c32096d-d111-427c-bc21-2eca21b5f99f",
   "metadata": {},
   "outputs": [],
   "source": [
    "z = torch_function(w, x, b)\n",
    "z.backward()"
   ]
  },
  {
   "cell_type": "code",
   "execution_count": 5,
   "id": "bd92883a-2d1d-4e71-88f8-4a9d58cfa1cf",
   "metadata": {},
   "outputs": [
    {
     "name": "stdout",
     "output_type": "stream",
     "text": [
      "AutoGrad:  2.0\n",
      "Manual Grad:  2.0\n"
     ]
    }
   ],
   "source": [
    "print('AutoGrad: ', w.grad.item())\n",
    "print('Manual Grad: ', grad_manual(input_w, input_x, input_b))"
   ]
  },
  {
   "cell_type": "code",
   "execution_count": null,
   "id": "e8c75553-6f53-492b-ad6c-11c4602a3997",
   "metadata": {},
   "outputs": [],
   "source": []
  }
 ],
 "metadata": {
  "kernelspec": {
   "display_name": "Python 3 (ipykernel)",
   "language": "python",
   "name": "python3"
  },
  "language_info": {
   "codemirror_mode": {
    "name": "ipython",
    "version": 3
   },
   "file_extension": ".py",
   "mimetype": "text/x-python",
   "name": "python",
   "nbconvert_exporter": "python",
   "pygments_lexer": "ipython3",
   "version": "3.11.7"
  }
 },
 "nbformat": 4,
 "nbformat_minor": 5
}
