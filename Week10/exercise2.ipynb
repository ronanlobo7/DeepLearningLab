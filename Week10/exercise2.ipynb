{
 "cells": [
  {
   "cell_type": "markdown",
   "id": "60b37b92-5248-44f2-8252-e477e5c85ae0",
   "metadata": {},
   "source": [
    "### Data Preparation"
   ]
  },
  {
   "cell_type": "code",
   "execution_count": 1,
   "id": "47f6e443-e9d6-4e07-97e5-5bcc9ed76094",
   "metadata": {},
   "outputs": [],
   "source": [
    "from io import open\n",
    "import glob\n",
    "import os"
   ]
  },
  {
   "cell_type": "code",
   "execution_count": 2,
   "id": "fe6d4447-3c0e-41bb-a183-59fa0b1fedf5",
   "metadata": {},
   "outputs": [],
   "source": [
    "def findFiles(path):\n",
    "    return glob.glob(path)"
   ]
  },
  {
   "cell_type": "code",
   "execution_count": 3,
   "id": "9206caec-3e19-4062-869d-46bae55c3e9c",
   "metadata": {},
   "outputs": [
    {
     "name": "stdout",
     "output_type": "stream",
     "text": [
      "['../data/Names/names/French.txt', '../data/Names/names/Vietnamese.txt', '../data/Names/names/English.txt', '../data/Names/names/Greek.txt', '../data/Names/names/Dutch.txt', '../data/Names/names/German.txt', '../data/Names/names/Irish.txt', '../data/Names/names/Czech.txt', '../data/Names/names/Arabic.txt', '../data/Names/names/Russian.txt', '../data/Names/names/Portuguese.txt', '../data/Names/names/Chinese.txt', '../data/Names/names/Spanish.txt', '../data/Names/names/Korean.txt', '../data/Names/names/Scottish.txt', '../data/Names/names/Japanese.txt', '../data/Names/names/Italian.txt', '../data/Names/names/Polish.txt']\n"
     ]
    }
   ],
   "source": [
    "print(findFiles('../data/Names/names/*.txt'))"
   ]
  },
  {
   "cell_type": "code",
   "execution_count": 4,
   "id": "39452180-5bd5-4124-b1a6-23faf27869d9",
   "metadata": {},
   "outputs": [],
   "source": [
    "import unicodedata\n",
    "import string"
   ]
  },
  {
   "cell_type": "code",
   "execution_count": 5,
   "id": "f6bcc6c1-7526-497a-9d9a-752cca9fcade",
   "metadata": {},
   "outputs": [],
   "source": [
    "all_letters = string.ascii_letters + \".,;'\"\n",
    "n_letters = len(all_letters)"
   ]
  },
  {
   "cell_type": "code",
   "execution_count": 6,
   "id": "32e45ec6-5d8b-4e25-aa3e-a804b427a65e",
   "metadata": {},
   "outputs": [],
   "source": [
    "def unicodeToAscii(s):\n",
    "    return ''.join(\n",
    "        c for c in unicodedata.normalize('NFD', s) \n",
    "        if unicodedata.category(c) != 'Mn'\n",
    "        and c in all_letters\n",
    "    )"
   ]
  },
  {
   "cell_type": "code",
   "execution_count": 7,
   "id": "52027694-41b2-4011-8538-670b6b9bee34",
   "metadata": {},
   "outputs": [
    {
     "name": "stdout",
     "output_type": "stream",
     "text": [
      "Slusarski\n"
     ]
    }
   ],
   "source": [
    "print(unicodeToAscii('Ślusàrski'))"
   ]
  },
  {
   "cell_type": "code",
   "execution_count": 8,
   "id": "23a2a774-179e-466f-9999-c0d34f4d9061",
   "metadata": {},
   "outputs": [],
   "source": [
    "category_lines = {}\n",
    "all_categories = []"
   ]
  },
  {
   "cell_type": "code",
   "execution_count": 9,
   "id": "2e02b32d-eb6f-49ae-975f-57e245e43039",
   "metadata": {},
   "outputs": [],
   "source": [
    "def readLines(filename):\n",
    "    lines = open(filename, encoding='utf-8').read().strip().split('\\n')\n",
    "    return [unicodeToAscii(line) for line in lines]"
   ]
  },
  {
   "cell_type": "code",
   "execution_count": 10,
   "id": "98a837a3-857f-486a-ada7-05b9e79b9e09",
   "metadata": {},
   "outputs": [],
   "source": [
    "for filename in findFiles('../data/Names/names/*.txt'):\n",
    "    category = os.path.splitext(os.path.basename(filename))[0]\n",
    "    all_categories.append(category)\n",
    "    lines = readLines(filename)\n",
    "    category_lines[category] = lines\n",
    "\n",
    "n_categories = len(all_categories)"
   ]
  },
  {
   "cell_type": "code",
   "execution_count": 11,
   "id": "02ff67e6-9d05-467f-bbc8-6cddc3922465",
   "metadata": {},
   "outputs": [
    {
     "name": "stdout",
     "output_type": "stream",
     "text": [
      "['Abandonato', 'Abatangelo', 'Abatantuono', 'Abate', 'Abategiovanni']\n"
     ]
    }
   ],
   "source": [
    "print(category_lines['Italian'][:5])"
   ]
  },
  {
   "cell_type": "markdown",
   "id": "404c6860-c524-4623-9533-3a553d040116",
   "metadata": {},
   "source": [
    "### Turning Names into Tensors"
   ]
  },
  {
   "cell_type": "code",
   "execution_count": 12,
   "id": "be6f8b86-0a3c-4af2-a6e2-76949dc91600",
   "metadata": {},
   "outputs": [],
   "source": [
    "import torch"
   ]
  },
  {
   "cell_type": "code",
   "execution_count": 13,
   "id": "30374253-1128-40ac-ac69-5f9c3ee54b8e",
   "metadata": {},
   "outputs": [],
   "source": [
    "def letterToIndex(letter):\n",
    "    return all_letters.find(letter)\n",
    "\n",
    "def letterToTensor(letter):\n",
    "    tensor = torch.zeros(1, n_letters)\n",
    "    tensor[0][letterToIndex(letter)] = 1\n",
    "    return tensor\n",
    "\n",
    "def lineToTensor(line):\n",
    "    tensor = torch.zeros(len(line), 1, n_letters)\n",
    "    for li, letter in enumerate(line):\n",
    "        tensor[li][0][letterToIndex(letter)] = 1\n",
    "    return tensor"
   ]
  },
  {
   "cell_type": "code",
   "execution_count": 14,
   "id": "c6e17c42-1de0-4fcc-bd03-13e029478228",
   "metadata": {},
   "outputs": [
    {
     "name": "stdout",
     "output_type": "stream",
     "text": [
      "tensor([[0., 0., 0., 0., 0., 0., 0., 0., 0., 0., 0., 0., 0., 0., 0., 0., 0., 0.,\n",
      "         0., 0., 0., 0., 0., 0., 0., 0., 0., 0., 0., 0., 0., 0., 0., 0., 0., 1.,\n",
      "         0., 0., 0., 0., 0., 0., 0., 0., 0., 0., 0., 0., 0., 0., 0., 0., 0., 0.,\n",
      "         0., 0.]])\n"
     ]
    }
   ],
   "source": [
    "print(letterToTensor('J'))"
   ]
  },
  {
   "cell_type": "code",
   "execution_count": 15,
   "id": "54948a56-a25c-42e7-bc26-ed2914655e82",
   "metadata": {},
   "outputs": [
    {
     "name": "stdout",
     "output_type": "stream",
     "text": [
      "torch.Size([5, 1, 56])\n"
     ]
    }
   ],
   "source": [
    "print(lineToTensor('Jones').size())"
   ]
  },
  {
   "cell_type": "markdown",
   "id": "c081ce08-c764-443e-92a4-a038cc98d8e2",
   "metadata": {},
   "source": [
    "### Creating the Network"
   ]
  },
  {
   "cell_type": "code",
   "execution_count": 16,
   "id": "27e235db-9a3d-4277-a09e-5607cbb55d24",
   "metadata": {},
   "outputs": [],
   "source": [
    "import torch.nn as nn\n",
    "\n",
    "class RNN(nn.Module):\n",
    "    def __init__(self, input_size, hidden_size, output_size):\n",
    "        super(RNN, self).__init__()\n",
    "\n",
    "        self.hidden_size = hidden_size\n",
    "\n",
    "        self.i2h = nn.Linear(input_size + hidden_size, hidden_size)\n",
    "        self.h2o = nn.Linear(hidden_size, output_size)\n",
    "        self.softmax = nn.LogSoftmax(dim=1)\n",
    "\n",
    "    def forward(self, input, hidden):\n",
    "        combined = torch.cat((input, hidden), 1)\n",
    "        hidden = self.i2h(combined)\n",
    "        output = self.h2o(hidden)\n",
    "        output = self.softmax(output)\n",
    "        return output, hidden\n",
    "\n",
    "    def initHidden(self):\n",
    "        return torch.zeros(1, self.hidden_size)"
   ]
  },
  {
   "cell_type": "code",
   "execution_count": 17,
   "id": "1bcf7c0c-e22e-43fc-840d-403b2433035a",
   "metadata": {},
   "outputs": [],
   "source": [
    "n_hidden = 128\n",
    "rnn = RNN(n_letters, n_hidden, n_categories)"
   ]
  },
  {
   "cell_type": "code",
   "execution_count": 18,
   "id": "030e0385-902b-465e-9cf9-f6e5cb2bdf9d",
   "metadata": {},
   "outputs": [],
   "source": [
    "input = letterToTensor('A')\n",
    "hidden = torch.zeros(1, n_hidden)\n",
    "\n",
    "output, hidden = rnn(input, hidden)"
   ]
  },
  {
   "cell_type": "code",
   "execution_count": 19,
   "id": "151649c5-3777-4fb1-a6e2-543d29fc8705",
   "metadata": {},
   "outputs": [
    {
     "name": "stdout",
     "output_type": "stream",
     "text": [
      "tensor([[-2.9163, -2.8433, -2.8816, -2.8603, -2.8055, -2.9289, -2.9255, -2.9323,\n",
      "         -2.8359, -2.9467, -2.8892, -2.9629, -2.8685, -2.8795, -2.9437, -2.7871,\n",
      "         -2.8995, -2.9419]], grad_fn=<LogSoftmaxBackward0>)\n"
     ]
    }
   ],
   "source": [
    "input = lineToTensor('Albert')\n",
    "hidden = torch.zeros(1, n_hidden)\n",
    "\n",
    "output, next_hidden = rnn(input[0], hidden)\n",
    "print(output)"
   ]
  },
  {
   "cell_type": "markdown",
   "id": "4ae91a4d-385c-4976-9d52-d522f8d0e650",
   "metadata": {},
   "source": [
    "### Training"
   ]
  },
  {
   "cell_type": "markdown",
   "id": "0cc76387-95ef-4c1e-b991-1d10f8e1473e",
   "metadata": {},
   "source": [
    "#### Preparing for Training"
   ]
  },
  {
   "cell_type": "code",
   "execution_count": 20,
   "id": "f193d49e-2f29-425c-be57-12b8478c39e5",
   "metadata": {},
   "outputs": [],
   "source": [
    "def categoryFromOutput(output):\n",
    "    top_n, top_i = output.topk(1)\n",
    "    category_i = top_i[0].item()\n",
    "    return all_categories[category_i], category_i"
   ]
  },
  {
   "cell_type": "code",
   "execution_count": 21,
   "id": "9a007455-490c-40fa-8b08-46e2f6cce20e",
   "metadata": {},
   "outputs": [
    {
     "name": "stdout",
     "output_type": "stream",
     "text": [
      "('Japanese', 15)\n"
     ]
    }
   ],
   "source": [
    "print(categoryFromOutput(output))"
   ]
  },
  {
   "cell_type": "code",
   "execution_count": 22,
   "id": "da65e319-2531-4f1a-811d-fb2ed9c95b6a",
   "metadata": {},
   "outputs": [],
   "source": [
    "import random"
   ]
  },
  {
   "cell_type": "code",
   "execution_count": 23,
   "id": "ea2b88b6-1458-4f03-b6c9-45a25e166c1b",
   "metadata": {},
   "outputs": [],
   "source": [
    "def randomChoice(l):\n",
    "    return l[random.randint(0, len(l) - 1)]\n",
    "\n",
    "def randomTrainingExample():\n",
    "    category = randomChoice(all_categories)\n",
    "    line = randomChoice(category_lines[category])\n",
    "    category_tensor = torch.tensor([all_categories.index(category)], dtype=torch.long)\n",
    "    line_tensor = lineToTensor(line)\n",
    "    return category, line, category_tensor, line_tensor"
   ]
  },
  {
   "cell_type": "code",
   "execution_count": 24,
   "id": "a33738a7-1bab-4959-90f1-43a003edf765",
   "metadata": {},
   "outputs": [
    {
     "name": "stdout",
     "output_type": "stream",
     "text": [
      "category = Greek / line = Karkampasis\n",
      "category = French / line = Vipond\n",
      "category = Dutch / line = Horn\n",
      "category = Irish / line = Delaney\n",
      "category = Japanese / line = Shigeki\n",
      "category = Vietnamese / line = Diep\n",
      "category = Czech / line = Cernochova\n",
      "category = Polish / line = Rutkowski\n",
      "category = French / line = Mercier\n",
      "category = Irish / line = Connolly\n"
     ]
    }
   ],
   "source": [
    "for i in range(10):\n",
    "    category, line, category_tensor, line_tensor = randomTrainingExample()\n",
    "    print('category =', category, '/ line =', line)"
   ]
  },
  {
   "cell_type": "markdown",
   "id": "9eb9132c-8a0e-43f0-8155-323e81ba7dc4",
   "metadata": {},
   "source": [
    "#### Training the Network"
   ]
  },
  {
   "cell_type": "code",
   "execution_count": 25,
   "id": "9b15c7cf-45a9-490e-8289-9feab5b17174",
   "metadata": {},
   "outputs": [],
   "source": [
    "device = torch.device('cuda' if torch.cuda.is_available() else 'cpu')\n",
    "criterion = nn.NLLLoss()"
   ]
  },
  {
   "cell_type": "code",
   "execution_count": 26,
   "id": "5eb1c719-f7b2-4d08-a0ec-504e654e747d",
   "metadata": {},
   "outputs": [],
   "source": [
    "rnn = rnn.to(device)"
   ]
  },
  {
   "cell_type": "code",
   "execution_count": 27,
   "id": "db45400a-ec52-4026-906d-0d0128837414",
   "metadata": {},
   "outputs": [],
   "source": [
    "learning_rate = 0.005\n",
    "\n",
    "def train(category_tensor, line_tensor):\n",
    "    hidden = rnn.initHidden().to(device)\n",
    "    rnn.zero_grad()\n",
    "\n",
    "    for i in range(line_tensor.size()[0]):\n",
    "        output, hidden = rnn(line_tensor[i], hidden)\n",
    "\n",
    "    loss = criterion(output, category_tensor)\n",
    "    loss.backward()\n",
    "\n",
    "    for p in rnn.parameters():\n",
    "        p.data.add_(p.grad.data, alpha=-learning_rate)\n",
    "\n",
    "    return output, loss.item()"
   ]
  },
  {
   "cell_type": "code",
   "execution_count": 28,
   "id": "acd08c6f-aaf9-4af4-ba33-a1ff29a1951e",
   "metadata": {},
   "outputs": [],
   "source": [
    "import time \n",
    "import math"
   ]
  },
  {
   "cell_type": "code",
   "execution_count": 29,
   "id": "bd20f84a-58d6-472e-95dd-b89d1818bd32",
   "metadata": {},
   "outputs": [
    {
     "name": "stdout",
     "output_type": "stream",
     "text": [
      "5000 5% (0m 17s) 1.6645 Poniros / Greek ✓\n",
      "10000 10% (0m 35s) 2.6385 Mcintosh / Czech ✗ (Scottish)\n",
      "15000 15% (0m 53s) 1.2865 Rui / Chinese ✓\n",
      "20000 20% (1m 10s) 1.8485 Chaput / French ✓\n",
      "25000 25% (1m 27s) 3.6713 Jez / Korean ✗ (Polish)\n",
      "30000 30% (1m 45s) 2.5855 Vilchek / Czech ✗ (Russian)\n",
      "35000 35% (2m 3s) 3.1200 D'cruze / French ✗ (Portuguese)\n",
      "40000 40% (2m 20s) 1.3876 Garcia / Italian ✗ (Portuguese)\n",
      "45000 45% (2m 37s) 0.7979 Xie / Chinese ✓\n",
      "50000 50% (2m 55s) 1.0418 Mersinias / Greek ✓\n",
      "55000 55% (3m 12s) 4.3076 Cerney / Irish ✗ (Czech)\n",
      "60000 60% (3m 30s) 0.6957 Odaka / Japanese ✓\n",
      "65000 65% (3m 47s) 1.6419 Freudenberger / French ✗ (German)\n",
      "70000 70% (4m 5s) 1.1950 Brand / Scottish ✗ (German)\n",
      "75000 75% (4m 22s) 0.0814 Roncalli / Italian ✓\n",
      "80000 80% (4m 39s) 1.4564 Cabello / Italian ✗ (Spanish)\n",
      "85000 85% (4m 57s) 0.6261 Salvage / French ✓\n",
      "90000 90% (5m 15s) 0.9838 Makuda / Japanese ✓\n",
      "95000 95% (5m 32s) 0.3716 Salamanca / Spanish ✓\n",
      "100000 100% (5m 49s) 2.5668 Kubin / Russian ✗ (Czech)\n"
     ]
    }
   ],
   "source": [
    "n_iters = 100000\n",
    "print_every = 5000\n",
    "plot_every = 1000\n",
    "\n",
    "current_loss = 0\n",
    "all_losses = []\n",
    "\n",
    "def timeSince(since):\n",
    "    now = time.time()\n",
    "    s = now - since\n",
    "    m = math.floor(s / 60)\n",
    "    s -= m * 60\n",
    "    return '%dm %ds' % (m, s)\n",
    "\n",
    "start = time.time()\n",
    "\n",
    "for iter in range(1, n_iters + 1):\n",
    "    category, line, category_tensor, line_tensor = randomTrainingExample()\n",
    "    category_tensor, line_tensor = category_tensor.to(device), line_tensor.to(device)\n",
    "    output, loss = train(category_tensor, line_tensor)\n",
    "    current_loss += loss\n",
    "\n",
    "    if iter % print_every == 0:\n",
    "        guess, guess_i = categoryFromOutput(output)\n",
    "        correct = '✓' if guess == category else '✗ (%s)' % category\n",
    "        print('%d %d%% (%s) %.4f %s / %s %s' % (\n",
    "            iter, iter / n_iters * 100, timeSince(start), loss, line, guess, correct\n",
    "        ))\n",
    "\n",
    "    if iter % plot_every == 0:\n",
    "        all_losses.append(current_loss / plot_every)\n",
    "        current_loss = 0"
   ]
  },
  {
   "cell_type": "markdown",
   "id": "18d247e2-57c0-4b45-ade9-2258dfde60ec",
   "metadata": {},
   "source": [
    "#### Plotting the Results"
   ]
  },
  {
   "cell_type": "code",
   "execution_count": 30,
   "id": "7fbba8d1-a261-4f9e-b717-1cff0270f718",
   "metadata": {},
   "outputs": [
    {
     "data": {
      "image/png": "[encoded data removed]",
      "text/plain": [
       "<Figure size 640x480 with 1 Axes>"
      ]
     },
     "metadata": {},
     "output_type": "display_data"
    }
   ],
   "source": [
    "import matplotlib.pyplot as plt\n",
    "import matplotlib.ticker as ticker\n",
    "\n",
    "plt.figure()\n",
    "plt.plot(all_losses)\n",
    "plt.show()"
   ]
  },
  {
   "cell_type": "markdown",
   "id": "21b9726c-35ce-49bd-a6dc-33cc505b87f0",
   "metadata": {},
   "source": [
    "### Evaluating the Results"
   ]
  },
  {
   "cell_type": "code",
   "execution_count": 31,
   "id": "f144067b-f1a5-4629-80b4-72f5da89cfa6",
   "metadata": {},
   "outputs": [
    {
     "name": "stderr",
     "output_type": "stream",
     "text": [
      "/tmp/ipykernel_1509742/4086733437.py:28: UserWarning: set_ticklabels() should only be used with a fixed number of ticks, i.e. after set_ticks() or using a FixedLocator.\n",
      "  ax.set_xticklabels([''] + all_categories, rotation=90)\n",
      "/tmp/ipykernel_1509742/4086733437.py:29: UserWarning: set_ticklabels() should only be used with a fixed number of ticks, i.e. after set_ticks() or using a FixedLocator.\n",
      "  ax.set_yticklabels([''] + all_categories)\n"
     ]
    },
    {
     "data": {
      "image/png": "[encoded data removed]",
      "text/plain": [
       "<Figure size 640x480 with 2 Axes>"
      ]
     },
     "metadata": {},
     "output_type": "display_data"
    }
   ],
   "source": [
    "confusion = torch.zeros(n_categories, n_categories)\n",
    "n_confusion = 10000\n",
    "\n",
    "def evaluate(line_tensor):\n",
    "    hidden = rnn.initHidden().to(device)\n",
    "\n",
    "    for i in range(line_tensor.size()[0]):\n",
    "        output, hidden = rnn(line_tensor[i], hidden)\n",
    "\n",
    "    return output\n",
    "\n",
    "for i in range(n_confusion):\n",
    "    category, line, category_tensor, line_tensor = randomTrainingExample()\n",
    "    category_tensor, line_tensor = category_tensor.to(device), line_tensor.to(device)\n",
    "    output = evaluate(line_tensor)\n",
    "    guess, guess_i = categoryFromOutput(output)\n",
    "    category_i = all_categories.index(category)\n",
    "    confusion[category_i][guess_i] += 1\n",
    "\n",
    "for i in range(n_categories):\n",
    "    confusion[i] = confusion[i] / confusion[i].sum()\n",
    "\n",
    "fig = plt.figure()\n",
    "ax = fig.add_subplot(111)\n",
    "cax = ax.matshow(confusion.numpy())\n",
    "fig.colorbar(cax)\n",
    "\n",
    "ax.set_xticklabels([''] + all_categories, rotation=90)\n",
    "ax.set_yticklabels([''] + all_categories)\n",
    "\n",
    "ax.xaxis.set_major_locator(ticker.MultipleLocator(1))\n",
    "ax.yaxis.set_major_locator(ticker.MultipleLocator(1))\n",
    "\n",
    "plt.show()"
   ]
  },
  {
   "cell_type": "code",
   "execution_count": 32,
   "id": "b21de48c-4448-496f-8a6c-f8466d87a308",
   "metadata": {},
   "outputs": [
    {
     "name": "stdout",
     "output_type": "stream",
     "text": [
      "\n",
      "> Dovesky\n",
      "(-0.26) Czech\n",
      "(-2.13) Russian\n",
      "(-2.85) English\n",
      "\n",
      "> Jackson\n",
      "(-0.56) Scottish\n",
      "(-2.06) English\n",
      "(-2.21) French\n",
      "\n",
      "> Satoshi\n",
      "(-1.00) Italian\n",
      "(-1.49) Polish\n",
      "(-1.89) Japanese\n"
     ]
    }
   ],
   "source": [
    "def predict(input_line, n_predictions=3):\n",
    "    print('\\n> %s' % input_line)\n",
    "    with torch.no_grad():\n",
    "        output = evaluate(lineToTensor(input_line).to(device))\n",
    "\n",
    "        # Get top N categories\n",
    "        topv, topi = output.topk(n_predictions, 1, True)\n",
    "        predictions = []\n",
    "\n",
    "        for i in range(n_predictions):\n",
    "            value = topv[0][i].item()\n",
    "            category_index = topi[0][i].item()\n",
    "            print('(%.2f) %s' % (value, all_categories[category_index]))\n",
    "            predictions.append([value, all_categories[category_index]])\n",
    "\n",
    "predict('Dovesky')\n",
    "predict('Jackson')\n",
    "predict('Satoshi')"
   ]
  },
  {
   "cell_type": "code",
   "execution_count": null,
   "id": "6d77746e-2bea-4842-a385-5ffdc7247be2",
   "metadata": {},
   "outputs": [],
   "source": []
  }
 ],
 "metadata": {
  "kernelspec": {
   "display_name": "Python 3 (ipykernel)",
   "language": "python",
   "name": "python3"
  },
  "language_info": {
   "codemirror_mode": {
    "name": "ipython",
    "version": 3
   },
   "file_extension": ".py",
   "mimetype": "text/x-python",
   "name": "python",
   "nbconvert_exporter": "python",
   "pygments_lexer": "ipython3",
   "version": "3.11.7"
  }
 },
 "nbformat": 4,
 "nbformat_minor": 5
}
