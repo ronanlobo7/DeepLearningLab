{
  "nbformat": 4,
  "nbformat_minor": 0,
  "metadata": {
    "colab": {
      "provenance": [],
      "gpuType": "T4"
    },
    "kernelspec": {
      "name": "python3",
      "display_name": "Python 3"
    },
    "language_info": {
      "name": "python"
    },
    "accelerator": "GPU"
  },
  "cells": [
    {
      "cell_type": "markdown",
      "source": [
        "Implement L1 regularization on cat-dog classification neural network. Train the model on the dataset, and observe the impact of the regularization on the weight parameters. (Do not use data augmentation)."
      ],
      "metadata": {
        "id": "YC2gsoCGAx21"
      }
    },
    {
      "cell_type": "markdown",
      "source": [
        "b. L1 regularization using loop to find L1 norm of weights"
      ],
      "metadata": {
        "id": "Rns1wi0vA3de"
      }
    },
    {
      "cell_type": "code",
      "source": [
        "import warnings\n",
        "\n",
        "warnings.filterwarnings(\"ignore\")"
      ],
      "metadata": {
        "id": "xZWzwjtOBCJE"
      },
      "execution_count": 5,
      "outputs": []
    },
    {
      "cell_type": "code",
      "source": [
        "import PIL.Image as Image\n",
        "import pandas as pd\n",
        "import glob\n",
        "import torch\n",
        "import torch.nn as nn\n",
        "import torch.optim as optim\n",
        "from torch.utils.data import Dataset, DataLoader\n",
        "from torchvision.models import AlexNet_Weights\n",
        "from torchvision import transforms as T"
      ],
      "metadata": {
        "id": "MAmpBsiKBCLr"
      },
      "execution_count": 6,
      "outputs": []
    },
    {
      "cell_type": "code",
      "source": [
        "EPOCHS = 10\n",
        "BATCH_SIZE_TRAIN = 16\n",
        "BATCH_SIZE_TEST = 100\n",
        "LR = 0.001\n",
        "REGULARIZATION = 1\n",
        "WEIGHT_DECAY = 0.001\n",
        "DEVICE = torch.device(\"cuda\" if torch.cuda.is_available() else \"cpu\")\n",
        "TRANSFORM = T.Compose([\n",
        "    T.ToTensor(),\n",
        "    T.Resize([224, 224]),\n",
        "    T.Normalize([0.485, 0.456, 0.406], [0.229, 0.224, 0.225])\n",
        "])\n",
        "CLASSES = {'dogs': 0, 'cats': 1}"
      ],
      "metadata": {
        "id": "99w3_YSvBCOS"
      },
      "execution_count": 7,
      "outputs": []
    },
    {
      "cell_type": "code",
      "source": [
        "def get_df(path, classes=['dogs', 'cats']):\n",
        "    paths = pd.DataFrame({'class': [], 'path': []})\n",
        "    for c in classes:\n",
        "        df = pd.DataFrame({\n",
        "            'class': c,\n",
        "            'path': glob.glob(path + c + '/*')\n",
        "        })\n",
        "\n",
        "        paths = pd.concat([paths, df])\n",
        "\n",
        "    paths.reset_index(inplace=False)\n",
        "\n",
        "    return paths\n",
        "\n",
        "\n",
        "class CatDogDataset(Dataset):\n",
        "    def __init__(self, df, classes, transform=None):\n",
        "        self.paths = df\n",
        "        self.classes = classes\n",
        "        self.transform = transform\n",
        "\n",
        "    def __len__(self):\n",
        "        return len(self.paths)\n",
        "\n",
        "    def __getitem__(self, idx):\n",
        "        row = self.paths.iloc[idx]\n",
        "        img = Image.open(row['path'])\n",
        "        if self.transform is not None:\n",
        "            return self.transform(img), self.classes[row['class']]\n",
        "        else:\n",
        "            return img, self.classes[row['class']]\n",
        "\n",
        "\n",
        "def get_model():\n",
        "    model = torch.hub.load('pytorch/vision:v0.10.0', 'alexnet', weights=AlexNet_Weights.DEFAULT)\n",
        "    model.features.requires_grad = False\n",
        "    model.classifier = nn.Sequential(\n",
        "        *model.classifier[:-1],\n",
        "        nn.Linear(4096, 2, bias=True)\n",
        "    )\n",
        "    return model"
      ],
      "metadata": {
        "id": "4v9jmjXQBCQo"
      },
      "execution_count": 8,
      "outputs": []
    },
    {
      "cell_type": "code",
      "source": [
        "def train_with_regularization(model, train_loader, criterion, optimizer, regularization=2, lambda_val=0.001, device=\"cpu\"):\n",
        "    model.train()\n",
        "    running_loss = 0.0\n",
        "    correct = 0\n",
        "    for batch_idx, (data, target) in enumerate(train_loader):\n",
        "        data, target = data.to(device), target.to(device)\n",
        "        optimizer.zero_grad()\n",
        "        output = model(data)\n",
        "        loss = criterion(output, target)\n",
        "        running_loss += loss.item() * len(data)\n",
        "        norm = sum(torch.norm(p, regularization) for p in model.parameters())\n",
        "        loss = loss + lambda_val * norm\n",
        "        loss.backward()\n",
        "        optimizer.step()\n",
        "        pred = output.data.max(1, keepdim=True)[1]\n",
        "        correct += pred.eq(target.data.view_as(pred)).sum()\n",
        "    running_loss /= len(train_loader.dataset)\n",
        "    acc = 100. * correct / len(train_loader.dataset)\n",
        "    return acc, running_loss\n",
        "\n",
        "def test(model, test_loader, criterion, device=\"cpu\"):\n",
        "    model.eval()\n",
        "    running_loss = 0.0\n",
        "    correct = 0\n",
        "    with torch.no_grad():\n",
        "        for data, target in test_loader:\n",
        "            data, target = data.to(device), target.to(device)\n",
        "            output = model(data)\n",
        "            running_loss += criterion(output, target).item() * len(data)\n",
        "            pred = output.data.max(1, keepdim=True)[1]\n",
        "            correct += pred.eq(target.data.view_as(pred)).sum()\n",
        "    running_loss /= len(test_loader.dataset)\n",
        "    acc = 100. * correct / len(test_loader.dataset)\n",
        "    return acc, running_loss"
      ],
      "metadata": {
        "id": "z_D7ljy_BCTP"
      },
      "execution_count": 9,
      "outputs": []
    },
    {
      "cell_type": "code",
      "source": [
        "train_dataset = CatDogDataset(get_df('./data/cats_and_dogs_filtered/train/'), CLASSES, TRANSFORM)\n",
        "test_dataset = CatDogDataset(get_df('./data/cats_and_dogs_filtered/validation/'), CLASSES, TRANSFORM)\n",
        "\n",
        "train_loader = DataLoader(train_dataset, batch_size=BATCH_SIZE_TRAIN, shuffle=True)\n",
        "test_loader = DataLoader(test_dataset, batch_size=BATCH_SIZE_TEST, shuffle=True)"
      ],
      "metadata": {
        "id": "YtEmGJOQBCVm"
      },
      "execution_count": 10,
      "outputs": []
    },
    {
      "cell_type": "code",
      "source": [
        "modelb = get_model()\n",
        "\n",
        "modelb = modelb.to(DEVICE)"
      ],
      "metadata": {
        "colab": {
          "base_uri": "https://localhost:8080/"
        },
        "id": "MKNvy-6QBtBS",
        "outputId": "3c0e462b-250c-4d28-d191-e1645b1bf688"
      },
      "execution_count": 11,
      "outputs": [
        {
          "output_type": "stream",
          "name": "stderr",
          "text": [
            "Downloading: \"https://github.com/pytorch/vision/zipball/v0.10.0\" to /root/.cache/torch/hub/v0.10.0.zip\n",
            "Downloading: \"https://download.pytorch.org/models/alexnet-owt-7be5be79.pth\" to /root/.cache/torch/hub/checkpoints/alexnet-owt-7be5be79.pth\n",
            "100%|██████████| 233M/233M [00:03<00:00, 74.0MB/s]\n"
          ]
        }
      ]
    },
    {
      "cell_type": "code",
      "source": [
        "print(modelb)"
      ],
      "metadata": {
        "colab": {
          "base_uri": "https://localhost:8080/"
        },
        "id": "cNni2pgTBzjB",
        "outputId": "7124adfa-8ca5-42d8-9e7f-d0659b087d38"
      },
      "execution_count": 12,
      "outputs": [
        {
          "output_type": "stream",
          "name": "stdout",
          "text": [
            "AlexNet(\n",
            "  (features): Sequential(\n",
            "    (0): Conv2d(3, 64, kernel_size=(11, 11), stride=(4, 4), padding=(2, 2))\n",
            "    (1): ReLU(inplace=True)\n",
            "    (2): MaxPool2d(kernel_size=3, stride=2, padding=0, dilation=1, ceil_mode=False)\n",
            "    (3): Conv2d(64, 192, kernel_size=(5, 5), stride=(1, 1), padding=(2, 2))\n",
            "    (4): ReLU(inplace=True)\n",
            "    (5): MaxPool2d(kernel_size=3, stride=2, padding=0, dilation=1, ceil_mode=False)\n",
            "    (6): Conv2d(192, 384, kernel_size=(3, 3), stride=(1, 1), padding=(1, 1))\n",
            "    (7): ReLU(inplace=True)\n",
            "    (8): Conv2d(384, 256, kernel_size=(3, 3), stride=(1, 1), padding=(1, 1))\n",
            "    (9): ReLU(inplace=True)\n",
            "    (10): Conv2d(256, 256, kernel_size=(3, 3), stride=(1, 1), padding=(1, 1))\n",
            "    (11): ReLU(inplace=True)\n",
            "    (12): MaxPool2d(kernel_size=3, stride=2, padding=0, dilation=1, ceil_mode=False)\n",
            "  )\n",
            "  (avgpool): AdaptiveAvgPool2d(output_size=(6, 6))\n",
            "  (classifier): Sequential(\n",
            "    (0): Dropout(p=0.5, inplace=False)\n",
            "    (1): Linear(in_features=9216, out_features=4096, bias=True)\n",
            "    (2): ReLU(inplace=True)\n",
            "    (3): Dropout(p=0.5, inplace=False)\n",
            "    (4): Linear(in_features=4096, out_features=4096, bias=True)\n",
            "    (5): ReLU(inplace=True)\n",
            "    (6): Linear(in_features=4096, out_features=2, bias=True)\n",
            "  )\n",
            ")\n"
          ]
        }
      ]
    },
    {
      "cell_type": "code",
      "source": [
        "criterion = nn.CrossEntropyLoss()\n",
        "optimizerb = optim.SGD(modelb.parameters(), lr=LR, weight_decay=WEIGHT_DECAY)"
      ],
      "metadata": {
        "id": "IWHMqnvnBxcn"
      },
      "execution_count": 13,
      "outputs": []
    },
    {
      "cell_type": "code",
      "source": [
        "for epoch in range(1, EPOCHS + 1):\n",
        "    print(f\"Epoch: {epoch}\")\n",
        "\n",
        "    print(\"\\tTraining: \")\n",
        "    train_acc, train_loss = train_with_regularization(modelb, train_loader, criterion, optimizerb, REGULARIZATION, WEIGHT_DECAY, DEVICE)\n",
        "    print(\"\\t\\tAccuracy: {:.4}%\".format(train_acc))\n",
        "    print(\"\\t\\tLoss: {:.4}\".format(train_loss))\n",
        "\n",
        "    print(\"\\tValidation: \")\n",
        "    test_acc, test_loss = test(modelb, test_loader, criterion, DEVICE)\n",
        "    print(\"\\t\\tAccuracy: {:.4}%\".format(test_acc))\n",
        "    print(\"\\t\\tLoss: {:.4}\".format(test_loss))"
      ],
      "metadata": {
        "colab": {
          "base_uri": "https://localhost:8080/"
        },
        "id": "fI9Rxq3DBxfO",
        "outputId": "6cd11931-ae8e-4b58-eefe-0bbf7fbf2f6f"
      },
      "execution_count": 14,
      "outputs": [
        {
          "output_type": "stream",
          "name": "stdout",
          "text": [
            "Epoch: 1\n",
            "\tTraining: \n",
            "\t\tAccuracy: 90.75%\n",
            "\t\tLoss: 0.2264\n",
            "\tValidation: \n",
            "\t\tAccuracy: 96.3%\n",
            "\t\tLoss: 0.1076\n",
            "Epoch: 2\n",
            "\tTraining: \n",
            "\t\tAccuracy: 95.7%\n",
            "\t\tLoss: 0.1128\n",
            "\tValidation: \n",
            "\t\tAccuracy: 96.0%\n",
            "\t\tLoss: 0.0957\n",
            "Epoch: 3\n",
            "\tTraining: \n",
            "\t\tAccuracy: 96.3%\n",
            "\t\tLoss: 0.08952\n",
            "\tValidation: \n",
            "\t\tAccuracy: 96.1%\n",
            "\t\tLoss: 0.08826\n",
            "Epoch: 4\n",
            "\tTraining: \n",
            "\t\tAccuracy: 96.65%\n",
            "\t\tLoss: 0.08033\n",
            "\tValidation: \n",
            "\t\tAccuracy: 96.5%\n",
            "\t\tLoss: 0.08103\n",
            "Epoch: 5\n",
            "\tTraining: \n",
            "\t\tAccuracy: 97.3%\n",
            "\t\tLoss: 0.06695\n",
            "\tValidation: \n",
            "\t\tAccuracy: 96.4%\n",
            "\t\tLoss: 0.08102\n",
            "Epoch: 6\n",
            "\tTraining: \n",
            "\t\tAccuracy: 98.05%\n",
            "\t\tLoss: 0.05734\n",
            "\tValidation: \n",
            "\t\tAccuracy: 96.4%\n",
            "\t\tLoss: 0.08153\n",
            "Epoch: 7\n",
            "\tTraining: \n",
            "\t\tAccuracy: 98.45%\n",
            "\t\tLoss: 0.04869\n",
            "\tValidation: \n",
            "\t\tAccuracy: 97.0%\n",
            "\t\tLoss: 0.07774\n",
            "Epoch: 8\n",
            "\tTraining: \n",
            "\t\tAccuracy: 98.45%\n",
            "\t\tLoss: 0.04559\n",
            "\tValidation: \n",
            "\t\tAccuracy: 95.1%\n",
            "\t\tLoss: 0.09777\n",
            "Epoch: 9\n",
            "\tTraining: \n",
            "\t\tAccuracy: 98.95%\n",
            "\t\tLoss: 0.03548\n",
            "\tValidation: \n",
            "\t\tAccuracy: 96.5%\n",
            "\t\tLoss: 0.08897\n",
            "Epoch: 10\n",
            "\tTraining: \n",
            "\t\tAccuracy: 99.35%\n",
            "\t\tLoss: 0.0349\n",
            "\tValidation: \n",
            "\t\tAccuracy: 96.8%\n",
            "\t\tLoss: 0.07351\n"
          ]
        }
      ]
    },
    {
      "cell_type": "code",
      "source": [],
      "metadata": {
        "id": "1wjIRE_kCl53"
      },
      "execution_count": null,
      "outputs": []
    }
  ]
}