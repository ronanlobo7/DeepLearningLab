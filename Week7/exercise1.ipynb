{
  "nbformat": 4,
  "nbformat_minor": 0,
  "metadata": {
    "colab": {
      "provenance": [],
      "gpuType": "T4"
    },
    "kernelspec": {
      "name": "python3",
      "display_name": "Python 3"
    },
    "language_info": {
      "name": "python"
    },
    "accelerator": "GPU"
  },
  "cells": [
    {
      "cell_type": "markdown",
      "source": [
        "Implement L2 regularization on cat-dog classification neural network. Train the model on the dataset, and observe the impact of the regularization on the weight parameters. (Do not use data augmentation)."
      ],
      "metadata": {
        "id": "-9vIvMPR9384"
      }
    },
    {
      "cell_type": "markdown",
      "source": [
        "a. L2 regularization using optimizer’s weight decay"
      ],
      "metadata": {
        "id": "jIDaMCZX_mRT"
      }
    },
    {
      "cell_type": "code",
      "source": [
        "import warnings\n",
        "\n",
        "warnings.filterwarnings(\"ignore\")"
      ],
      "metadata": {
        "id": "3C1Iw4m_9w2P"
      },
      "execution_count": 1,
      "outputs": []
    },
    {
      "cell_type": "code",
      "source": [
        "import PIL.Image as Image\n",
        "import pandas as pd\n",
        "import glob\n",
        "import torch\n",
        "import torch.nn as nn\n",
        "import torch.optim as optim\n",
        "from torch.utils.data import Dataset, DataLoader\n",
        "from torchvision.models import AlexNet_Weights\n",
        "from torchvision import transforms as T"
      ],
      "metadata": {
        "id": "IvhCkIhp-Fhv"
      },
      "execution_count": 2,
      "outputs": []
    },
    {
      "cell_type": "code",
      "source": [
        "EPOCHS = 10\n",
        "BATCH_SIZE_TRAIN = 16\n",
        "BATCH_SIZE_TEST = 100\n",
        "LR = 0.001\n",
        "WEIGHT_DECAY = 0.001\n",
        "LOG_INTERVAL = 10\n",
        "DEVICE = torch.device(\"cuda\" if torch.cuda.is_available() else \"cpu\")\n",
        "TRANSFORM = T.Compose([\n",
        "    T.ToTensor(),\n",
        "    T.Resize([224, 224]),\n",
        "    T.Normalize([0.485, 0.456, 0.406], [0.229, 0.224, 0.225])\n",
        "])\n",
        "CLASSES = {'dogs': 0, 'cats': 1}"
      ],
      "metadata": {
        "id": "N7JL13Oy-L2o"
      },
      "execution_count": 3,
      "outputs": []
    },
    {
      "cell_type": "code",
      "source": [
        "def get_df(path, classes=['dogs', 'cats']):\n",
        "    paths = pd.DataFrame({'class': [], 'path': []})\n",
        "    for c in classes:\n",
        "        df = pd.DataFrame({\n",
        "            'class': c,\n",
        "            'path': glob.glob(path + c + '/*')\n",
        "        })\n",
        "\n",
        "        paths = pd.concat([paths, df])\n",
        "\n",
        "    paths.reset_index(inplace=False)\n",
        "\n",
        "    return paths\n",
        "\n",
        "\n",
        "class CatDogDataset(Dataset):\n",
        "    def __init__(self, df, classes, transform=None):\n",
        "        self.paths = df\n",
        "        self.classes = classes\n",
        "        self.transform = transform\n",
        "\n",
        "    def __len__(self):\n",
        "        return len(self.paths)\n",
        "\n",
        "    def __getitem__(self, idx):\n",
        "        row = self.paths.iloc[idx]\n",
        "        img = Image.open(row['path'])\n",
        "        if self.transform is not None:\n",
        "            return self.transform(img), self.classes[row['class']]\n",
        "        else:\n",
        "            return img, self.classes[row['class']]\n",
        "\n",
        "\n",
        "def get_model():\n",
        "    model = torch.hub.load('pytorch/vision:v0.10.0', 'alexnet', weights=AlexNet_Weights.DEFAULT)\n",
        "    model.features.requires_grad = False\n",
        "    model.classifier = nn.Sequential(\n",
        "        *model.classifier[:-1],\n",
        "        nn.Linear(4096, 2, bias=True)\n",
        "    )\n",
        "    return model"
      ],
      "metadata": {
        "id": "aC9t1D3S-W2g"
      },
      "execution_count": 4,
      "outputs": []
    },
    {
      "cell_type": "code",
      "source": [
        "def train(model, train_loader, criterion, optimizer, device=\"cpu\"):\n",
        "    model.train()\n",
        "    running_loss = 0.0\n",
        "    correct = 0\n",
        "    for batch_idx, (data, target) in enumerate(train_loader):\n",
        "        data, target = data.to(device), target.to(device)\n",
        "        optimizer.zero_grad()\n",
        "        output = model(data)\n",
        "        loss = criterion(output, target)\n",
        "        loss.backward()\n",
        "        optimizer.step()\n",
        "        running_loss += loss.item() * len(data)\n",
        "        pred = output.data.max(1, keepdim=True)[1]\n",
        "        correct += pred.eq(target.data.view_as(pred)).sum()\n",
        "    running_loss /= len(train_loader.dataset)\n",
        "    acc = 100. * correct / len(train_loader.dataset)\n",
        "    return acc, running_loss\n",
        "\n",
        "def test(model, test_loader, criterion, device=\"cpu\"):\n",
        "    model.eval()\n",
        "    running_loss = 0.0\n",
        "    correct = 0\n",
        "    with torch.no_grad():\n",
        "        for data, target in test_loader:\n",
        "            data, target = data.to(device), target.to(device)\n",
        "            output = model(data)\n",
        "            running_loss += criterion(output, target).item() * len(data)\n",
        "            pred = output.data.max(1, keepdim=True)[1]\n",
        "            correct += pred.eq(target.data.view_as(pred)).sum()\n",
        "    running_loss /= len(test_loader.dataset)\n",
        "    acc = 100. * correct / len(test_loader.dataset)\n",
        "    return acc, running_loss"
      ],
      "metadata": {
        "id": "mBbukQSr-W5V"
      },
      "execution_count": 5,
      "outputs": []
    },
    {
      "cell_type": "code",
      "source": [
        "train_dataset = CatDogDataset(get_df('./data/cats_and_dogs_filtered/train/'), CLASSES, TRANSFORM)\n",
        "test_dataset = CatDogDataset(get_df('./data/cats_and_dogs_filtered/validation/'), CLASSES, TRANSFORM)\n",
        "\n",
        "train_loader = DataLoader(train_dataset, batch_size=BATCH_SIZE_TRAIN, shuffle=True)\n",
        "test_loader = DataLoader(test_dataset, batch_size=BATCH_SIZE_TEST, shuffle=True)"
      ],
      "metadata": {
        "id": "NeOlaTi5-TzH"
      },
      "execution_count": 6,
      "outputs": []
    },
    {
      "cell_type": "code",
      "source": [
        "modela = get_model()\n",
        "\n",
        "modela = modela.to(DEVICE)"
      ],
      "metadata": {
        "colab": {
          "base_uri": "https://localhost:8080/"
        },
        "id": "GqmI8KZC-qgf",
        "outputId": "13e56d71-b8ed-465a-b2cf-02cf70ae0adc"
      },
      "execution_count": 7,
      "outputs": [
        {
          "output_type": "stream",
          "name": "stderr",
          "text": [
            "Using cache found in /root/.cache/torch/hub/pytorch_vision_v0.10.0\n"
          ]
        }
      ]
    },
    {
      "cell_type": "code",
      "source": [
        "print(modela)"
      ],
      "metadata": {
        "colab": {
          "base_uri": "https://localhost:8080/"
        },
        "id": "pbZqBpHH-sVv",
        "outputId": "47aab50e-0976-4fc8-872a-0cb7797c0c63"
      },
      "execution_count": 8,
      "outputs": [
        {
          "output_type": "stream",
          "name": "stdout",
          "text": [
            "AlexNet(\n",
            "  (features): Sequential(\n",
            "    (0): Conv2d(3, 64, kernel_size=(11, 11), stride=(4, 4), padding=(2, 2))\n",
            "    (1): ReLU(inplace=True)\n",
            "    (2): MaxPool2d(kernel_size=3, stride=2, padding=0, dilation=1, ceil_mode=False)\n",
            "    (3): Conv2d(64, 192, kernel_size=(5, 5), stride=(1, 1), padding=(2, 2))\n",
            "    (4): ReLU(inplace=True)\n",
            "    (5): MaxPool2d(kernel_size=3, stride=2, padding=0, dilation=1, ceil_mode=False)\n",
            "    (6): Conv2d(192, 384, kernel_size=(3, 3), stride=(1, 1), padding=(1, 1))\n",
            "    (7): ReLU(inplace=True)\n",
            "    (8): Conv2d(384, 256, kernel_size=(3, 3), stride=(1, 1), padding=(1, 1))\n",
            "    (9): ReLU(inplace=True)\n",
            "    (10): Conv2d(256, 256, kernel_size=(3, 3), stride=(1, 1), padding=(1, 1))\n",
            "    (11): ReLU(inplace=True)\n",
            "    (12): MaxPool2d(kernel_size=3, stride=2, padding=0, dilation=1, ceil_mode=False)\n",
            "  )\n",
            "  (avgpool): AdaptiveAvgPool2d(output_size=(6, 6))\n",
            "  (classifier): Sequential(\n",
            "    (0): Dropout(p=0.5, inplace=False)\n",
            "    (1): Linear(in_features=9216, out_features=4096, bias=True)\n",
            "    (2): ReLU(inplace=True)\n",
            "    (3): Dropout(p=0.5, inplace=False)\n",
            "    (4): Linear(in_features=4096, out_features=4096, bias=True)\n",
            "    (5): ReLU(inplace=True)\n",
            "    (6): Linear(in_features=4096, out_features=2, bias=True)\n",
            "  )\n",
            ")\n"
          ]
        }
      ]
    },
    {
      "cell_type": "code",
      "source": [
        "criterion = nn.CrossEntropyLoss()\n",
        "optimizera = optim.SGD(modela.parameters(), lr=LR, weight_decay=WEIGHT_DECAY)"
      ],
      "metadata": {
        "id": "ZaZQU6sg-ugf"
      },
      "execution_count": 9,
      "outputs": []
    },
    {
      "cell_type": "code",
      "source": [
        "for epoch in range(1, EPOCHS + 1):\n",
        "    print(f\"Epoch: {epoch}\")\n",
        "\n",
        "    print(\"\\tTraining: \")\n",
        "    train_acc, train_loss = train(modela, train_loader, criterion, optimizera, DEVICE)\n",
        "    print(\"\\t\\tAccuracy: {:.4}%\".format(train_acc))\n",
        "    print(\"\\t\\tLoss: {:.4}\".format(train_loss))\n",
        "\n",
        "    print(\"\\tValidation: \")\n",
        "    test_acc, test_loss = test(modela, test_loader, criterion, DEVICE)\n",
        "    print(\"\\t\\tAccuracy: {:.4}%\".format(test_acc))\n",
        "    print(\"\\t\\tLoss: {:.4}\".format(test_loss))"
      ],
      "metadata": {
        "colab": {
          "base_uri": "https://localhost:8080/"
        },
        "id": "EG3sj06E-v-u",
        "outputId": "3248f6c8-3f63-40f0-965e-f85f1938a198"
      },
      "execution_count": 10,
      "outputs": [
        {
          "output_type": "stream",
          "name": "stdout",
          "text": [
            "Epoch: 1\n",
            "\tTraining: \n",
            "\t\tAccuracy: 91.1%\n",
            "\t\tLoss: 0.2129\n",
            "\tValidation: \n",
            "\t\tAccuracy: 94.9%\n",
            "\t\tLoss: 0.1248\n",
            "Epoch: 2\n",
            "\tTraining: \n",
            "\t\tAccuracy: 95.4%\n",
            "\t\tLoss: 0.1177\n",
            "\tValidation: \n",
            "\t\tAccuracy: 95.2%\n",
            "\t\tLoss: 0.1008\n",
            "Epoch: 3\n",
            "\tTraining: \n",
            "\t\tAccuracy: 96.85%\n",
            "\t\tLoss: 0.0925\n",
            "\tValidation: \n",
            "\t\tAccuracy: 96.4%\n",
            "\t\tLoss: 0.0888\n",
            "Epoch: 4\n",
            "\tTraining: \n",
            "\t\tAccuracy: 97.05%\n",
            "\t\tLoss: 0.07402\n",
            "\tValidation: \n",
            "\t\tAccuracy: 96.3%\n",
            "\t\tLoss: 0.08454\n",
            "Epoch: 5\n",
            "\tTraining: \n",
            "\t\tAccuracy: 98.2%\n",
            "\t\tLoss: 0.05555\n",
            "\tValidation: \n",
            "\t\tAccuracy: 96.5%\n",
            "\t\tLoss: 0.08318\n",
            "Epoch: 6\n",
            "\tTraining: \n",
            "\t\tAccuracy: 98.55%\n",
            "\t\tLoss: 0.04512\n",
            "\tValidation: \n",
            "\t\tAccuracy: 96.1%\n",
            "\t\tLoss: 0.08872\n",
            "Epoch: 7\n",
            "\tTraining: \n",
            "\t\tAccuracy: 98.3%\n",
            "\t\tLoss: 0.0422\n",
            "\tValidation: \n",
            "\t\tAccuracy: 96.1%\n",
            "\t\tLoss: 0.08744\n",
            "Epoch: 8\n",
            "\tTraining: \n",
            "\t\tAccuracy: 98.85%\n",
            "\t\tLoss: 0.03598\n",
            "\tValidation: \n",
            "\t\tAccuracy: 96.3%\n",
            "\t\tLoss: 0.0863\n",
            "Epoch: 9\n",
            "\tTraining: \n",
            "\t\tAccuracy: 99.3%\n",
            "\t\tLoss: 0.03099\n",
            "\tValidation: \n",
            "\t\tAccuracy: 96.4%\n",
            "\t\tLoss: 0.08352\n",
            "Epoch: 10\n",
            "\tTraining: \n",
            "\t\tAccuracy: 98.95%\n",
            "\t\tLoss: 0.03094\n",
            "\tValidation: \n",
            "\t\tAccuracy: 96.3%\n",
            "\t\tLoss: 0.08272\n"
          ]
        }
      ]
    },
    {
      "cell_type": "markdown",
      "source": [
        "b. L2 regularization using loop to find L2 norm of weights"
      ],
      "metadata": {
        "id": "ZV5gEq-O_o5B"
      }
    },
    {
      "cell_type": "code",
      "source": [
        "REGULARIZATION = 2"
      ],
      "metadata": {
        "id": "1d-8-tgyALZg"
      },
      "execution_count": 11,
      "outputs": []
    },
    {
      "cell_type": "code",
      "source": [
        "def train_with_regularization(model, train_loader, criterion, optimizer, regularization=2, lambda_val=0.001, device=\"cpu\"):\n",
        "    model.train()\n",
        "    running_loss = 0.0\n",
        "    correct = 0\n",
        "    for batch_idx, (data, target) in enumerate(train_loader):\n",
        "        data, target = data.to(device), target.to(device)\n",
        "        optimizer.zero_grad()\n",
        "        output = model(data)\n",
        "        loss = criterion(output, target)\n",
        "        running_loss += loss.item() * len(data)\n",
        "        norm = sum(torch.norm(p, regularization) for p in model.parameters())\n",
        "        loss = loss + lambda_val * norm\n",
        "        loss.backward()\n",
        "        optimizer.step()\n",
        "        pred = output.data.max(1, keepdim=True)[1]\n",
        "        correct += pred.eq(target.data.view_as(pred)).sum()\n",
        "    running_loss /= len(train_loader.dataset)\n",
        "    acc = 100. * correct / len(train_loader.dataset)\n",
        "    return acc, running_loss"
      ],
      "metadata": {
        "id": "goDIUlDD_int"
      },
      "execution_count": 12,
      "outputs": []
    },
    {
      "cell_type": "code",
      "source": [
        "modelb = get_model()\n",
        "\n",
        "modelb = modelb.to(DEVICE)"
      ],
      "metadata": {
        "colab": {
          "base_uri": "https://localhost:8080/"
        },
        "id": "ay94Mm3O_iqU",
        "outputId": "74081efd-6697-45ad-a261-6d402ddf5074"
      },
      "execution_count": 13,
      "outputs": [
        {
          "output_type": "stream",
          "name": "stderr",
          "text": [
            "Using cache found in /root/.cache/torch/hub/pytorch_vision_v0.10.0\n"
          ]
        }
      ]
    },
    {
      "cell_type": "code",
      "source": [
        "print(modelb)"
      ],
      "metadata": {
        "colab": {
          "base_uri": "https://localhost:8080/"
        },
        "id": "1bTo3fLn_ist",
        "outputId": "dd977ca5-bc0e-494e-8a84-7b4e06e97ba4"
      },
      "execution_count": 14,
      "outputs": [
        {
          "output_type": "stream",
          "name": "stdout",
          "text": [
            "AlexNet(\n",
            "  (features): Sequential(\n",
            "    (0): Conv2d(3, 64, kernel_size=(11, 11), stride=(4, 4), padding=(2, 2))\n",
            "    (1): ReLU(inplace=True)\n",
            "    (2): MaxPool2d(kernel_size=3, stride=2, padding=0, dilation=1, ceil_mode=False)\n",
            "    (3): Conv2d(64, 192, kernel_size=(5, 5), stride=(1, 1), padding=(2, 2))\n",
            "    (4): ReLU(inplace=True)\n",
            "    (5): MaxPool2d(kernel_size=3, stride=2, padding=0, dilation=1, ceil_mode=False)\n",
            "    (6): Conv2d(192, 384, kernel_size=(3, 3), stride=(1, 1), padding=(1, 1))\n",
            "    (7): ReLU(inplace=True)\n",
            "    (8): Conv2d(384, 256, kernel_size=(3, 3), stride=(1, 1), padding=(1, 1))\n",
            "    (9): ReLU(inplace=True)\n",
            "    (10): Conv2d(256, 256, kernel_size=(3, 3), stride=(1, 1), padding=(1, 1))\n",
            "    (11): ReLU(inplace=True)\n",
            "    (12): MaxPool2d(kernel_size=3, stride=2, padding=0, dilation=1, ceil_mode=False)\n",
            "  )\n",
            "  (avgpool): AdaptiveAvgPool2d(output_size=(6, 6))\n",
            "  (classifier): Sequential(\n",
            "    (0): Dropout(p=0.5, inplace=False)\n",
            "    (1): Linear(in_features=9216, out_features=4096, bias=True)\n",
            "    (2): ReLU(inplace=True)\n",
            "    (3): Dropout(p=0.5, inplace=False)\n",
            "    (4): Linear(in_features=4096, out_features=4096, bias=True)\n",
            "    (5): ReLU(inplace=True)\n",
            "    (6): Linear(in_features=4096, out_features=2, bias=True)\n",
            "  )\n",
            ")\n"
          ]
        }
      ]
    },
    {
      "cell_type": "code",
      "source": [
        "optimizerb = optim.SGD(modelb.parameters(), lr=LR)"
      ],
      "metadata": {
        "id": "HEy3_ucw_ivR"
      },
      "execution_count": 15,
      "outputs": []
    },
    {
      "cell_type": "code",
      "source": [
        "for epoch in range(1, EPOCHS + 1):\n",
        "    print(f\"Epoch: {epoch}\")\n",
        "\n",
        "    print(\"\\tTraining: \")\n",
        "    train_acc, train_loss = train_with_regularization(modelb, train_loader, criterion, optimizerb, REGULARIZATION, WEIGHT_DECAY, DEVICE)\n",
        "    print(\"\\t\\tAccuracy: {:.4}%\".format(train_acc))\n",
        "    print(\"\\t\\tLoss: {:.4}\".format(train_loss))\n",
        "\n",
        "    print(\"\\tValidation: \")\n",
        "    test_acc, test_loss = test(modelb, test_loader, criterion, DEVICE)\n",
        "    print(\"\\t\\tAccuracy: {:.4}%\".format(test_acc))\n",
        "    print(\"\\t\\tLoss: {:.4}\".format(test_loss))"
      ],
      "metadata": {
        "colab": {
          "base_uri": "https://localhost:8080/"
        },
        "id": "UYsUETOq_ixm",
        "outputId": "0a31b841-f0ef-4ffd-8dea-69ea01da3b5c"
      },
      "execution_count": 16,
      "outputs": [
        {
          "output_type": "stream",
          "name": "stdout",
          "text": [
            "Epoch: 1\n",
            "\tTraining: \n",
            "\t\tAccuracy: 90.85%\n",
            "\t\tLoss: 0.2171\n",
            "\tValidation: \n",
            "\t\tAccuracy: 94.1%\n",
            "\t\tLoss: 0.1377\n",
            "Epoch: 2\n",
            "\tTraining: \n",
            "\t\tAccuracy: 95.95%\n",
            "\t\tLoss: 0.1113\n",
            "\tValidation: \n",
            "\t\tAccuracy: 95.5%\n",
            "\t\tLoss: 0.1019\n",
            "Epoch: 3\n",
            "\tTraining: \n",
            "\t\tAccuracy: 96.55%\n",
            "\t\tLoss: 0.0862\n",
            "\tValidation: \n",
            "\t\tAccuracy: 95.3%\n",
            "\t\tLoss: 0.1141\n",
            "Epoch: 4\n",
            "\tTraining: \n",
            "\t\tAccuracy: 97.45%\n",
            "\t\tLoss: 0.07516\n",
            "\tValidation: \n",
            "\t\tAccuracy: 95.4%\n",
            "\t\tLoss: 0.09334\n",
            "Epoch: 5\n",
            "\tTraining: \n",
            "\t\tAccuracy: 97.85%\n",
            "\t\tLoss: 0.05586\n",
            "\tValidation: \n",
            "\t\tAccuracy: 96.3%\n",
            "\t\tLoss: 0.0867\n",
            "Epoch: 6\n",
            "\tTraining: \n",
            "\t\tAccuracy: 98.25%\n",
            "\t\tLoss: 0.05063\n",
            "\tValidation: \n",
            "\t\tAccuracy: 96.1%\n",
            "\t\tLoss: 0.0875\n",
            "Epoch: 7\n",
            "\tTraining: \n",
            "\t\tAccuracy: 98.85%\n",
            "\t\tLoss: 0.0378\n",
            "\tValidation: \n",
            "\t\tAccuracy: 96.5%\n",
            "\t\tLoss: 0.08001\n",
            "Epoch: 8\n",
            "\tTraining: \n",
            "\t\tAccuracy: 98.85%\n",
            "\t\tLoss: 0.03285\n",
            "\tValidation: \n",
            "\t\tAccuracy: 96.1%\n",
            "\t\tLoss: 0.09089\n",
            "Epoch: 9\n",
            "\tTraining: \n",
            "\t\tAccuracy: 99.25%\n",
            "\t\tLoss: 0.02813\n",
            "\tValidation: \n",
            "\t\tAccuracy: 96.6%\n",
            "\t\tLoss: 0.08209\n",
            "Epoch: 10\n",
            "\tTraining: \n",
            "\t\tAccuracy: 99.05%\n",
            "\t\tLoss: 0.02852\n",
            "\tValidation: \n",
            "\t\tAccuracy: 96.3%\n",
            "\t\tLoss: 0.08547\n"
          ]
        }
      ]
    },
    {
      "cell_type": "code",
      "source": [],
      "metadata": {
        "id": "kOlcVe5B_iz9"
      },
      "execution_count": 16,
      "outputs": []
    }
  ]
}