{
 "cells": [
  {
   "cell_type": "markdown",
   "metadata": {
    "id": "-9vIvMPR9384"
   },
   "source": [
    "Implement your own version of the dropout layer by using Bernoulli distribution and compare\n",
    "the performance with the library."
   ]
  },
  {
   "cell_type": "markdown",
   "metadata": {
    "id": "Rh6-LhNkFr2u"
   },
   "source": [
    "With nn.Dropout"
   ]
  },
  {
   "cell_type": "code",
   "execution_count": 1,
   "metadata": {
    "id": "3C1Iw4m_9w2P"
   },
   "outputs": [],
   "source": [
    "import warnings\n",
    "\n",
    "warnings.filterwarnings(\"ignore\")"
   ]
  },
  {
   "cell_type": "code",
   "execution_count": 2,
   "metadata": {
    "id": "IvhCkIhp-Fhv"
   },
   "outputs": [],
   "source": [
    "import PIL.Image as Image\n",
    "import pandas as pd\n",
    "import glob\n",
    "import torch\n",
    "import torch.nn as nn\n",
    "import torch.optim as optim\n",
    "from torch.utils.data import Dataset, DataLoader\n",
    "from torchvision.models import AlexNet_Weights\n",
    "from torchvision import transforms as T\n",
    "import matplotlib.pyplot as plt"
   ]
  },
  {
   "cell_type": "code",
   "execution_count": 3,
   "metadata": {
    "id": "N7JL13Oy-L2o"
   },
   "outputs": [],
   "source": [
    "EPOCHS = 10\n",
    "BATCH_SIZE_TRAIN = 16\n",
    "BATCH_SIZE_TEST = 100\n",
    "LR = 0.001\n",
    "DEVICE = torch.device(\"cuda\" if torch.cuda.is_available() else \"cpu\")\n",
    "TRANSFORM = T.Compose([\n",
    "    T.ToTensor(),\n",
    "    T.Resize([224, 224]),\n",
    "    T.Normalize([0.485, 0.456, 0.406], [0.229, 0.224, 0.225])\n",
    "])\n",
    "CLASSES = {'dogs': 0, 'cats': 1}\n",
    "\n",
    "\n",
    "NN_DROPOUT = {'train': [], 'test': []}\n",
    "CUSTOM_DROPOUT = {'train': [], 'test': []}"
   ]
  },
  {
   "cell_type": "code",
   "execution_count": 4,
   "metadata": {
    "id": "aC9t1D3S-W2g"
   },
   "outputs": [],
   "source": [
    "def get_df(path, classes=['dogs', 'cats']):\n",
    "    paths = pd.DataFrame({'class': [], 'path': []})\n",
    "    for c in classes:\n",
    "        df = pd.DataFrame({\n",
    "            'class': c,\n",
    "            'path': glob.glob(path + c + '/*')\n",
    "        })\n",
    "\n",
    "        paths = pd.concat([paths, df])\n",
    "\n",
    "    paths.reset_index(inplace=False)\n",
    "\n",
    "    return paths\n",
    "\n",
    "class CatDogDataset(Dataset):\n",
    "    def __init__(self, df, classes, transform=None):\n",
    "        self.paths = df\n",
    "        self.classes = classes\n",
    "        self.transform = transform\n",
    "\n",
    "    def __len__(self):\n",
    "        return len(self.paths)\n",
    "\n",
    "    def __getitem__(self, idx):\n",
    "        row = self.paths.iloc[idx]\n",
    "        img = Image.open(row['path'])\n",
    "        if self.transform is not None:\n",
    "            return self.transform(img), self.classes[row['class']]\n",
    "        else:\n",
    "            return img, self.classes[row['class']]\n",
    "\n",
    "def get_model_nn_dropout(dropout=0.5):\n",
    "    model = torch.hub.load('pytorch/vision:v0.10.0', 'alexnet', weights=AlexNet_Weights.DEFAULT)\n",
    "    model.features.requires_grad = False\n",
    "    model.classifier = nn.Sequential(\n",
    "        nn.Dropout(p=dropout),\n",
    "        nn.Linear(256 * 6 * 6, 4096),\n",
    "        nn.ReLU(inplace=True),\n",
    "        nn.Dropout(p=dropout),\n",
    "        nn.Linear(4096, 4096),\n",
    "        nn.ReLU(inplace=True),\n",
    "        nn.Linear(4096, 2),\n",
    "    )\n",
    "    return model"
   ]
  },
  {
   "cell_type": "code",
   "execution_count": 5,
   "metadata": {
    "id": "mBbukQSr-W5V"
   },
   "outputs": [],
   "source": [
    "def train(model, train_loader, criterion, optimizer, device=\"cpu\"):\n",
    "    model.train()\n",
    "    running_loss = 0.0\n",
    "    correct = 0\n",
    "    for batch_idx, (data, target) in enumerate(train_loader):\n",
    "        data, target = data.to(device), target.to(device)\n",
    "        optimizer.zero_grad()\n",
    "        output = model(data)\n",
    "        loss = criterion(output, target)\n",
    "        loss.backward()\n",
    "        optimizer.step()\n",
    "        running_loss += loss.item() * len(data)\n",
    "        pred = output.data.max(1, keepdim=True)[1]\n",
    "        correct += pred.eq(target.data.view_as(pred)).sum()\n",
    "    running_loss /= len(train_loader.dataset)\n",
    "    acc = 100. * correct / len(train_loader.dataset)\n",
    "    return acc, running_loss\n",
    "\n",
    "def test(model, test_loader, criterion, device=\"cpu\"):\n",
    "    model.eval()\n",
    "    running_loss = 0.0\n",
    "    correct = 0\n",
    "    with torch.no_grad():\n",
    "        for data, target in test_loader:\n",
    "            data, target = data.to(device), target.to(device)\n",
    "            output = model(data)\n",
    "            running_loss += criterion(output, target).item() * len(data)\n",
    "            pred = output.data.max(1, keepdim=True)[1]\n",
    "            correct += pred.eq(target.data.view_as(pred)).sum()\n",
    "    running_loss /= len(test_loader.dataset)\n",
    "    acc = 100. * correct / len(test_loader.dataset)\n",
    "    return acc, running_loss"
   ]
  },
  {
   "cell_type": "code",
   "execution_count": 6,
   "metadata": {
    "id": "NeOlaTi5-TzH"
   },
   "outputs": [],
   "source": [
    "train_dataset = CatDogDataset(get_df('./data/cats_and_dogs_filtered/train/'), CLASSES, TRANSFORM)\n",
    "test_dataset = CatDogDataset(get_df('./data/cats_and_dogs_filtered/validation/'), CLASSES, TRANSFORM)\n",
    "\n",
    "train_loader = DataLoader(train_dataset, batch_size=BATCH_SIZE_TRAIN, shuffle=True)\n",
    "test_loader = DataLoader(test_dataset, batch_size=BATCH_SIZE_TEST, shuffle=True)"
   ]
  },
  {
   "cell_type": "code",
   "execution_count": 7,
   "metadata": {
    "colab": {
     "base_uri": "https://localhost:8080/"
    },
    "id": "GqmI8KZC-qgf",
    "outputId": "b498a30b-ad12-4474-af36-75c897c43d93"
   },
   "outputs": [
    {
     "name": "stderr",
     "output_type": "stream",
     "text": [
      "Using cache found in /home/vi-b-04/.cache/torch/hub/pytorch_vision_v0.10.0\n"
     ]
    }
   ],
   "source": [
    "model1 = get_model_nn_dropout().to(DEVICE)"
   ]
  },
  {
   "cell_type": "code",
   "execution_count": 8,
   "metadata": {
    "colab": {
     "base_uri": "https://localhost:8080/"
    },
    "id": "pbZqBpHH-sVv",
    "outputId": "d956d231-f9ae-4b46-dad2-a417fa65ca82"
   },
   "outputs": [
    {
     "name": "stdout",
     "output_type": "stream",
     "text": [
      "AlexNet(\n",
      "  (features): Sequential(\n",
      "    (0): Conv2d(3, 64, kernel_size=(11, 11), stride=(4, 4), padding=(2, 2))\n",
      "    (1): ReLU(inplace=True)\n",
      "    (2): MaxPool2d(kernel_size=3, stride=2, padding=0, dilation=1, ceil_mode=False)\n",
      "    (3): Conv2d(64, 192, kernel_size=(5, 5), stride=(1, 1), padding=(2, 2))\n",
      "    (4): ReLU(inplace=True)\n",
      "    (5): MaxPool2d(kernel_size=3, stride=2, padding=0, dilation=1, ceil_mode=False)\n",
      "    (6): Conv2d(192, 384, kernel_size=(3, 3), stride=(1, 1), padding=(1, 1))\n",
      "    (7): ReLU(inplace=True)\n",
      "    (8): Conv2d(384, 256, kernel_size=(3, 3), stride=(1, 1), padding=(1, 1))\n",
      "    (9): ReLU(inplace=True)\n",
      "    (10): Conv2d(256, 256, kernel_size=(3, 3), stride=(1, 1), padding=(1, 1))\n",
      "    (11): ReLU(inplace=True)\n",
      "    (12): MaxPool2d(kernel_size=3, stride=2, padding=0, dilation=1, ceil_mode=False)\n",
      "  )\n",
      "  (avgpool): AdaptiveAvgPool2d(output_size=(6, 6))\n",
      "  (classifier): Sequential(\n",
      "    (0): Dropout(p=0.5, inplace=False)\n",
      "    (1): Linear(in_features=9216, out_features=4096, bias=True)\n",
      "    (2): ReLU(inplace=True)\n",
      "    (3): Dropout(p=0.5, inplace=False)\n",
      "    (4): Linear(in_features=4096, out_features=4096, bias=True)\n",
      "    (5): ReLU(inplace=True)\n",
      "    (6): Linear(in_features=4096, out_features=2, bias=True)\n",
      "  )\n",
      ")\n"
     ]
    }
   ],
   "source": [
    "print(model1)"
   ]
  },
  {
   "cell_type": "code",
   "execution_count": 9,
   "metadata": {
    "id": "ZaZQU6sg-ugf"
   },
   "outputs": [],
   "source": [
    "criterion = nn.CrossEntropyLoss()\n",
    "optimizer1 = optim.SGD(model1.parameters(), lr=LR)"
   ]
  },
  {
   "cell_type": "code",
   "execution_count": 10,
   "metadata": {
    "colab": {
     "base_uri": "https://localhost:8080/"
    },
    "id": "EG3sj06E-v-u",
    "outputId": "09a0c53f-b1c9-4d54-e4ae-35e5b562ada8"
   },
   "outputs": [
    {
     "name": "stdout",
     "output_type": "stream",
     "text": [
      "Epoch: 1\n",
      "\tTraining: \n",
      "\t\tAccuracy: 80.35%\n",
      "\t\tLoss: 0.4444\n",
      "\tValidation: \n",
      "\t\tAccuracy: 94.5%\n",
      "\t\tLoss: 0.2075\n",
      "Epoch: 2\n",
      "\tTraining: \n",
      "\t\tAccuracy: 93.1%\n",
      "\t\tLoss: 0.2094\n",
      "\tValidation: \n",
      "\t\tAccuracy: 93.2%\n",
      "\t\tLoss: 0.1623\n",
      "Epoch: 3\n",
      "\tTraining: \n",
      "\t\tAccuracy: 93.7%\n",
      "\t\tLoss: 0.1643\n",
      "\tValidation: \n",
      "\t\tAccuracy: 95.6%\n",
      "\t\tLoss: 0.1219\n",
      "Epoch: 4\n",
      "\tTraining: \n",
      "\t\tAccuracy: 95.1%\n",
      "\t\tLoss: 0.1315\n",
      "\tValidation: \n",
      "\t\tAccuracy: 95.6%\n",
      "\t\tLoss: 0.1107\n",
      "Epoch: 5\n",
      "\tTraining: \n",
      "\t\tAccuracy: 95.8%\n",
      "\t\tLoss: 0.1155\n",
      "\tValidation: \n",
      "\t\tAccuracy: 95.8%\n",
      "\t\tLoss: 0.09836\n",
      "Epoch: 6\n",
      "\tTraining: \n",
      "\t\tAccuracy: 96.15%\n",
      "\t\tLoss: 0.1026\n",
      "\tValidation: \n",
      "\t\tAccuracy: 95.9%\n",
      "\t\tLoss: 0.09522\n",
      "Epoch: 7\n",
      "\tTraining: \n",
      "\t\tAccuracy: 96.9%\n",
      "\t\tLoss: 0.08795\n",
      "\tValidation: \n",
      "\t\tAccuracy: 95.9%\n",
      "\t\tLoss: 0.09802\n",
      "Epoch: 8\n",
      "\tTraining: \n",
      "\t\tAccuracy: 97.15%\n",
      "\t\tLoss: 0.07957\n",
      "\tValidation: \n",
      "\t\tAccuracy: 96.0%\n",
      "\t\tLoss: 0.09172\n",
      "Epoch: 9\n",
      "\tTraining: \n",
      "\t\tAccuracy: 97.65%\n",
      "\t\tLoss: 0.06181\n",
      "\tValidation: \n",
      "\t\tAccuracy: 95.0%\n",
      "\t\tLoss: 0.1206\n",
      "Epoch: 10\n",
      "\tTraining: \n",
      "\t\tAccuracy: 97.5%\n",
      "\t\tLoss: 0.06539\n",
      "\tValidation: \n",
      "\t\tAccuracy: 96.1%\n",
      "\t\tLoss: 0.09711\n"
     ]
    }
   ],
   "source": [
    "for epoch in range(1, EPOCHS + 1):\n",
    "    print(f\"Epoch: {epoch}\")\n",
    "\n",
    "    print(\"\\tTraining: \")\n",
    "    train_acc, train_loss = train(model1, train_loader, criterion, optimizer1, DEVICE)\n",
    "    print(\"\\t\\tAccuracy: {:.4}%\".format(train_acc))\n",
    "    print(\"\\t\\tLoss: {:.4}\".format(train_loss))\n",
    "\n",
    "    print(\"\\tValidation: \")\n",
    "    test_acc, test_loss = test(model1, test_loader, criterion, DEVICE)\n",
    "    print(\"\\t\\tAccuracy: {:.4}%\".format(test_acc))\n",
    "    print(\"\\t\\tLoss: {:.4}\".format(test_loss))\n",
    "\n",
    "    NN_DROPOUT['train'].append(train_acc.item())\n",
    "    NN_DROPOUT['test'].append(test_acc.item())"
   ]
  },
  {
   "cell_type": "code",
   "execution_count": null,
   "metadata": {},
   "outputs": [],
   "source": []
  },
  {
   "cell_type": "markdown",
   "metadata": {
    "id": "3iNvXcBVFz_a"
   },
   "source": [
    "With CustomDropout"
   ]
  },
  {
   "cell_type": "code",
   "execution_count": 15,
   "metadata": {
    "id": "h-WJItAKFzev"
   },
   "outputs": [],
   "source": [
    "class CustomDropout(nn.Module):\n",
    "    def __init__(self, p):\n",
    "        super(CustomDropout, self).__init__()\n",
    "        self.p = p\n",
    "\n",
    "    def forward(self, x):\n",
    "        if self.training:\n",
    "            mask = torch.empty_like(x).bernoulli_(1 - self.p)\n",
    "            return x * mask / (1 - self.p)\n",
    "        else:\n",
    "            return x\n",
    "\n",
    "def get_model_custom_dropout(dropout=0.5):\n",
    "    model = torch.hub.load('pytorch/vision:v0.10.0', 'alexnet', weights=AlexNet_Weights.DEFAULT)\n",
    "    model.features.requires_grad = False\n",
    "    model.classifier = nn.Sequential(\n",
    "        CustomDropout(p=dropout),\n",
    "        nn.Linear(256 * 6 * 6, 4096),\n",
    "        nn.ReLU(inplace=True),\n",
    "        CustomDropout(p=dropout),\n",
    "        nn.Linear(4096, 4096),\n",
    "        nn.ReLU(inplace=True),\n",
    "        nn.Linear(4096, 2),\n",
    "    )\n",
    "    return model"
   ]
  },
  {
   "cell_type": "code",
   "execution_count": 16,
   "metadata": {
    "id": "y7DJaagJH2Z_"
   },
   "outputs": [
    {
     "name": "stderr",
     "output_type": "stream",
     "text": [
      "Using cache found in /home/vi-b-04/.cache/torch/hub/pytorch_vision_v0.10.0\n"
     ]
    }
   ],
   "source": [
    "model2 = get_model_custom_dropout().to(DEVICE)"
   ]
  },
  {
   "cell_type": "code",
   "execution_count": 17,
   "metadata": {
    "id": "0hQ1RTSjH2cl"
   },
   "outputs": [
    {
     "name": "stdout",
     "output_type": "stream",
     "text": [
      "AlexNet(\n",
      "  (features): Sequential(\n",
      "    (0): Conv2d(3, 64, kernel_size=(11, 11), stride=(4, 4), padding=(2, 2))\n",
      "    (1): ReLU(inplace=True)\n",
      "    (2): MaxPool2d(kernel_size=3, stride=2, padding=0, dilation=1, ceil_mode=False)\n",
      "    (3): Conv2d(64, 192, kernel_size=(5, 5), stride=(1, 1), padding=(2, 2))\n",
      "    (4): ReLU(inplace=True)\n",
      "    (5): MaxPool2d(kernel_size=3, stride=2, padding=0, dilation=1, ceil_mode=False)\n",
      "    (6): Conv2d(192, 384, kernel_size=(3, 3), stride=(1, 1), padding=(1, 1))\n",
      "    (7): ReLU(inplace=True)\n",
      "    (8): Conv2d(384, 256, kernel_size=(3, 3), stride=(1, 1), padding=(1, 1))\n",
      "    (9): ReLU(inplace=True)\n",
      "    (10): Conv2d(256, 256, kernel_size=(3, 3), stride=(1, 1), padding=(1, 1))\n",
      "    (11): ReLU(inplace=True)\n",
      "    (12): MaxPool2d(kernel_size=3, stride=2, padding=0, dilation=1, ceil_mode=False)\n",
      "  )\n",
      "  (avgpool): AdaptiveAvgPool2d(output_size=(6, 6))\n",
      "  (classifier): Sequential(\n",
      "    (0): CustomDropout()\n",
      "    (1): Linear(in_features=9216, out_features=4096, bias=True)\n",
      "    (2): ReLU(inplace=True)\n",
      "    (3): CustomDropout()\n",
      "    (4): Linear(in_features=4096, out_features=4096, bias=True)\n",
      "    (5): ReLU(inplace=True)\n",
      "    (6): Linear(in_features=4096, out_features=2, bias=True)\n",
      "  )\n",
      ")\n"
     ]
    }
   ],
   "source": [
    "print(model2)"
   ]
  },
  {
   "cell_type": "code",
   "execution_count": 18,
   "metadata": {
    "id": "t_0lG5SEH2fL"
   },
   "outputs": [],
   "source": [
    "optimizer2 = optim.SGD(model2.parameters(), lr=LR)"
   ]
  },
  {
   "cell_type": "code",
   "execution_count": 19,
   "metadata": {
    "id": "1SZPiAOaIJhl"
   },
   "outputs": [
    {
     "name": "stdout",
     "output_type": "stream",
     "text": [
      "Epoch: 1\n",
      "\tTraining: \n",
      "\t\tAccuracy: 79.75%\n",
      "\t\tLoss: 0.4419\n",
      "\tValidation: \n",
      "\t\tAccuracy: 92.7%\n",
      "\t\tLoss: 0.2265\n",
      "Epoch: 2\n",
      "\tTraining: \n",
      "\t\tAccuracy: 92.6%\n",
      "\t\tLoss: 0.2167\n",
      "\tValidation: \n",
      "\t\tAccuracy: 95.2%\n",
      "\t\tLoss: 0.1445\n",
      "Epoch: 3\n",
      "\tTraining: \n",
      "\t\tAccuracy: 94.3%\n",
      "\t\tLoss: 0.1536\n",
      "\tValidation: \n",
      "\t\tAccuracy: 96.0%\n",
      "\t\tLoss: 0.1114\n",
      "Epoch: 4\n",
      "\tTraining: \n",
      "\t\tAccuracy: 95.2%\n",
      "\t\tLoss: 0.1323\n",
      "\tValidation: \n",
      "\t\tAccuracy: 95.9%\n",
      "\t\tLoss: 0.1011\n",
      "Epoch: 5\n",
      "\tTraining: \n",
      "\t\tAccuracy: 95.75%\n",
      "\t\tLoss: 0.1217\n",
      "\tValidation: \n",
      "\t\tAccuracy: 95.9%\n",
      "\t\tLoss: 0.09761\n",
      "Epoch: 6\n",
      "\tTraining: \n",
      "\t\tAccuracy: 96.45%\n",
      "\t\tLoss: 0.09649\n",
      "\tValidation: \n",
      "\t\tAccuracy: 95.9%\n",
      "\t\tLoss: 0.09544\n",
      "Epoch: 7\n",
      "\tTraining: \n",
      "\t\tAccuracy: 96.6%\n",
      "\t\tLoss: 0.08887\n",
      "\tValidation: \n",
      "\t\tAccuracy: 96.2%\n",
      "\t\tLoss: 0.09058\n",
      "Epoch: 8\n",
      "\tTraining: \n",
      "\t\tAccuracy: 97.2%\n",
      "\t\tLoss: 0.07145\n",
      "\tValidation: \n",
      "\t\tAccuracy: 96.1%\n",
      "\t\tLoss: 0.09502\n",
      "Epoch: 9\n",
      "\tTraining: \n",
      "\t\tAccuracy: 97.35%\n",
      "\t\tLoss: 0.07347\n",
      "\tValidation: \n",
      "\t\tAccuracy: 95.8%\n",
      "\t\tLoss: 0.1103\n",
      "Epoch: 10\n",
      "\tTraining: \n",
      "\t\tAccuracy: 97.95%\n",
      "\t\tLoss: 0.05858\n",
      "\tValidation: \n",
      "\t\tAccuracy: 96.3%\n",
      "\t\tLoss: 0.09016\n"
     ]
    }
   ],
   "source": [
    "for epoch in range(1, EPOCHS + 1):\n",
    "    print(f\"Epoch: {epoch}\")\n",
    "\n",
    "    print(\"\\tTraining: \")\n",
    "    train_acc, train_loss = train(model2, train_loader, criterion, optimizer2, DEVICE)\n",
    "    print(\"\\t\\tAccuracy: {:.4}%\".format(train_acc))\n",
    "    print(\"\\t\\tLoss: {:.4}\".format(train_loss))\n",
    "\n",
    "    print(\"\\tValidation: \")\n",
    "    test_acc, test_loss = test(model2, test_loader, criterion, DEVICE)\n",
    "    print(\"\\t\\tAccuracy: {:.4}%\".format(test_acc))\n",
    "    print(\"\\t\\tLoss: {:.4}\".format(test_loss))\n",
    "\n",
    "    CUSTOM_DROPOUT['train'].append(train_acc.item())\n",
    "    CUSTOM_DROPOUT['test'].append(test_acc.item())"
   ]
  },
  {
   "cell_type": "code",
   "execution_count": null,
   "metadata": {},
   "outputs": [],
   "source": []
  },
  {
   "cell_type": "markdown",
   "metadata": {
    "id": "oX0MY_7wJu9B"
   },
   "source": [
    "Comparison"
   ]
  },
  {
   "cell_type": "code",
   "execution_count": 20,
   "metadata": {
    "id": "UTy5IA-eJuP9"
   },
   "outputs": [
    {
     "data": {
      "image/png": "[encoded data removed]",
      "text/plain": [
       "<Figure size 640x480 with 1 Axes>"
      ]
     },
     "metadata": {},
     "output_type": "display_data"
    }
   ],
   "source": [
    "plt.plot(NN_DROPOUT['train'], label='Train Acc nn.Dropout')\n",
    "plt.plot(NN_DROPOUT['test'], label='Test Acc nn.Dropout')\n",
    "plt.plot(CUSTOM_DROPOUT['train'], label='Train Acc CustomDropout')\n",
    "plt.plot(CUSTOM_DROPOUT['test'], label='Test Acc CustomDropout')\n",
    "plt.title('nn.Dropout vs CustomDropout')\n",
    "plt.legend()\n",
    "plt.show()"
   ]
  },
  {
   "cell_type": "code",
   "execution_count": null,
   "metadata": {
    "id": "34s8WQRGJuSl"
   },
   "outputs": [],
   "source": []
  }
 ],
 "metadata": {
  "accelerator": "GPU",
  "colab": {
   "gpuType": "T4",
   "provenance": []
  },
  "kernelspec": {
   "display_name": "Python 3 (ipykernel)",
   "language": "python",
   "name": "python3"
  },
  "language_info": {
   "codemirror_mode": {
    "name": "ipython",
    "version": 3
   },
   "file_extension": ".py",
   "mimetype": "text/x-python",
   "name": "python",
   "nbconvert_exporter": "python",
   "pygments_lexer": "ipython3",
   "version": "3.11.7"
  }
 },
 "nbformat": 4,
 "nbformat_minor": 4
}
