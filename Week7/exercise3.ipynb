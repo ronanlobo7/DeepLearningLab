{
  "nbformat": 4,
  "nbformat_minor": 0,
  "metadata": {
    "colab": {
      "provenance": [],
      "gpuType": "T4"
    },
    "kernelspec": {
      "name": "python3",
      "display_name": "Python 3"
    },
    "language_info": {
      "name": "python"
    },
    "accelerator": "GPU"
  },
  "cells": [
    {
      "cell_type": "markdown",
      "source": [
        "Implement dropout regularization on cat-dog classification neural network. Train the model\n",
        "with and without dropout on a dataset, and compare the performance and overfitting\n",
        "tendencies."
      ],
      "metadata": {
        "id": "-9vIvMPR9384"
      }
    },
    {
      "cell_type": "markdown",
      "source": [
        "Without Dropout"
      ],
      "metadata": {
        "id": "Rh6-LhNkFr2u"
      }
    },
    {
      "cell_type": "code",
      "source": [
        "import warnings\n",
        "\n",
        "warnings.filterwarnings(\"ignore\")"
      ],
      "metadata": {
        "id": "3C1Iw4m_9w2P"
      },
      "execution_count": 1,
      "outputs": []
    },
    {
      "cell_type": "code",
      "source": [
        "import PIL.Image as Image\n",
        "import pandas as pd\n",
        "import glob\n",
        "import torch\n",
        "import torch.nn as nn\n",
        "import torch.optim as optim\n",
        "from torch.utils.data import Dataset, DataLoader\n",
        "from torchvision.models import AlexNet_Weights\n",
        "from torchvision import transforms as T\n",
        "import matplotlib.pyplot as plt"
      ],
      "metadata": {
        "id": "IvhCkIhp-Fhv"
      },
      "execution_count": 2,
      "outputs": []
    },
    {
      "cell_type": "code",
      "source": [
        "EPOCHS = 10\n",
        "BATCH_SIZE_TRAIN = 16\n",
        "BATCH_SIZE_TEST = 100\n",
        "LR = 0.001\n",
        "DEVICE = torch.device(\"cuda\" if torch.cuda.is_available() else \"cpu\")\n",
        "TRANSFORM = T.Compose([\n",
        "    T.ToTensor(),\n",
        "    T.Resize([224, 224]),\n",
        "    T.Normalize([0.485, 0.456, 0.406], [0.229, 0.224, 0.225])\n",
        "])\n",
        "CLASSES = {'dogs': 0, 'cats': 1}\n",
        "\n",
        "\n",
        "WO_DROPOUT = {'train': [], 'test': []}\n",
        "W_DROPOUT = {'train': [], 'test': []}"
      ],
      "metadata": {
        "id": "N7JL13Oy-L2o"
      },
      "execution_count": 3,
      "outputs": []
    },
    {
      "cell_type": "code",
      "source": [
        "def get_df(path, classes=['dogs', 'cats']):\n",
        "    paths = pd.DataFrame({'class': [], 'path': []})\n",
        "    for c in classes:\n",
        "        df = pd.DataFrame({\n",
        "            'class': c,\n",
        "            'path': glob.glob(path + c + '/*')\n",
        "        })\n",
        "\n",
        "        paths = pd.concat([paths, df])\n",
        "\n",
        "    paths.reset_index(inplace=False)\n",
        "\n",
        "    return paths\n",
        "\n",
        "class CatDogDataset(Dataset):\n",
        "    def __init__(self, df, classes, transform=None):\n",
        "        self.paths = df\n",
        "        self.classes = classes\n",
        "        self.transform = transform\n",
        "\n",
        "    def __len__(self):\n",
        "        return len(self.paths)\n",
        "\n",
        "    def __getitem__(self, idx):\n",
        "        row = self.paths.iloc[idx]\n",
        "        img = Image.open(row['path'])\n",
        "        if self.transform is not None:\n",
        "            return self.transform(img), self.classes[row['class']]\n",
        "        else:\n",
        "            return img, self.classes[row['class']]\n",
        "\n",
        "def get_model_no_dropout():\n",
        "    model = torch.hub.load('pytorch/vision:v0.10.0', 'alexnet', weights=AlexNet_Weights.DEFAULT)\n",
        "    model.features.requires_grad = False\n",
        "    model.classifier = nn.Sequential(\n",
        "        nn.Linear(256 * 6 * 6, 4096),\n",
        "        nn.ReLU(inplace=True),\n",
        "        nn.Linear(4096, 4096),\n",
        "        nn.ReLU(inplace=True),\n",
        "        nn.Linear(4096, 2),\n",
        "    )\n",
        "    return model"
      ],
      "metadata": {
        "id": "aC9t1D3S-W2g"
      },
      "execution_count": 4,
      "outputs": []
    },
    {
      "cell_type": "code",
      "source": [
        "def train(model, train_loader, criterion, optimizer, device=\"cpu\"):\n",
        "    model.train()\n",
        "    running_loss = 0.0\n",
        "    correct = 0\n",
        "    for batch_idx, (data, target) in enumerate(train_loader):\n",
        "        data, target = data.to(device), target.to(device)\n",
        "        optimizer.zero_grad()\n",
        "        output = model(data)\n",
        "        loss = criterion(output, target)\n",
        "        loss.backward()\n",
        "        optimizer.step()\n",
        "        running_loss += loss.item() * len(data)\n",
        "        pred = output.data.max(1, keepdim=True)[1]\n",
        "        correct += pred.eq(target.data.view_as(pred)).sum()\n",
        "    running_loss /= len(train_loader.dataset)\n",
        "    acc = 100. * correct / len(train_loader.dataset)\n",
        "    return acc, running_loss\n",
        "\n",
        "def test(model, test_loader, criterion, device=\"cpu\"):\n",
        "    model.eval()\n",
        "    running_loss = 0.0\n",
        "    correct = 0\n",
        "    with torch.no_grad():\n",
        "        for data, target in test_loader:\n",
        "            data, target = data.to(device), target.to(device)\n",
        "            output = model(data)\n",
        "            running_loss += criterion(output, target).item() * len(data)\n",
        "            pred = output.data.max(1, keepdim=True)[1]\n",
        "            correct += pred.eq(target.data.view_as(pred)).sum()\n",
        "    running_loss /= len(test_loader.dataset)\n",
        "    acc = 100. * correct / len(test_loader.dataset)\n",
        "    return acc, running_loss"
      ],
      "metadata": {
        "id": "mBbukQSr-W5V"
      },
      "execution_count": 5,
      "outputs": []
    },
    {
      "cell_type": "code",
      "source": [
        "train_dataset = CatDogDataset(get_df('./data/cats_and_dogs_filtered/train/'), CLASSES, TRANSFORM)\n",
        "test_dataset = CatDogDataset(get_df('./data/cats_and_dogs_filtered/validation/'), CLASSES, TRANSFORM)\n",
        "\n",
        "train_loader = DataLoader(train_dataset, batch_size=BATCH_SIZE_TRAIN, shuffle=True)\n",
        "test_loader = DataLoader(test_dataset, batch_size=BATCH_SIZE_TEST, shuffle=True)"
      ],
      "metadata": {
        "id": "NeOlaTi5-TzH"
      },
      "execution_count": 6,
      "outputs": []
    },
    {
      "cell_type": "code",
      "source": [
        "model1 = get_model_no_dropout().to(DEVICE)"
      ],
      "metadata": {
        "colab": {
          "base_uri": "https://localhost:8080/"
        },
        "id": "GqmI8KZC-qgf",
        "outputId": "a1090e07-c629-42b0-c61c-8103b76ab937"
      },
      "execution_count": 7,
      "outputs": [
        {
          "output_type": "stream",
          "name": "stderr",
          "text": [
            "Using cache found in /root/.cache/torch/hub/pytorch_vision_v0.10.0\n"
          ]
        }
      ]
    },
    {
      "cell_type": "code",
      "source": [
        "print(model1)"
      ],
      "metadata": {
        "colab": {
          "base_uri": "https://localhost:8080/"
        },
        "id": "pbZqBpHH-sVv",
        "outputId": "77ae9764-54d6-46ab-8161-f1711266fabf"
      },
      "execution_count": 8,
      "outputs": [
        {
          "output_type": "stream",
          "name": "stdout",
          "text": [
            "AlexNet(\n",
            "  (features): Sequential(\n",
            "    (0): Conv2d(3, 64, kernel_size=(11, 11), stride=(4, 4), padding=(2, 2))\n",
            "    (1): ReLU(inplace=True)\n",
            "    (2): MaxPool2d(kernel_size=3, stride=2, padding=0, dilation=1, ceil_mode=False)\n",
            "    (3): Conv2d(64, 192, kernel_size=(5, 5), stride=(1, 1), padding=(2, 2))\n",
            "    (4): ReLU(inplace=True)\n",
            "    (5): MaxPool2d(kernel_size=3, stride=2, padding=0, dilation=1, ceil_mode=False)\n",
            "    (6): Conv2d(192, 384, kernel_size=(3, 3), stride=(1, 1), padding=(1, 1))\n",
            "    (7): ReLU(inplace=True)\n",
            "    (8): Conv2d(384, 256, kernel_size=(3, 3), stride=(1, 1), padding=(1, 1))\n",
            "    (9): ReLU(inplace=True)\n",
            "    (10): Conv2d(256, 256, kernel_size=(3, 3), stride=(1, 1), padding=(1, 1))\n",
            "    (11): ReLU(inplace=True)\n",
            "    (12): MaxPool2d(kernel_size=3, stride=2, padding=0, dilation=1, ceil_mode=False)\n",
            "  )\n",
            "  (avgpool): AdaptiveAvgPool2d(output_size=(6, 6))\n",
            "  (classifier): Sequential(\n",
            "    (0): Linear(in_features=9216, out_features=4096, bias=True)\n",
            "    (1): ReLU(inplace=True)\n",
            "    (2): Linear(in_features=4096, out_features=4096, bias=True)\n",
            "    (3): ReLU(inplace=True)\n",
            "    (4): Linear(in_features=4096, out_features=2, bias=True)\n",
            "  )\n",
            ")\n"
          ]
        }
      ]
    },
    {
      "cell_type": "code",
      "source": [
        "criterion = nn.CrossEntropyLoss()\n",
        "optimizer1 = optim.SGD(model1.parameters(), lr=LR)"
      ],
      "metadata": {
        "id": "ZaZQU6sg-ugf"
      },
      "execution_count": 9,
      "outputs": []
    },
    {
      "cell_type": "code",
      "source": [
        "for epoch in range(1, EPOCHS + 1):\n",
        "    print(f\"Epoch: {epoch}\")\n",
        "\n",
        "    print(\"\\tTraining: \")\n",
        "    train_acc, train_loss = train(model1, train_loader, criterion, optimizer1, DEVICE)\n",
        "    print(\"\\t\\tAccuracy: {:.4}%\".format(train_acc))\n",
        "    print(\"\\t\\tLoss: {:.4}\".format(train_loss))\n",
        "\n",
        "    print(\"\\tValidation: \")\n",
        "    test_acc, test_loss = test(model1, test_loader, criterion, DEVICE)\n",
        "    print(\"\\t\\tAccuracy: {:.4}%\".format(test_acc))\n",
        "    print(\"\\t\\tLoss: {:.4}\".format(test_loss))\n",
        "\n",
        "    WO_DROPOUT['train'].append(train_acc.item())\n",
        "    WO_DROPOUT['test'].append(test_acc.item())"
      ],
      "metadata": {
        "colab": {
          "base_uri": "https://localhost:8080/"
        },
        "id": "EG3sj06E-v-u",
        "outputId": "dbccfe1e-e3f8-4dda-baac-3a3f84aed5a9"
      },
      "execution_count": 10,
      "outputs": [
        {
          "output_type": "stream",
          "name": "stdout",
          "text": [
            "Epoch: 1\n",
            "\tTraining: \n",
            "\t\tAccuracy: 88.6%\n",
            "\t\tLoss: 0.3469\n",
            "\tValidation: \n",
            "\t\tAccuracy: 94.6%\n",
            "\t\tLoss: 0.1888\n",
            "Epoch: 2\n",
            "\tTraining: \n",
            "\t\tAccuracy: 95.9%\n",
            "\t\tLoss: 0.1435\n",
            "\tValidation: \n",
            "\t\tAccuracy: 95.2%\n",
            "\t\tLoss: 0.1301\n",
            "Epoch: 3\n",
            "\tTraining: \n",
            "\t\tAccuracy: 97.05%\n",
            "\t\tLoss: 0.1001\n",
            "\tValidation: \n",
            "\t\tAccuracy: 94.4%\n",
            "\t\tLoss: 0.125\n",
            "Epoch: 4\n",
            "\tTraining: \n",
            "\t\tAccuracy: 97.85%\n",
            "\t\tLoss: 0.07074\n",
            "\tValidation: \n",
            "\t\tAccuracy: 95.3%\n",
            "\t\tLoss: 0.1049\n",
            "Epoch: 5\n",
            "\tTraining: \n",
            "\t\tAccuracy: 99.0%\n",
            "\t\tLoss: 0.05099\n",
            "\tValidation: \n",
            "\t\tAccuracy: 94.5%\n",
            "\t\tLoss: 0.1195\n",
            "Epoch: 6\n",
            "\tTraining: \n",
            "\t\tAccuracy: 99.3%\n",
            "\t\tLoss: 0.03824\n",
            "\tValidation: \n",
            "\t\tAccuracy: 95.8%\n",
            "\t\tLoss: 0.0983\n",
            "Epoch: 7\n",
            "\tTraining: \n",
            "\t\tAccuracy: 99.65%\n",
            "\t\tLoss: 0.02862\n",
            "\tValidation: \n",
            "\t\tAccuracy: 95.9%\n",
            "\t\tLoss: 0.09734\n",
            "Epoch: 8\n",
            "\tTraining: \n",
            "\t\tAccuracy: 99.85%\n",
            "\t\tLoss: 0.02148\n",
            "\tValidation: \n",
            "\t\tAccuracy: 95.5%\n",
            "\t\tLoss: 0.1022\n",
            "Epoch: 9\n",
            "\tTraining: \n",
            "\t\tAccuracy: 99.95%\n",
            "\t\tLoss: 0.01648\n",
            "\tValidation: \n",
            "\t\tAccuracy: 95.7%\n",
            "\t\tLoss: 0.09904\n",
            "Epoch: 10\n",
            "\tTraining: \n",
            "\t\tAccuracy: 100.0%\n",
            "\t\tLoss: 0.01314\n",
            "\tValidation: \n",
            "\t\tAccuracy: 95.2%\n",
            "\t\tLoss: 0.09985\n"
          ]
        }
      ]
    },
    {
      "cell_type": "code",
      "source": [],
      "metadata": {
        "id": "slJFF0MNN3nQ"
      },
      "execution_count": null,
      "outputs": []
    },
    {
      "cell_type": "markdown",
      "source": [
        "With Dropout"
      ],
      "metadata": {
        "id": "3iNvXcBVFz_a"
      }
    },
    {
      "cell_type": "code",
      "source": [
        "def get_model_with_dropout(dropout=0.5):\n",
        "    model = torch.hub.load('pytorch/vision:v0.10.0', 'alexnet', weights=AlexNet_Weights.DEFAULT)\n",
        "    model.features.requires_grad = False\n",
        "    model.classifier = nn.Sequential(\n",
        "        nn.Dropout(p=dropout),\n",
        "        nn.Linear(256 * 6 * 6, 4096),\n",
        "        nn.ReLU(inplace=True),\n",
        "        nn.Dropout(p=dropout),\n",
        "        nn.Linear(4096, 4096),\n",
        "        nn.ReLU(inplace=True),\n",
        "        nn.Linear(4096, 2),\n",
        "    )\n",
        "    return model"
      ],
      "metadata": {
        "id": "h-WJItAKFzev"
      },
      "execution_count": 11,
      "outputs": []
    },
    {
      "cell_type": "code",
      "source": [
        "model2 = get_model_with_dropout().to(DEVICE)"
      ],
      "metadata": {
        "colab": {
          "base_uri": "https://localhost:8080/"
        },
        "id": "y7DJaagJH2Z_",
        "outputId": "0760bae2-377f-4a0c-853b-edbb6d4542c6"
      },
      "execution_count": 12,
      "outputs": [
        {
          "output_type": "stream",
          "name": "stderr",
          "text": [
            "Using cache found in /root/.cache/torch/hub/pytorch_vision_v0.10.0\n"
          ]
        }
      ]
    },
    {
      "cell_type": "code",
      "source": [
        "print(model2)"
      ],
      "metadata": {
        "colab": {
          "base_uri": "https://localhost:8080/"
        },
        "id": "0hQ1RTSjH2cl",
        "outputId": "8bff44f8-3633-4c04-834b-6ef7a0a7c9c3"
      },
      "execution_count": 13,
      "outputs": [
        {
          "output_type": "stream",
          "name": "stdout",
          "text": [
            "AlexNet(\n",
            "  (features): Sequential(\n",
            "    (0): Conv2d(3, 64, kernel_size=(11, 11), stride=(4, 4), padding=(2, 2))\n",
            "    (1): ReLU(inplace=True)\n",
            "    (2): MaxPool2d(kernel_size=3, stride=2, padding=0, dilation=1, ceil_mode=False)\n",
            "    (3): Conv2d(64, 192, kernel_size=(5, 5), stride=(1, 1), padding=(2, 2))\n",
            "    (4): ReLU(inplace=True)\n",
            "    (5): MaxPool2d(kernel_size=3, stride=2, padding=0, dilation=1, ceil_mode=False)\n",
            "    (6): Conv2d(192, 384, kernel_size=(3, 3), stride=(1, 1), padding=(1, 1))\n",
            "    (7): ReLU(inplace=True)\n",
            "    (8): Conv2d(384, 256, kernel_size=(3, 3), stride=(1, 1), padding=(1, 1))\n",
            "    (9): ReLU(inplace=True)\n",
            "    (10): Conv2d(256, 256, kernel_size=(3, 3), stride=(1, 1), padding=(1, 1))\n",
            "    (11): ReLU(inplace=True)\n",
            "    (12): MaxPool2d(kernel_size=3, stride=2, padding=0, dilation=1, ceil_mode=False)\n",
            "  )\n",
            "  (avgpool): AdaptiveAvgPool2d(output_size=(6, 6))\n",
            "  (classifier): Sequential(\n",
            "    (0): Dropout(p=0.5, inplace=False)\n",
            "    (1): Linear(in_features=9216, out_features=4096, bias=True)\n",
            "    (2): ReLU(inplace=True)\n",
            "    (3): Dropout(p=0.5, inplace=False)\n",
            "    (4): Linear(in_features=4096, out_features=4096, bias=True)\n",
            "    (5): ReLU(inplace=True)\n",
            "    (6): Linear(in_features=4096, out_features=2, bias=True)\n",
            "  )\n",
            ")\n"
          ]
        }
      ]
    },
    {
      "cell_type": "code",
      "source": [
        "optimizer2 = optim.SGD(model2.parameters(), lr=LR)"
      ],
      "metadata": {
        "id": "t_0lG5SEH2fL"
      },
      "execution_count": 14,
      "outputs": []
    },
    {
      "cell_type": "code",
      "source": [
        "for epoch in range(1, EPOCHS + 1):\n",
        "    print(f\"Epoch: {epoch}\")\n",
        "\n",
        "    print(\"\\tTraining: \")\n",
        "    train_acc, train_loss = train(model2, train_loader, criterion, optimizer2, DEVICE)\n",
        "    print(\"\\t\\tAccuracy: {:.4}%\".format(train_acc))\n",
        "    print(\"\\t\\tLoss: {:.4}\".format(train_loss))\n",
        "\n",
        "    print(\"\\tValidation: \")\n",
        "    test_acc, test_loss = test(model2, test_loader, criterion, DEVICE)\n",
        "    print(\"\\t\\tAccuracy: {:.4}%\".format(test_acc))\n",
        "    print(\"\\t\\tLoss: {:.4}\".format(test_loss))\n",
        "\n",
        "    W_DROPOUT['train'].append(train_acc.item())\n",
        "    W_DROPOUT['test'].append(test_acc.item())"
      ],
      "metadata": {
        "colab": {
          "base_uri": "https://localhost:8080/"
        },
        "id": "1SZPiAOaIJhl",
        "outputId": "acc1f2e4-7dde-4c25-8e46-30322281e21a"
      },
      "execution_count": 15,
      "outputs": [
        {
          "output_type": "stream",
          "name": "stdout",
          "text": [
            "Epoch: 1\n",
            "\tTraining: \n",
            "\t\tAccuracy: 81.85%\n",
            "\t\tLoss: 0.425\n",
            "\tValidation: \n",
            "\t\tAccuracy: 94.2%\n",
            "\t\tLoss: 0.2066\n",
            "Epoch: 2\n",
            "\tTraining: \n",
            "\t\tAccuracy: 92.4%\n",
            "\t\tLoss: 0.2055\n",
            "\tValidation: \n",
            "\t\tAccuracy: 95.7%\n",
            "\t\tLoss: 0.1369\n",
            "Epoch: 3\n",
            "\tTraining: \n",
            "\t\tAccuracy: 94.4%\n",
            "\t\tLoss: 0.1548\n",
            "\tValidation: \n",
            "\t\tAccuracy: 95.3%\n",
            "\t\tLoss: 0.1143\n",
            "Epoch: 4\n",
            "\tTraining: \n",
            "\t\tAccuracy: 95.2%\n",
            "\t\tLoss: 0.1313\n",
            "\tValidation: \n",
            "\t\tAccuracy: 95.3%\n",
            "\t\tLoss: 0.1037\n",
            "Epoch: 5\n",
            "\tTraining: \n",
            "\t\tAccuracy: 95.1%\n",
            "\t\tLoss: 0.1172\n",
            "\tValidation: \n",
            "\t\tAccuracy: 95.2%\n",
            "\t\tLoss: 0.1034\n",
            "Epoch: 6\n",
            "\tTraining: \n",
            "\t\tAccuracy: 96.75%\n",
            "\t\tLoss: 0.09596\n",
            "\tValidation: \n",
            "\t\tAccuracy: 95.1%\n",
            "\t\tLoss: 0.104\n",
            "Epoch: 7\n",
            "\tTraining: \n",
            "\t\tAccuracy: 96.65%\n",
            "\t\tLoss: 0.08305\n",
            "\tValidation: \n",
            "\t\tAccuracy: 95.5%\n",
            "\t\tLoss: 0.09905\n",
            "Epoch: 8\n",
            "\tTraining: \n",
            "\t\tAccuracy: 96.85%\n",
            "\t\tLoss: 0.08426\n",
            "\tValidation: \n",
            "\t\tAccuracy: 95.9%\n",
            "\t\tLoss: 0.09103\n",
            "Epoch: 9\n",
            "\tTraining: \n",
            "\t\tAccuracy: 98.4%\n",
            "\t\tLoss: 0.06084\n",
            "\tValidation: \n",
            "\t\tAccuracy: 95.3%\n",
            "\t\tLoss: 0.1089\n",
            "Epoch: 10\n",
            "\tTraining: \n",
            "\t\tAccuracy: 97.85%\n",
            "\t\tLoss: 0.06129\n",
            "\tValidation: \n",
            "\t\tAccuracy: 95.3%\n",
            "\t\tLoss: 0.1198\n"
          ]
        }
      ]
    },
    {
      "cell_type": "code",
      "source": [],
      "metadata": {
        "id": "vX-tcVlqN2su"
      },
      "execution_count": null,
      "outputs": []
    },
    {
      "cell_type": "markdown",
      "source": [
        "Comparison"
      ],
      "metadata": {
        "id": "oX0MY_7wJu9B"
      }
    },
    {
      "cell_type": "code",
      "source": [
        "plt.plot(WO_DROPOUT['train'], label='Train Acc w/o Dropout')\n",
        "plt.plot(WO_DROPOUT['test'], label='Test Acc w/o Dropout')\n",
        "plt.plot(W_DROPOUT['train'], label='Train Acc w Dropout')\n",
        "plt.plot(W_DROPOUT['test'], label='Test Acc w Dropout')\n",
        "plt.title('W/O Droput vs With Dropout')\n",
        "plt.legend()\n",
        "plt.show()"
      ],
      "metadata": {
        "colab": {
          "base_uri": "https://localhost:8080/",
          "height": 452
        },
        "id": "UTy5IA-eJuP9",
        "outputId": "bedef854-320e-4963-e178-ca8f94ba6d6d"
      },
      "execution_count": 17,
      "outputs": [
        {
          "output_type": "display_data",
          "data": {
            "text/plain": [
              "<Figure size 640x480 with 1 Axes>"
            ],
            "image/png": "[encoded data removed]"
          },
          "metadata": {}
        }
      ]
    },
    {
      "cell_type": "code",
      "source": [],
      "metadata": {
        "id": "34s8WQRGJuSl"
      },
      "execution_count": 16,
      "outputs": []
    }
  ]
}