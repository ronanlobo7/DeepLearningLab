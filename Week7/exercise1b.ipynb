{
 "cells": [
  {
   "cell_type": "code",
   "execution_count": 1,
   "id": "73628ef2-9cf3-44b9-b03e-10be034d0bf8",
   "metadata": {},
   "outputs": [],
   "source": [
    "import warnings\n",
    "\n",
    "warnings.filterwarnings(\"ignore\")"
   ]
  },
  {
   "cell_type": "code",
   "execution_count": 2,
   "id": "ec88e755-bb06-4854-bd6d-f1d446a27ec1",
   "metadata": {},
   "outputs": [],
   "source": [
    "import torch\n",
    "from torch.utils.data import Dataset, DataLoader\n",
    "import torch.nn as nn\n",
    "import torch.optim as optim\n",
    "from torchvision import transforms as T\n",
    "import utils\n",
    "from utils_catdog import CatDogDataset, get_df, get_model"
   ]
  },
  {
   "cell_type": "code",
   "execution_count": 3,
   "id": "f07cc7ea-160c-48fd-8c15-5fe6c7f48f65",
   "metadata": {},
   "outputs": [],
   "source": [
    "EPOCHS = 10\n",
    "BATCH_SIZE_TRAIN = 16\n",
    "BATCH_SIZE_TEST = 100\n",
    "LR = 0.001\n",
    "REGULARIZATION = 2\n",
    "WEIGHT_DECAY = 0.001\n",
    "LOG_INTERVAL = 10\n",
    "DEVICE = torch.device(\"cuda\" if torch.cuda.is_available() else \"cpu\")\n",
    "TRANSFORM = T.Compose([\n",
    "    T.ToTensor(),\n",
    "    T.Resize([224, 224]),\n",
    "    T.Normalize([0.485, 0.456, 0.406], [0.229, 0.224, 0.225])\n",
    "])\n",
    "CLASSES = {'dogs': 0, 'cats': 1}"
   ]
  },
  {
   "cell_type": "code",
   "execution_count": 4,
   "id": "1c48b87a-4562-4651-9ae9-cd512df0e4d3",
   "metadata": {},
   "outputs": [],
   "source": [
    "train_dataset = CatDogDataset(get_df('./data/cats_and_dogs_filtered/train/'), CLASSES, TRANSFORM)\n",
    "test_dataset = CatDogDataset(get_df('./data/cats_and_dogs_filtered/validation/'), CLASSES, TRANSFORM)\n",
    "\n",
    "train_loader = DataLoader(train_dataset, batch_size=BATCH_SIZE_TRAIN, shuffle=True)\n",
    "test_loader = DataLoader(test_dataset, batch_size=BATCH_SIZE_TEST, shuffle=True)"
   ]
  },
  {
   "cell_type": "code",
   "execution_count": 5,
   "id": "c7b424ff-0dbe-49da-bb57-b7502c2c0f5a",
   "metadata": {},
   "outputs": [
    {
     "name": "stderr",
     "output_type": "stream",
     "text": [
      "Using cache found in /home/vi-b-04/.cache/torch/hub/pytorch_vision_v0.10.0\n"
     ]
    }
   ],
   "source": [
    "model = get_model()\n",
    "\n",
    "model = model.to(DEVICE)"
   ]
  },
  {
   "cell_type": "code",
   "execution_count": 6,
   "id": "ab36d85c-d80c-491d-91cd-64a7efeb0594",
   "metadata": {},
   "outputs": [
    {
     "name": "stdout",
     "output_type": "stream",
     "text": [
      "AlexNet(\n",
      "  (features): Sequential(\n",
      "    (0): Conv2d(3, 64, kernel_size=(11, 11), stride=(4, 4), padding=(2, 2))\n",
      "    (1): ReLU(inplace=True)\n",
      "    (2): MaxPool2d(kernel_size=3, stride=2, padding=0, dilation=1, ceil_mode=False)\n",
      "    (3): Conv2d(64, 192, kernel_size=(5, 5), stride=(1, 1), padding=(2, 2))\n",
      "    (4): ReLU(inplace=True)\n",
      "    (5): MaxPool2d(kernel_size=3, stride=2, padding=0, dilation=1, ceil_mode=False)\n",
      "    (6): Conv2d(192, 384, kernel_size=(3, 3), stride=(1, 1), padding=(1, 1))\n",
      "    (7): ReLU(inplace=True)\n",
      "    (8): Conv2d(384, 256, kernel_size=(3, 3), stride=(1, 1), padding=(1, 1))\n",
      "    (9): ReLU(inplace=True)\n",
      "    (10): Conv2d(256, 256, kernel_size=(3, 3), stride=(1, 1), padding=(1, 1))\n",
      "    (11): ReLU(inplace=True)\n",
      "    (12): MaxPool2d(kernel_size=3, stride=2, padding=0, dilation=1, ceil_mode=False)\n",
      "  )\n",
      "  (avgpool): AdaptiveAvgPool2d(output_size=(6, 6))\n",
      "  (classifier): Sequential(\n",
      "    (0): Dropout(p=0.5, inplace=False)\n",
      "    (1): Linear(in_features=9216, out_features=4096, bias=True)\n",
      "    (2): ReLU(inplace=True)\n",
      "    (3): Dropout(p=0.5, inplace=False)\n",
      "    (4): Linear(in_features=4096, out_features=4096, bias=True)\n",
      "    (5): ReLU(inplace=True)\n",
      "    (6): Linear(in_features=4096, out_features=2, bias=True)\n",
      "  )\n",
      ")\n"
     ]
    }
   ],
   "source": [
    "print(model)"
   ]
  },
  {
   "cell_type": "code",
   "execution_count": 7,
   "id": "8a94f123-49ef-49e5-8bb0-75e979ecfa04",
   "metadata": {},
   "outputs": [],
   "source": [
    "criterion = nn.CrossEntropyLoss()\n",
    "optimizer = optim.SGD(model.parameters(), lr=LR)"
   ]
  },
  {
   "cell_type": "code",
   "execution_count": null,
   "id": "d0d871ec-1d0f-4e9a-b0c9-9dbd71cd7094",
   "metadata": {},
   "outputs": [
    {
     "name": "stdout",
     "output_type": "stream",
     "text": [
      "Epoch: 1\n",
      "\tTraining: \n",
      "\t\tAccuracy: 90.25%\n",
      "\t\tLoss: 0.2272\n",
      "\tValidation: \n",
      "\t\tAccuracy: 95.9%\n",
      "\t\tLoss: 0.107\n",
      "Epoch: 2\n",
      "\tTraining: \n",
      "\t\tAccuracy: 95.3%\n",
      "\t\tLoss: 0.1155\n",
      "\tValidation: \n",
      "\t\tAccuracy: 96.7%\n",
      "\t\tLoss: 0.09052\n",
      "Epoch: 3\n",
      "\tTraining: \n",
      "\t\tAccuracy: 96.7%\n",
      "\t\tLoss: 0.09568\n",
      "\tValidation: \n",
      "\t\tAccuracy: 96.1%\n",
      "\t\tLoss: 0.09375\n",
      "Epoch: 4\n",
      "\tTraining: \n"
     ]
    }
   ],
   "source": [
    "for epoch in range(1, EPOCHS + 1):\n",
    "    print(f\"Epoch: {epoch}\")\n",
    "\n",
    "    print(\"\\tTraining: \")\n",
    "    train_acc, train_loss = utils.train_with_regularization(model, train_loader, criterion, optimizer, REGULARIZATION, WEIGHT_DECAY, DEVICE)\n",
    "    print(\"\\t\\tAccuracy: {:.4}%\".format(train_acc))\n",
    "    print(\"\\t\\tLoss: {:.4}\".format(train_loss))\n",
    "\n",
    "    print(\"\\tValidation: \")\n",
    "    test_acc, test_loss = utils.test(model, test_loader, criterion, DEVICE)\n",
    "    print(\"\\t\\tAccuracy: {:.4}%\".format(test_acc))\n",
    "    print(\"\\t\\tLoss: {:.4}\".format(test_loss))"
   ]
  },
  {
   "cell_type": "code",
   "execution_count": null,
   "id": "41e7f45c-848d-4cab-846f-caf9a30508f1",
   "metadata": {},
   "outputs": [],
   "source": []
  }
 ],
 "metadata": {
  "kernelspec": {
   "display_name": "Python 3 (ipykernel)",
   "language": "python",
   "name": "python3"
  },
  "language_info": {
   "codemirror_mode": {
    "name": "ipython",
    "version": 3
   },
   "file_extension": ".py",
   "mimetype": "text/x-python",
   "name": "python",
   "nbconvert_exporter": "python",
   "pygments_lexer": "ipython3",
   "version": "3.11.7"
  }
 },
 "nbformat": 4,
 "nbformat_minor": 5
}
