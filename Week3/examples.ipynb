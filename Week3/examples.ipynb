{
 "cells": [
  {
   "cell_type": "code",
   "execution_count": 1,
   "id": "45e77207-0a7b-45e6-8eb0-ce20255d17d4",
   "metadata": {},
   "outputs": [],
   "source": [
    "import torch\n",
    "from matplotlib import pyplot as plt"
   ]
  },
  {
   "cell_type": "code",
   "execution_count": 2,
   "id": "16de0266-a460-4a8f-b41a-707123342a23",
   "metadata": {},
   "outputs": [],
   "source": [
    "X = torch.tensor([12.4, 14.3, 14.5, 14.9, 16.1, 16.9, 16.5, 15.4, 17.0, 17.9, 18.8, 20.3, 22.4, 19.4, 15.5, 16.7, 17.3, 18.4, 19.2, 17.4, 19.5, 19.7, 21.2])\n",
    "Y = torch.tensor([11.2, 12.5, 12.7, 13.1, 14.1, 14.8, 14.4, 13.4, 14.9, 15.6, 16.4, 17.7, 19.6, 16.9, 14.0, 14.6, 15.1, 16.1, 16.8, 15.2, 17.0, 17.2, 18.6])"
   ]
  },
  {
   "cell_type": "code",
   "execution_count": 3,
   "id": "7a635fda-5d19-4180-9af1-31f1cfa583f4",
   "metadata": {},
   "outputs": [
    {
     "name": "stdout",
     "output_type": "stream",
     "text": [
      "The parameters are tensor([0.1056], requires_grad=True), and tensor([0.5431], requires_grad=True)\n"
     ]
    }
   ],
   "source": [
    "b = torch.rand([1], requires_grad=True)\n",
    "w = torch.rand([1], requires_grad=True)\n",
    "print(\"The parameters are {}, and {}\".format(w, b))"
   ]
  },
  {
   "cell_type": "code",
   "execution_count": 4,
   "id": "f37da028-300c-4905-92bb-888afefdbd4b",
   "metadata": {},
   "outputs": [],
   "source": [
    "learning_rate = torch.tensor(0.001)"
   ]
  },
  {
   "cell_type": "code",
   "execution_count": 5,
   "id": "2993afb2-b41e-4443-9cf8-80cd7f247b12",
   "metadata": {},
   "outputs": [],
   "source": [
    "loss_list = []"
   ]
  },
  {
   "cell_type": "code",
   "execution_count": 6,
   "id": "9b8415fb-0ab1-4631-9f41-3befd2021d56",
   "metadata": {},
   "outputs": [
    {
     "name": "stdout",
     "output_type": "stream",
     "text": [
      "The parameters are w=tensor([0.5650], requires_grad=True), b=tensor([0.5689], requires_grad=True) and loss=169.84707641601562\n",
      "The parameters are w=tensor([0.7380], requires_grad=True), b=tensor([0.5786], requires_grad=True) and loss=24.12775421142578\n",
      "The parameters are w=tensor([0.8033], requires_grad=True), b=tensor([0.5823], requires_grad=True) and loss=3.43647837638855\n",
      "The parameters are w=tensor([0.8279], requires_grad=True), b=tensor([0.5837], requires_grad=True) and loss=0.4984405040740967\n",
      "The parameters are w=tensor([0.8371], requires_grad=True), b=tensor([0.5842], requires_grad=True) and loss=0.08125655353069305\n",
      "The parameters are w=tensor([0.8406], requires_grad=True), b=tensor([0.5844], requires_grad=True) and loss=0.022018810734152794\n",
      "The parameters are w=tensor([0.8419], requires_grad=True), b=tensor([0.5844], requires_grad=True) and loss=0.013607294298708439\n",
      "The parameters are w=tensor([0.8424], requires_grad=True), b=tensor([0.5845], requires_grad=True) and loss=0.01241286564618349\n",
      "The parameters are w=tensor([0.8426], requires_grad=True), b=tensor([0.5845], requires_grad=True) and loss=0.012243231758475304\n",
      "The parameters are w=tensor([0.8427], requires_grad=True), b=tensor([0.5845], requires_grad=True) and loss=0.012219213880598545\n",
      "The parameters are w=tensor([0.8427], requires_grad=True), b=tensor([0.5845], requires_grad=True) and loss=0.01221571583300829\n",
      "The parameters are w=tensor([0.8427], requires_grad=True), b=tensor([0.5845], requires_grad=True) and loss=0.012215186841785908\n",
      "The parameters are w=tensor([0.8427], requires_grad=True), b=tensor([0.5844], requires_grad=True) and loss=0.01221509836614132\n",
      "The parameters are w=tensor([0.8427], requires_grad=True), b=tensor([0.5844], requires_grad=True) and loss=0.012215097434818745\n",
      "The parameters are w=tensor([0.8427], requires_grad=True), b=tensor([0.5844], requires_grad=True) and loss=0.012215010821819305\n",
      "The parameters are w=tensor([0.8427], requires_grad=True), b=tensor([0.5844], requires_grad=True) and loss=0.012215017341077328\n",
      "The parameters are w=tensor([0.8427], requires_grad=True), b=tensor([0.5844], requires_grad=True) and loss=0.012215027585625648\n",
      "The parameters are w=tensor([0.8427], requires_grad=True), b=tensor([0.5844], requires_grad=True) and loss=0.012214955873787403\n",
      "The parameters are w=tensor([0.8427], requires_grad=True), b=tensor([0.5844], requires_grad=True) and loss=0.012214971706271172\n",
      "The parameters are w=tensor([0.8427], requires_grad=True), b=tensor([0.5844], requires_grad=True) and loss=0.012214870192110538\n",
      "The parameters are w=tensor([0.8427], requires_grad=True), b=tensor([0.5844], requires_grad=True) and loss=0.012214870192110538\n",
      "The parameters are w=tensor([0.8427], requires_grad=True), b=tensor([0.5844], requires_grad=True) and loss=0.012214853428304195\n",
      "The parameters are w=tensor([0.8427], requires_grad=True), b=tensor([0.5844], requires_grad=True) and loss=0.012214836664497852\n",
      "The parameters are w=tensor([0.8427], requires_grad=True), b=tensor([0.5844], requires_grad=True) and loss=0.012214789167046547\n",
      "The parameters are w=tensor([0.8427], requires_grad=True), b=tensor([0.5844], requires_grad=True) and loss=0.01221474353224039\n",
      "The parameters are w=tensor([0.8427], requires_grad=True), b=tensor([0.5844], requires_grad=True) and loss=0.012214706279337406\n",
      "The parameters are w=tensor([0.8427], requires_grad=True), b=tensor([0.5844], requires_grad=True) and loss=0.012214694172143936\n",
      "The parameters are w=tensor([0.8427], requires_grad=True), b=tensor([0.5844], requires_grad=True) and loss=0.012214676477015018\n",
      "The parameters are w=tensor([0.8427], requires_grad=True), b=tensor([0.5844], requires_grad=True) and loss=0.012214690446853638\n",
      "The parameters are w=tensor([0.8427], requires_grad=True), b=tensor([0.5844], requires_grad=True) and loss=0.012214642949402332\n",
      "The parameters are w=tensor([0.8427], requires_grad=True), b=tensor([0.5844], requires_grad=True) and loss=0.012214578688144684\n",
      "The parameters are w=tensor([0.8427], requires_grad=True), b=tensor([0.5843], requires_grad=True) and loss=0.012214567512273788\n",
      "The parameters are w=tensor([0.8427], requires_grad=True), b=tensor([0.5843], requires_grad=True) and loss=0.01221451535820961\n",
      "The parameters are w=tensor([0.8427], requires_grad=True), b=tensor([0.5843], requires_grad=True) and loss=0.012214535847306252\n",
      "The parameters are w=tensor([0.8427], requires_grad=True), b=tensor([0.5843], requires_grad=True) and loss=0.012214495800435543\n",
      "The parameters are w=tensor([0.8427], requires_grad=True), b=tensor([0.5843], requires_grad=True) and loss=0.012214429676532745\n",
      "The parameters are w=tensor([0.8427], requires_grad=True), b=tensor([0.5843], requires_grad=True) and loss=0.012214425019919872\n",
      "The parameters are w=tensor([0.8427], requires_grad=True), b=tensor([0.5843], requires_grad=True) and loss=0.012214376591145992\n",
      "The parameters are w=tensor([0.8427], requires_grad=True), b=tensor([0.5843], requires_grad=True) and loss=0.01221434585750103\n",
      "The parameters are w=tensor([0.8427], requires_grad=True), b=tensor([0.5843], requires_grad=True) and loss=0.012214365415275097\n",
      "The parameters are w=tensor([0.8427], requires_grad=True), b=tensor([0.5843], requires_grad=True) and loss=0.012214276939630508\n",
      "The parameters are w=tensor([0.8427], requires_grad=True), b=tensor([0.5843], requires_grad=True) and loss=0.012214272283017635\n",
      "The parameters are w=tensor([0.8427], requires_grad=True), b=tensor([0.5843], requires_grad=True) and loss=0.012214252725243568\n",
      "The parameters are w=tensor([0.8427], requires_grad=True), b=tensor([0.5843], requires_grad=True) and loss=0.012214196845889091\n",
      "The parameters are w=tensor([0.8427], requires_grad=True), b=tensor([0.5843], requires_grad=True) and loss=0.012214183807373047\n",
      "The parameters are w=tensor([0.8427], requires_grad=True), b=tensor([0.5843], requires_grad=True) and loss=0.0122141744941473\n",
      "The parameters are w=tensor([0.8427], requires_grad=True), b=tensor([0.5843], requires_grad=True) and loss=0.012214116752147675\n",
      "The parameters are w=tensor([0.8427], requires_grad=True), b=tensor([0.5843], requires_grad=True) and loss=0.01221412979066372\n",
      "The parameters are w=tensor([0.8427], requires_grad=True), b=tensor([0.5843], requires_grad=True) and loss=0.012214051559567451\n",
      "The parameters are w=tensor([0.8427], requires_grad=True), b=tensor([0.5842], requires_grad=True) and loss=0.01221404131501913\n",
      "The parameters are w=tensor([0.8427], requires_grad=True), b=tensor([0.5842], requires_grad=True) and loss=0.012214028276503086\n",
      "The parameters are w=tensor([0.8427], requires_grad=True), b=tensor([0.5842], requires_grad=True) and loss=0.012213938869535923\n",
      "The parameters are w=tensor([0.8427], requires_grad=True), b=tensor([0.5842], requires_grad=True) and loss=0.012213975191116333\n",
      "The parameters are w=tensor([0.8427], requires_grad=True), b=tensor([0.5842], requires_grad=True) and loss=0.01221394445747137\n",
      "The parameters are w=tensor([0.8427], requires_grad=True), b=tensor([0.5842], requires_grad=True) and loss=0.0122138736769557\n",
      "The parameters are w=tensor([0.8427], requires_grad=True), b=tensor([0.5842], requires_grad=True) and loss=0.01221389602869749\n",
      "The parameters are w=tensor([0.8427], requires_grad=True), b=tensor([0.5842], requires_grad=True) and loss=0.01221381314098835\n",
      "The parameters are w=tensor([0.8427], requires_grad=True), b=tensor([0.5842], requires_grad=True) and loss=0.012213763780891895\n",
      "The parameters are w=tensor([0.8427], requires_grad=True), b=tensor([0.5842], requires_grad=True) and loss=0.012213756330311298\n",
      "The parameters are w=tensor([0.8427], requires_grad=True), b=tensor([0.5842], requires_grad=True) and loss=0.012213763780891895\n",
      "The parameters are w=tensor([0.8427], requires_grad=True), b=tensor([0.5842], requires_grad=True) and loss=0.012213760055601597\n",
      "The parameters are w=tensor([0.8427], requires_grad=True), b=tensor([0.5842], requires_grad=True) and loss=0.012213727459311485\n",
      "The parameters are w=tensor([0.8427], requires_grad=True), b=tensor([0.5842], requires_grad=True) and loss=0.01221362967044115\n",
      "The parameters are w=tensor([0.8427], requires_grad=True), b=tensor([0.5842], requires_grad=True) and loss=0.012213644571602345\n",
      "The parameters are w=tensor([0.8427], requires_grad=True), b=tensor([0.5842], requires_grad=True) and loss=0.012213571928441525\n",
      "The parameters are w=tensor([0.8427], requires_grad=True), b=tensor([0.5842], requires_grad=True) and loss=0.012213591486215591\n",
      "The parameters are w=tensor([0.8427], requires_grad=True), b=tensor([0.5842], requires_grad=True) and loss=0.012213600799441338\n",
      "The parameters are w=tensor([0.8427], requires_grad=True), b=tensor([0.5842], requires_grad=True) and loss=0.012213503941893578\n",
      "The parameters are w=tensor([0.8427], requires_grad=True), b=tensor([0.5841], requires_grad=True) and loss=0.012213503941893578\n",
      "The parameters are w=tensor([0.8427], requires_grad=True), b=tensor([0.5841], requires_grad=True) and loss=0.012213431298732758\n",
      "The parameters are w=tensor([0.8427], requires_grad=True), b=tensor([0.5841], requires_grad=True) and loss=0.012213428504765034\n",
      "The parameters are w=tensor([0.8427], requires_grad=True), b=tensor([0.5841], requires_grad=True) and loss=0.012213421985507011\n",
      "The parameters are w=tensor([0.8427], requires_grad=True), b=tensor([0.5841], requires_grad=True) and loss=0.012213367037475109\n",
      "The parameters are w=tensor([0.8427], requires_grad=True), b=tensor([0.5841], requires_grad=True) and loss=0.012213326059281826\n",
      "The parameters are w=tensor([0.8427], requires_grad=True), b=tensor([0.5841], requires_grad=True) and loss=0.012213309295475483\n",
      "The parameters are w=tensor([0.8427], requires_grad=True), b=tensor([0.5841], requires_grad=True) and loss=0.012213276699185371\n",
      "The parameters are w=tensor([0.8427], requires_grad=True), b=tensor([0.5841], requires_grad=True) and loss=0.012213297188282013\n",
      "The parameters are w=tensor([0.8427], requires_grad=True), b=tensor([0.5841], requires_grad=True) and loss=0.012213249690830708\n",
      "The parameters are w=tensor([0.8427], requires_grad=True), b=tensor([0.5841], requires_grad=True) and loss=0.012213201262056828\n",
      "The parameters are w=tensor([0.8427], requires_grad=True), b=tensor([0.5841], requires_grad=True) and loss=0.012213186360895634\n",
      "The parameters are w=tensor([0.8427], requires_grad=True), b=tensor([0.5841], requires_grad=True) and loss=0.012213150039315224\n",
      "The parameters are w=tensor([0.8427], requires_grad=True), b=tensor([0.5841], requires_grad=True) and loss=0.012213148176670074\n",
      "The parameters are w=tensor([0.8427], requires_grad=True), b=tensor([0.5841], requires_grad=True) and loss=0.01221309695392847\n",
      "The parameters are w=tensor([0.8427], requires_grad=True), b=tensor([0.5841], requires_grad=True) and loss=0.012213039211928844\n",
      "The parameters are w=tensor([0.8427], requires_grad=True), b=tensor([0.5841], requires_grad=True) and loss=0.012213057838380337\n",
      "The parameters are w=tensor([0.8427], requires_grad=True), b=tensor([0.5841], requires_grad=True) and loss=0.012213011272251606\n",
      "The parameters are w=tensor([0.8427], requires_grad=True), b=tensor([0.5840], requires_grad=True) and loss=0.012212969362735748\n",
      "The parameters are w=tensor([0.8427], requires_grad=True), b=tensor([0.5840], requires_grad=True) and loss=0.012212979607284069\n",
      "The parameters are w=tensor([0.8427], requires_grad=True), b=tensor([0.5840], requires_grad=True) and loss=0.01221287902444601\n",
      "The parameters are w=tensor([0.8427], requires_grad=True), b=tensor([0.5840], requires_grad=True) and loss=0.012212863191962242\n",
      "The parameters are w=tensor([0.8427], requires_grad=True), b=tensor([0.5840], requires_grad=True) and loss=0.012212878093123436\n",
      "The parameters are w=tensor([0.8427], requires_grad=True), b=tensor([0.5840], requires_grad=True) and loss=0.012212843634188175\n",
      "The parameters are w=tensor([0.8427], requires_grad=True), b=tensor([0.5840], requires_grad=True) and loss=0.012212811969220638\n",
      "The parameters are w=tensor([0.8427], requires_grad=True), b=tensor([0.5840], requires_grad=True) and loss=0.012212812900543213\n",
      "The parameters are w=tensor([0.8427], requires_grad=True), b=tensor([0.5840], requires_grad=True) and loss=0.01221269741654396\n",
      "The parameters are w=tensor([0.8427], requires_grad=True), b=tensor([0.5840], requires_grad=True) and loss=0.01221271138638258\n",
      "The parameters are w=tensor([0.8427], requires_grad=True), b=tensor([0.5840], requires_grad=True) and loss=0.01221269741654396\n",
      "The parameters are w=tensor([0.8427], requires_grad=True), b=tensor([0.5840], requires_grad=True) and loss=0.012212657369673252\n",
      "The parameters are w=tensor([0.8427], requires_grad=True), b=tensor([0.5840], requires_grad=True) and loss=0.012212660163640976\n",
      "The parameters are w=tensor([0.8427], requires_grad=True), b=tensor([0.5840], requires_grad=True) and loss=0.012212573550641537\n"
     ]
    }
   ],
   "source": [
    "for epochs in range(100):\n",
    "    loss = 0.0\n",
    "\n",
    "    for j in range(len(X)):\n",
    "        a = w * X[j]\n",
    "        y_p = a + b\n",
    "        loss += (y_p - Y[j])**2\n",
    "\n",
    "    loss = loss / len(X)\n",
    "    loss_list.append(loss.item())\n",
    "    loss.backward()\n",
    "\n",
    "    with torch.no_grad():\n",
    "        w -= learning_rate * w.grad\n",
    "        b -= learning_rate * b.grad\n",
    "\n",
    "    w.grad.zero_()\n",
    "    b.grad.zero_()\n",
    "\n",
    "    print(\"The parameters are w={}, b={} and loss={}\".format(w, b, loss.item()))    "
   ]
  },
  {
   "cell_type": "code",
   "execution_count": 7,
   "id": "2a56034f-231f-47c6-97e4-5ecaf776063f",
   "metadata": {},
   "outputs": [
    {
     "data": {
      "image/png": "[encoded data removed]",
      "text/plain": [
       "<Figure size 640x480 with 1 Axes>"
      ]
     },
     "metadata": {},
     "output_type": "display_data"
    }
   ],
   "source": [
    "plt.plot(loss_list)\n",
    "plt.show()"
   ]
  },
  {
   "cell_type": "code",
   "execution_count": null,
   "id": "99c95034-ccc4-48d8-9273-40ede27f1181",
   "metadata": {},
   "outputs": [],
   "source": []
  }
 ],
 "metadata": {
  "kernelspec": {
   "display_name": "Python 3 (ipykernel)",
   "language": "python",
   "name": "python3"
  },
  "language_info": {
   "codemirror_mode": {
    "name": "ipython",
    "version": 3
   },
   "file_extension": ".py",
   "mimetype": "text/x-python",
   "name": "python",
   "nbconvert_exporter": "python",
   "pygments_lexer": "ipython3",
   "version": "3.11.7"
  }
 },
 "nbformat": 4,
 "nbformat_minor": 5
}
