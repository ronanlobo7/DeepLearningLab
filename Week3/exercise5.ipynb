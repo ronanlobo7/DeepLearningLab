{
 "cells": [
  {
   "cell_type": "code",
   "execution_count": 1,
   "id": "b6f9e9f3-f48e-4282-a934-507637f6cbed",
   "metadata": {},
   "outputs": [],
   "source": [
    "import torch\n",
    "import torch.nn as nn\n",
    "from torch.utils.data import Dataset, DataLoader\n",
    "import matplotlib.pyplot as plt"
   ]
  },
  {
   "cell_type": "code",
   "execution_count": 2,
   "id": "b45c5942-924b-40a2-a5cb-30d661cdfdc2",
   "metadata": {},
   "outputs": [],
   "source": [
    "class CustomDataset(Dataset):\n",
    "    def __init__(self, X, Y):\n",
    "        self.X = X\n",
    "        self.Y = Y\n",
    "\n",
    "    def __len__(self):\n",
    "        return len(self.X)\n",
    "\n",
    "    def __getitem__(self, i):\n",
    "        return self.X[i], self.Y[i]\n",
    "\n",
    "\n",
    "class LinearRegression(nn.Module):\n",
    "    def __init__(self):\n",
    "        super().__init__()\n",
    "        self.linear = torch.nn.Linear(1, 1)\n",
    "\n",
    "    def forward(self, x):\n",
    "        y_pred = self.linear(x)\n",
    "        return y_pred"
   ]
  },
  {
   "cell_type": "code",
   "execution_count": 3,
   "id": "40fecf7a-6dcf-42ff-a92f-5712c45a1cc2",
   "metadata": {},
   "outputs": [],
   "source": [
    "X = torch.tensor([12.4, 14.3, 14.5, 14.9, 16.1, 16.9, 16.5, 15.4, 17.0, 17.9, 18.8, 20.3, 22.4, 19.4, 15.5, 16.7, 17.3, 18.4, 19.2, 17.4, 19.5, 19.7, 21.2])\n",
    "Y = torch.tensor([11.2, 12.5, 12.7, 13.1, 14.1, 14.8, 14.4, 13.4, 14.9, 15.6, 16.4, 17.7, 19.6, 16.9, 14.0, 14.6, 15.1, 16.1, 16.8, 15.2, 17.0, 17.2, 18.6])"
   ]
  },
  {
   "cell_type": "code",
   "execution_count": 4,
   "id": "20fdf425-9c16-4164-85e6-31af740e3a3d",
   "metadata": {},
   "outputs": [],
   "source": [
    "dataset = CustomDataset(X, Y)\n",
    "dataloader = DataLoader(dataset)"
   ]
  },
  {
   "cell_type": "code",
   "execution_count": 5,
   "id": "e57daba6-9fe9-4449-baee-5e3795e66f1e",
   "metadata": {},
   "outputs": [],
   "source": [
    "model = LinearRegression()\n",
    "criterion = nn.MSELoss()\n",
    "optimizer = torch.optim.SGD(model.parameters(), lr=0.001)"
   ]
  },
  {
   "cell_type": "code",
   "execution_count": 6,
   "id": "e8b622e0-7eeb-4fe0-92c0-e02a9e853814",
   "metadata": {
    "scrolled": true
   },
   "outputs": [
    {
     "name": "stdout",
     "output_type": "stream",
     "text": [
      "The parameters are w=0.7168, b=0.1155 and loss=50.7556\n",
      "The parameters are w=0.8114, b=0.1208 and loss=7.2186\n",
      "The parameters are w=0.8470, b=0.1229 and loss=1.0366\n",
      "The parameters are w=0.8605, b=0.1236 and loss=0.1588\n",
      "The parameters are w=0.8655, b=0.1239 and loss=0.0342\n",
      "The parameters are w=0.8674, b=0.1240 and loss=0.0165\n",
      "The parameters are w=0.8682, b=0.1241 and loss=0.0140\n",
      "The parameters are w=0.8684, b=0.1241 and loss=0.0136\n",
      "The parameters are w=0.8685, b=0.1241 and loss=0.0136\n",
      "The parameters are w=0.8686, b=0.1241 and loss=0.0135\n",
      "The parameters are w=0.8686, b=0.1242 and loss=0.0135\n",
      "The parameters are w=0.8686, b=0.1242 and loss=0.0135\n",
      "The parameters are w=0.8686, b=0.1242 and loss=0.0135\n",
      "The parameters are w=0.8686, b=0.1242 and loss=0.0135\n",
      "The parameters are w=0.8686, b=0.1242 and loss=0.0135\n",
      "The parameters are w=0.8686, b=0.1242 and loss=0.0135\n",
      "The parameters are w=0.8686, b=0.1242 and loss=0.0135\n",
      "The parameters are w=0.8686, b=0.1242 and loss=0.0135\n",
      "The parameters are w=0.8686, b=0.1242 and loss=0.0135\n",
      "The parameters are w=0.8686, b=0.1243 and loss=0.0135\n",
      "The parameters are w=0.8686, b=0.1243 and loss=0.0135\n",
      "The parameters are w=0.8686, b=0.1243 and loss=0.0135\n",
      "The parameters are w=0.8686, b=0.1243 and loss=0.0135\n",
      "The parameters are w=0.8686, b=0.1243 and loss=0.0135\n",
      "The parameters are w=0.8686, b=0.1243 and loss=0.0135\n",
      "The parameters are w=0.8686, b=0.1243 and loss=0.0135\n",
      "The parameters are w=0.8686, b=0.1243 and loss=0.0135\n",
      "The parameters are w=0.8686, b=0.1243 and loss=0.0135\n",
      "The parameters are w=0.8686, b=0.1244 and loss=0.0135\n",
      "The parameters are w=0.8686, b=0.1244 and loss=0.0135\n",
      "The parameters are w=0.8686, b=0.1244 and loss=0.0135\n",
      "The parameters are w=0.8686, b=0.1244 and loss=0.0135\n",
      "The parameters are w=0.8686, b=0.1244 and loss=0.0135\n",
      "The parameters are w=0.8686, b=0.1244 and loss=0.0135\n",
      "The parameters are w=0.8686, b=0.1244 and loss=0.0135\n",
      "The parameters are w=0.8686, b=0.1244 and loss=0.0135\n",
      "The parameters are w=0.8686, b=0.1244 and loss=0.0135\n",
      "The parameters are w=0.8686, b=0.1245 and loss=0.0135\n",
      "The parameters are w=0.8686, b=0.1245 and loss=0.0135\n",
      "The parameters are w=0.8686, b=0.1245 and loss=0.0135\n",
      "The parameters are w=0.8686, b=0.1245 and loss=0.0135\n",
      "The parameters are w=0.8686, b=0.1245 and loss=0.0135\n",
      "The parameters are w=0.8686, b=0.1245 and loss=0.0135\n",
      "The parameters are w=0.8686, b=0.1245 and loss=0.0135\n",
      "The parameters are w=0.8686, b=0.1245 and loss=0.0135\n",
      "The parameters are w=0.8686, b=0.1245 and loss=0.0135\n",
      "The parameters are w=0.8686, b=0.1246 and loss=0.0135\n",
      "The parameters are w=0.8686, b=0.1246 and loss=0.0135\n",
      "The parameters are w=0.8686, b=0.1246 and loss=0.0135\n",
      "The parameters are w=0.8686, b=0.1246 and loss=0.0135\n",
      "The parameters are w=0.8686, b=0.1246 and loss=0.0135\n",
      "The parameters are w=0.8686, b=0.1246 and loss=0.0135\n",
      "The parameters are w=0.8686, b=0.1246 and loss=0.0135\n",
      "The parameters are w=0.8686, b=0.1246 and loss=0.0135\n",
      "The parameters are w=0.8686, b=0.1246 and loss=0.0135\n",
      "The parameters are w=0.8686, b=0.1247 and loss=0.0135\n",
      "The parameters are w=0.8686, b=0.1247 and loss=0.0135\n",
      "The parameters are w=0.8686, b=0.1247 and loss=0.0135\n",
      "The parameters are w=0.8686, b=0.1247 and loss=0.0135\n",
      "The parameters are w=0.8686, b=0.1247 and loss=0.0135\n",
      "The parameters are w=0.8686, b=0.1247 and loss=0.0135\n",
      "The parameters are w=0.8686, b=0.1247 and loss=0.0135\n",
      "The parameters are w=0.8686, b=0.1247 and loss=0.0135\n",
      "The parameters are w=0.8686, b=0.1247 and loss=0.0135\n",
      "The parameters are w=0.8686, b=0.1248 and loss=0.0135\n",
      "The parameters are w=0.8686, b=0.1248 and loss=0.0135\n",
      "The parameters are w=0.8686, b=0.1248 and loss=0.0135\n",
      "The parameters are w=0.8686, b=0.1248 and loss=0.0135\n",
      "The parameters are w=0.8686, b=0.1248 and loss=0.0135\n",
      "The parameters are w=0.8686, b=0.1248 and loss=0.0135\n",
      "The parameters are w=0.8686, b=0.1248 and loss=0.0135\n",
      "The parameters are w=0.8686, b=0.1248 and loss=0.0135\n",
      "The parameters are w=0.8686, b=0.1248 and loss=0.0135\n",
      "The parameters are w=0.8686, b=0.1249 and loss=0.0135\n",
      "The parameters are w=0.8686, b=0.1249 and loss=0.0135\n",
      "The parameters are w=0.8686, b=0.1249 and loss=0.0135\n",
      "The parameters are w=0.8686, b=0.1249 and loss=0.0135\n",
      "The parameters are w=0.8686, b=0.1249 and loss=0.0135\n",
      "The parameters are w=0.8686, b=0.1249 and loss=0.0135\n",
      "The parameters are w=0.8686, b=0.1249 and loss=0.0135\n",
      "The parameters are w=0.8686, b=0.1249 and loss=0.0135\n",
      "The parameters are w=0.8686, b=0.1249 and loss=0.0135\n",
      "The parameters are w=0.8686, b=0.1250 and loss=0.0135\n",
      "The parameters are w=0.8686, b=0.1250 and loss=0.0135\n",
      "The parameters are w=0.8686, b=0.1250 and loss=0.0135\n",
      "The parameters are w=0.8686, b=0.1250 and loss=0.0135\n",
      "The parameters are w=0.8686, b=0.1250 and loss=0.0135\n",
      "The parameters are w=0.8686, b=0.1250 and loss=0.0135\n",
      "The parameters are w=0.8686, b=0.1250 and loss=0.0135\n",
      "The parameters are w=0.8686, b=0.1250 and loss=0.0135\n",
      "The parameters are w=0.8686, b=0.1250 and loss=0.0135\n",
      "The parameters are w=0.8685, b=0.1251 and loss=0.0135\n",
      "The parameters are w=0.8685, b=0.1251 and loss=0.0135\n",
      "The parameters are w=0.8685, b=0.1251 and loss=0.0135\n",
      "The parameters are w=0.8685, b=0.1251 and loss=0.0135\n",
      "The parameters are w=0.8685, b=0.1251 and loss=0.0135\n",
      "The parameters are w=0.8685, b=0.1251 and loss=0.0135\n",
      "The parameters are w=0.8685, b=0.1251 and loss=0.0135\n",
      "The parameters are w=0.8685, b=0.1251 and loss=0.0135\n",
      "The parameters are w=0.8685, b=0.1251 and loss=0.0135\n"
     ]
    }
   ],
   "source": [
    "loss_list = []\n",
    "for epoch in range(100):\n",
    "    running_loss = 0.0\n",
    "    optimizer.zero_grad()\n",
    "    \n",
    "    for x, y in dataloader:\n",
    "        y_p = model(x)\n",
    "        loss = criterion(y_p, y)\n",
    "        running_loss += loss\n",
    "\n",
    "    running_loss = running_loss / len(dataloader)\n",
    "    running_loss.backward()\n",
    "    optimizer.step()\n",
    "    \n",
    "    print(\"The parameters are w={:.4f}, b={:.4f} and loss={:.4f}\".format(model.linear.weight.item(), model.linear.bias.item(), running_loss.item()))\n",
    "    loss_list.append(running_loss.item())"
   ]
  },
  {
   "cell_type": "code",
   "execution_count": 7,
   "id": "d1d8155d-f429-476f-a202-d76daef71dbf",
   "metadata": {},
   "outputs": [
    {
     "data": {
      "image/png": "[encoded data removed]",
      "text/plain": [
       "<Figure size 640x480 with 1 Axes>"
      ]
     },
     "metadata": {},
     "output_type": "display_data"
    }
   ],
   "source": [
    "plt.plot(loss_list)\n",
    "plt.show()"
   ]
  },
  {
   "cell_type": "code",
   "execution_count": null,
   "id": "06160b9d-1b0f-412b-943d-a74ce7d82c65",
   "metadata": {},
   "outputs": [],
   "source": []
  }
 ],
 "metadata": {
  "kernelspec": {
   "display_name": "Python 3 (ipykernel)",
   "language": "python",
   "name": "python3"
  },
  "language_info": {
   "codemirror_mode": {
    "name": "ipython",
    "version": 3
   },
   "file_extension": ".py",
   "mimetype": "text/x-python",
   "name": "python",
   "nbconvert_exporter": "python",
   "pygments_lexer": "ipython3",
   "version": "3.11.7"
  }
 },
 "nbformat": 4,
 "nbformat_minor": 5
}
