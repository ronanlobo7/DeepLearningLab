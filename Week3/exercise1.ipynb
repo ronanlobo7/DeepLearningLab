{
 "cells": [
  {
   "cell_type": "code",
   "execution_count": 1,
   "id": "45e77207-0a7b-45e6-8eb0-ce20255d17d4",
   "metadata": {},
   "outputs": [],
   "source": [
    "import torch\n",
    "from matplotlib import pyplot as plt"
   ]
  },
  {
   "cell_type": "code",
   "execution_count": 2,
   "id": "16de0266-a460-4a8f-b41a-707123342a23",
   "metadata": {},
   "outputs": [],
   "source": [
    "X = torch.tensor([12.4, 14.3, 14.5, 14.9, 16.1, 16.9, 16.5, 15.4, 17.0, 17.9, 18.8, 20.3, 22.4, 19.4, 15.5, 16.7, 17.3, 18.4, 19.2, 17.4, 19.5, 19.7, 21.2])\n",
    "Y = torch.tensor([11.2, 12.5, 12.7, 13.1, 14.1, 14.8, 14.4, 13.4, 14.9, 15.6, 16.4, 17.7, 19.6, 16.9, 14.0, 14.6, 15.1, 16.1, 16.8, 15.2, 17.0, 17.2, 18.6])"
   ]
  },
  {
   "cell_type": "code",
   "execution_count": 3,
   "id": "7a635fda-5d19-4180-9af1-31f1cfa583f4",
   "metadata": {},
   "outputs": [
    {
     "name": "stdout",
     "output_type": "stream",
     "text": [
      "The parameters are tensor([0.5521], requires_grad=True), and tensor([0.4954], requires_grad=True)\n"
     ]
    }
   ],
   "source": [
    "b = torch.rand([1], requires_grad=True)\n",
    "w = torch.rand([1], requires_grad=True)\n",
    "print(\"The parameters are {}, and {}\".format(w, b))"
   ]
  },
  {
   "cell_type": "code",
   "execution_count": 4,
   "id": "f37da028-300c-4905-92bb-888afefdbd4b",
   "metadata": {},
   "outputs": [],
   "source": [
    "learning_rate = torch.tensor(0.001)"
   ]
  },
  {
   "cell_type": "code",
   "execution_count": 5,
   "id": "2993afb2-b41e-4443-9cf8-80cd7f247b12",
   "metadata": {},
   "outputs": [],
   "source": [
    "loss_list = []"
   ]
  },
  {
   "cell_type": "code",
   "execution_count": 6,
   "id": "9b8415fb-0ab1-4631-9f41-3befd2021d56",
   "metadata": {},
   "outputs": [
    {
     "name": "stdout",
     "output_type": "stream",
     "text": [
      "The parameters are w=0.7357, b=0.5058 and loss=27.1646\n",
      "The parameters are w=0.8049, b=0.5097 and loss=3.8674\n",
      "The parameters are w=0.8310, b=0.5111 and loss=0.5594\n",
      "The parameters are w=0.8408, b=0.5117 and loss=0.0897\n",
      "The parameters are w=0.8446, b=0.5119 and loss=0.0230\n",
      "The parameters are w=0.8459, b=0.5120 and loss=0.0135\n",
      "The parameters are w=0.8465, b=0.5120 and loss=0.0121\n",
      "The parameters are w=0.8467, b=0.5120 and loss=0.0120\n",
      "The parameters are w=0.8467, b=0.5120 and loss=0.0119\n",
      "The parameters are w=0.8468, b=0.5120 and loss=0.0119\n",
      "The parameters are w=0.8468, b=0.5120 and loss=0.0119\n",
      "The parameters are w=0.8468, b=0.5120 and loss=0.0119\n",
      "The parameters are w=0.8468, b=0.5120 and loss=0.0119\n",
      "The parameters are w=0.8468, b=0.5120 and loss=0.0119\n",
      "The parameters are w=0.8468, b=0.5120 and loss=0.0119\n",
      "The parameters are w=0.8468, b=0.5120 and loss=0.0119\n",
      "The parameters are w=0.8468, b=0.5120 and loss=0.0119\n",
      "The parameters are w=0.8468, b=0.5120 and loss=0.0119\n",
      "The parameters are w=0.8468, b=0.5120 and loss=0.0119\n",
      "The parameters are w=0.8468, b=0.5120 and loss=0.0119\n",
      "The parameters are w=0.8468, b=0.5120 and loss=0.0119\n",
      "The parameters are w=0.8468, b=0.5120 and loss=0.0119\n",
      "The parameters are w=0.8468, b=0.5120 and loss=0.0119\n",
      "The parameters are w=0.8468, b=0.5120 and loss=0.0119\n",
      "The parameters are w=0.8468, b=0.5120 and loss=0.0119\n",
      "The parameters are w=0.8468, b=0.5119 and loss=0.0119\n",
      "The parameters are w=0.8468, b=0.5119 and loss=0.0119\n",
      "The parameters are w=0.8468, b=0.5119 and loss=0.0119\n",
      "The parameters are w=0.8468, b=0.5119 and loss=0.0119\n",
      "The parameters are w=0.8468, b=0.5119 and loss=0.0119\n",
      "The parameters are w=0.8468, b=0.5119 and loss=0.0119\n",
      "The parameters are w=0.8468, b=0.5119 and loss=0.0119\n",
      "The parameters are w=0.8468, b=0.5119 and loss=0.0119\n",
      "The parameters are w=0.8468, b=0.5119 and loss=0.0119\n",
      "The parameters are w=0.8468, b=0.5119 and loss=0.0119\n",
      "The parameters are w=0.8468, b=0.5119 and loss=0.0119\n",
      "The parameters are w=0.8468, b=0.5119 and loss=0.0119\n",
      "The parameters are w=0.8468, b=0.5119 and loss=0.0119\n",
      "The parameters are w=0.8468, b=0.5119 and loss=0.0119\n",
      "The parameters are w=0.8468, b=0.5119 and loss=0.0119\n",
      "The parameters are w=0.8468, b=0.5119 and loss=0.0119\n",
      "The parameters are w=0.8468, b=0.5119 and loss=0.0119\n",
      "The parameters are w=0.8468, b=0.5119 and loss=0.0119\n",
      "The parameters are w=0.8468, b=0.5119 and loss=0.0119\n",
      "The parameters are w=0.8468, b=0.5119 and loss=0.0119\n",
      "The parameters are w=0.8468, b=0.5119 and loss=0.0119\n",
      "The parameters are w=0.8468, b=0.5119 and loss=0.0119\n",
      "The parameters are w=0.8468, b=0.5119 and loss=0.0119\n",
      "The parameters are w=0.8468, b=0.5119 and loss=0.0119\n",
      "The parameters are w=0.8468, b=0.5119 and loss=0.0119\n",
      "The parameters are w=0.8468, b=0.5119 and loss=0.0119\n",
      "The parameters are w=0.8468, b=0.5119 and loss=0.0119\n",
      "The parameters are w=0.8468, b=0.5119 and loss=0.0119\n",
      "The parameters are w=0.8468, b=0.5119 and loss=0.0119\n",
      "The parameters are w=0.8468, b=0.5119 and loss=0.0119\n",
      "The parameters are w=0.8468, b=0.5119 and loss=0.0119\n",
      "The parameters are w=0.8468, b=0.5119 and loss=0.0119\n",
      "The parameters are w=0.8468, b=0.5119 and loss=0.0119\n",
      "The parameters are w=0.8468, b=0.5119 and loss=0.0119\n",
      "The parameters are w=0.8468, b=0.5119 and loss=0.0119\n",
      "The parameters are w=0.8468, b=0.5119 and loss=0.0119\n",
      "The parameters are w=0.8468, b=0.5118 and loss=0.0119\n",
      "The parameters are w=0.8468, b=0.5118 and loss=0.0119\n",
      "The parameters are w=0.8468, b=0.5118 and loss=0.0119\n",
      "The parameters are w=0.8468, b=0.5118 and loss=0.0119\n",
      "The parameters are w=0.8468, b=0.5118 and loss=0.0119\n",
      "The parameters are w=0.8468, b=0.5118 and loss=0.0119\n",
      "The parameters are w=0.8468, b=0.5118 and loss=0.0119\n",
      "The parameters are w=0.8468, b=0.5118 and loss=0.0119\n",
      "The parameters are w=0.8468, b=0.5118 and loss=0.0119\n",
      "The parameters are w=0.8468, b=0.5118 and loss=0.0119\n",
      "The parameters are w=0.8468, b=0.5118 and loss=0.0119\n",
      "The parameters are w=0.8468, b=0.5118 and loss=0.0119\n",
      "The parameters are w=0.8468, b=0.5118 and loss=0.0119\n",
      "The parameters are w=0.8468, b=0.5118 and loss=0.0119\n",
      "The parameters are w=0.8468, b=0.5118 and loss=0.0119\n",
      "The parameters are w=0.8468, b=0.5118 and loss=0.0119\n",
      "The parameters are w=0.8468, b=0.5118 and loss=0.0119\n",
      "The parameters are w=0.8468, b=0.5118 and loss=0.0119\n",
      "The parameters are w=0.8468, b=0.5118 and loss=0.0119\n",
      "The parameters are w=0.8468, b=0.5118 and loss=0.0119\n",
      "The parameters are w=0.8468, b=0.5118 and loss=0.0119\n",
      "The parameters are w=0.8468, b=0.5118 and loss=0.0119\n",
      "The parameters are w=0.8468, b=0.5118 and loss=0.0119\n",
      "The parameters are w=0.8468, b=0.5118 and loss=0.0119\n",
      "The parameters are w=0.8468, b=0.5118 and loss=0.0119\n",
      "The parameters are w=0.8468, b=0.5118 and loss=0.0119\n",
      "The parameters are w=0.8468, b=0.5118 and loss=0.0119\n",
      "The parameters are w=0.8468, b=0.5118 and loss=0.0119\n",
      "The parameters are w=0.8468, b=0.5118 and loss=0.0119\n",
      "The parameters are w=0.8468, b=0.5118 and loss=0.0119\n",
      "The parameters are w=0.8468, b=0.5118 and loss=0.0119\n",
      "The parameters are w=0.8468, b=0.5118 and loss=0.0119\n",
      "The parameters are w=0.8468, b=0.5118 and loss=0.0119\n",
      "The parameters are w=0.8468, b=0.5118 and loss=0.0119\n",
      "The parameters are w=0.8468, b=0.5118 and loss=0.0119\n",
      "The parameters are w=0.8468, b=0.5118 and loss=0.0119\n",
      "The parameters are w=0.8468, b=0.5117 and loss=0.0119\n",
      "The parameters are w=0.8468, b=0.5117 and loss=0.0119\n",
      "The parameters are w=0.8468, b=0.5117 and loss=0.0119\n"
     ]
    }
   ],
   "source": [
    "for epochs in range(100):\n",
    "    loss = 0.0\n",
    "\n",
    "    for j in range(len(X)):\n",
    "        a = w * X[j]\n",
    "        y_p = a + b\n",
    "        loss += (y_p - Y[j])**2\n",
    "\n",
    "    loss = loss / len(X)\n",
    "    loss_list.append(loss.item())\n",
    "    loss.backward()\n",
    "\n",
    "    with torch.no_grad():\n",
    "        w -= learning_rate * w.grad\n",
    "        b -= learning_rate * b.grad\n",
    "\n",
    "    w.grad.zero_()\n",
    "    b.grad.zero_()\n",
    "\n",
    "    print(\"The parameters are w={:.4f}, b={:.4f} and loss={:.4f}\".format(w.item(), b.item(), loss.item()))  "
   ]
  },
  {
   "cell_type": "code",
   "execution_count": 7,
   "id": "2a56034f-231f-47c6-97e4-5ecaf776063f",
   "metadata": {},
   "outputs": [
    {
     "data": {
      "image/png": "[encoded data removed]",
      "text/plain": [
       "<Figure size 640x480 with 1 Axes>"
      ]
     },
     "metadata": {},
     "output_type": "display_data"
    }
   ],
   "source": [
    "plt.plot(loss_list)\n",
    "plt.show()"
   ]
  },
  {
   "cell_type": "code",
   "execution_count": null,
   "id": "99c95034-ccc4-48d8-9273-40ede27f1181",
   "metadata": {},
   "outputs": [],
   "source": []
  }
 ],
 "metadata": {
  "kernelspec": {
   "display_name": "Python 3 (ipykernel)",
   "language": "python",
   "name": "python3"
  },
  "language_info": {
   "codemirror_mode": {
    "name": "ipython",
    "version": 3
   },
   "file_extension": ".py",
   "mimetype": "text/x-python",
   "name": "python",
   "nbconvert_exporter": "python",
   "pygments_lexer": "ipython3",
   "version": "3.11.7"
  }
 },
 "nbformat": 4,
 "nbformat_minor": 5
}
