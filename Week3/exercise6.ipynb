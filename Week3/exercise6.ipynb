{
 "cells": [
  {
   "cell_type": "code",
   "execution_count": 1,
   "id": "b6f9e9f3-f48e-4282-a934-507637f6cbed",
   "metadata": {},
   "outputs": [],
   "source": [
    "import torch\n",
    "import torch.nn as nn\n",
    "from torch.utils.data import Dataset, DataLoader\n",
    "import matplotlib.pyplot as plt\n",
    "import pandas as pd"
   ]
  },
  {
   "cell_type": "code",
   "execution_count": 2,
   "id": "b45c5942-924b-40a2-a5cb-30d661cdfdc2",
   "metadata": {},
   "outputs": [],
   "source": [
    "class CustomDataset(Dataset):\n",
    "    def __init__(self, X, Y):\n",
    "        self.X = X\n",
    "        self.Y = Y\n",
    "\n",
    "    def __len__(self):\n",
    "        return len(self.X)\n",
    "\n",
    "    def __getitem__(self, i):\n",
    "        return (self.X[i], self.Y[i])\n",
    "\n",
    "\n",
    "class LinearRegression(nn.Module):\n",
    "    def __init__(self, input_dim, output_dim):\n",
    "        super().__init__()\n",
    "        self.linear = torch.nn.Linear(input_dim, output_dim)\n",
    "\n",
    "    def forward(self, x):\n",
    "        y_pred = self.linear(x)\n",
    "        return y_pred"
   ]
  },
  {
   "cell_type": "code",
   "execution_count": 3,
   "id": "bb670665-fb4c-4e68-8f2e-775896362759",
   "metadata": {},
   "outputs": [],
   "source": [
    "X = torch.tensor([[3.0, 8],\n",
    "                  [4, 5],\n",
    "                  [5, 7],\n",
    "                  [6, 3],\n",
    "                  [2, 1]])\n",
    "Y = torch.tensor([-3.7, 3.5, 2.5, 11.5, 5.7])"
   ]
  },
  {
   "cell_type": "code",
   "execution_count": 4,
   "id": "20fdf425-9c16-4164-85e6-31af740e3a3d",
   "metadata": {},
   "outputs": [],
   "source": [
    "dataset = CustomDataset(X, Y)\n",
    "dataloader = DataLoader(dataset)"
   ]
  },
  {
   "cell_type": "code",
   "execution_count": 5,
   "id": "e57daba6-9fe9-4449-baee-5e3795e66f1e",
   "metadata": {},
   "outputs": [],
   "source": [
    "model = LinearRegression(2, 1)\n",
    "criterion = nn.MSELoss()\n",
    "optimizer = torch.optim.SGD(model.parameters(), lr=0.001)"
   ]
  },
  {
   "cell_type": "code",
   "execution_count": 6,
   "id": "e8b622e0-7eeb-4fe0-92c0-e02a9e853814",
   "metadata": {
    "scrolled": true
   },
   "outputs": [
    {
     "name": "stderr",
     "output_type": "stream",
     "text": [
      "/opt/anaconda3/envs/pytorch_env/lib/python3.11/site-packages/torch/nn/modules/loss.py:535: UserWarning: Using a target size (torch.Size([1])) that is different to the input size (torch.Size([1, 1])). This will likely lead to incorrect results due to broadcasting. Please ensure they have the same size.\n",
      "  return F.mse_loss(input, target, reduction=self.reduction)\n"
     ]
    },
    {
     "name": "stdout",
     "output_type": "stream",
     "text": [
      "The parameters are w1=0.4421, w2=0.2797, b=-0.4019 and loss=29.2330\n",
      "The parameters are w1=0.5843, w2=0.1646, b=-0.3784 and loss=25.7970\n",
      "The parameters are w1=0.7186, w2=0.0581, b=-0.3558 and loss=22.7760\n",
      "The parameters are w1=0.8450, w2=-0.0413, b=-0.3342 and loss=20.1190\n",
      "The parameters are w1=0.9637, w2=-0.1342, b=-0.3136 and loss=17.7820\n",
      "The parameters are w1=1.0749, w2=-0.2213, b=-0.2940 and loss=15.7264\n",
      "The parameters are w1=1.1793, w2=-0.3030, b=-0.2753 and loss=13.9184\n",
      "The parameters are w1=1.2771, w2=-0.3795, b=-0.2574 and loss=12.3280\n",
      "The parameters are w1=1.3687, w2=-0.4514, b=-0.2403 and loss=10.9290\n",
      "The parameters are w1=1.4546, w2=-0.5187, b=-0.2240 and loss=9.6984\n",
      "The parameters are w1=1.5351, w2=-0.5819, b=-0.2084 and loss=8.6158\n",
      "The parameters are w1=1.6106, w2=-0.6412, b=-0.1935 and loss=7.6634\n",
      "The parameters are w1=1.6813, w2=-0.6968, b=-0.1792 and loss=6.8256\n",
      "The parameters are w1=1.7475, w2=-0.7490, b=-0.1655 and loss=6.0884\n",
      "The parameters are w1=1.8096, w2=-0.7979, b=-0.1523 and loss=5.4398\n",
      "The parameters are w1=1.8678, w2=-0.8438, b=-0.1397 and loss=4.8691\n",
      "The parameters are w1=1.9223, w2=-0.8869, b=-0.1275 and loss=4.3669\n",
      "The parameters are w1=1.9734, w2=-0.9273, b=-0.1158 and loss=3.9250\n",
      "The parameters are w1=2.0212, w2=-0.9652, b=-0.1045 and loss=3.5360\n",
      "The parameters are w1=2.0660, w2=-1.0007, b=-0.0937 and loss=3.1936\n",
      "The parameters are w1=2.1080, w2=-1.0341, b=-0.0832 and loss=2.8922\n",
      "The parameters are w1=2.1473, w2=-1.0654, b=-0.0730 and loss=2.6269\n",
      "The parameters are w1=2.1841, w2=-1.0947, b=-0.0632 and loss=2.3932\n",
      "The parameters are w1=2.2186, w2=-1.1223, b=-0.0537 and loss=2.1874\n",
      "The parameters are w1=2.2508, w2=-1.1481, b=-0.0445 and loss=2.0062\n",
      "The parameters are w1=2.2810, w2=-1.1724, b=-0.0356 and loss=1.8465\n",
      "The parameters are w1=2.3093, w2=-1.1952, b=-0.0269 and loss=1.7057\n",
      "The parameters are w1=2.3358, w2=-1.2165, b=-0.0185 and loss=1.5817\n",
      "The parameters are w1=2.3606, w2=-1.2366, b=-0.0103 and loss=1.4723\n",
      "The parameters are w1=2.3838, w2=-1.2554, b=-0.0023 and loss=1.3758\n",
      "The parameters are w1=2.4055, w2=-1.2730, b=0.0054 and loss=1.2907\n",
      "The parameters are w1=2.4258, w2=-1.2896, b=0.0130 and loss=1.2155\n",
      "The parameters are w1=2.4448, w2=-1.3052, b=0.0204 and loss=1.1491\n",
      "The parameters are w1=2.4625, w2=-1.3198, b=0.0276 and loss=1.0905\n",
      "The parameters are w1=2.4791, w2=-1.3335, b=0.0347 and loss=1.0386\n",
      "The parameters are w1=2.4947, w2=-1.3464, b=0.0416 and loss=0.9927\n",
      "The parameters are w1=2.5092, w2=-1.3585, b=0.0484 and loss=0.9521\n",
      "The parameters are w1=2.5227, w2=-1.3698, b=0.0551 and loss=0.9161\n",
      "The parameters are w1=2.5354, w2=-1.3805, b=0.0616 and loss=0.8841\n",
      "The parameters are w1=2.5472, w2=-1.3905, b=0.0680 and loss=0.8558\n",
      "The parameters are w1=2.5583, w2=-1.3999, b=0.0743 and loss=0.8305\n",
      "The parameters are w1=2.5686, w2=-1.4087, b=0.0805 and loss=0.8081\n",
      "The parameters are w1=2.5782, w2=-1.4170, b=0.0866 and loss=0.7880\n",
      "The parameters are w1=2.5872, w2=-1.4248, b=0.0926 and loss=0.7702\n",
      "The parameters are w1=2.5955, w2=-1.4321, b=0.0985 and loss=0.7542\n",
      "The parameters are w1=2.6033, w2=-1.4390, b=0.1044 and loss=0.7398\n",
      "The parameters are w1=2.6106, w2=-1.4455, b=0.1101 and loss=0.7270\n",
      "The parameters are w1=2.6173, w2=-1.4515, b=0.1158 and loss=0.7154\n",
      "The parameters are w1=2.6236, w2=-1.4573, b=0.1214 and loss=0.7049\n",
      "The parameters are w1=2.6295, w2=-1.4626, b=0.1270 and loss=0.6954\n"
     ]
    }
   ],
   "source": [
    "loss_list = []\n",
    "for epoch in range(500):\n",
    "    running_loss = 0.0\n",
    "    optimizer.zero_grad()\n",
    "    \n",
    "    for x, y in dataloader:\n",
    "        y_p = model(x)\n",
    "        loss = criterion(y_p, y)\n",
    "        running_loss += loss\n",
    "\n",
    "    running_loss = running_loss / len(dataloader)\n",
    "    running_loss.backward()\n",
    "    optimizer.step()\n",
    "\n",
    "    loss_list.append(running_loss.item())\n",
    "\n",
    "    if epoch % 10 == 0:\n",
    "        print(\"The parameters are w1={:.4f}, w2={:.4f}, b={:.4f} and loss={:.4f}\".format(model.linear.weight[0][0], model.linear.weight[0][1], model.linear.bias.item(), running_loss.item()))"
   ]
  },
  {
   "cell_type": "code",
   "execution_count": 7,
   "id": "d1d8155d-f429-476f-a202-d76daef71dbf",
   "metadata": {},
   "outputs": [
    {
     "data": {
      "image/png": "[encoded data removed]",
      "text/plain": [
       "<Figure size 640x480 with 1 Axes>"
      ]
     },
     "metadata": {},
     "output_type": "display_data"
    }
   ],
   "source": [
    "plt.plot(loss_list)\n",
    "plt.show()"
   ]
  },
  {
   "cell_type": "code",
   "execution_count": null,
   "id": "06160b9d-1b0f-412b-943d-a74ce7d82c65",
   "metadata": {},
   "outputs": [],
   "source": []
  }
 ],
 "metadata": {
  "kernelspec": {
   "display_name": "Python 3 (ipykernel)",
   "language": "python",
   "name": "python3"
  },
  "language_info": {
   "codemirror_mode": {
    "name": "ipython",
    "version": 3
   },
   "file_extension": ".py",
   "mimetype": "text/x-python",
   "name": "python",
   "nbconvert_exporter": "python",
   "pygments_lexer": "ipython3",
   "version": "3.11.7"
  }
 },
 "nbformat": 4,
 "nbformat_minor": 5
}
