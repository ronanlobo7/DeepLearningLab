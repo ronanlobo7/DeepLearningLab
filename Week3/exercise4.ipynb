{
 "cells": [
  {
   "cell_type": "code",
   "execution_count": 1,
   "id": "c84b04fe-3d1b-4ade-a9ae-945d708efc11",
   "metadata": {},
   "outputs": [],
   "source": [
    "import torch\n",
    "import torch.nn as nn\n",
    "from torch.utils.data import Dataset, DataLoader\n",
    "import matplotlib.pyplot as plt"
   ]
  },
  {
   "cell_type": "code",
   "execution_count": 2,
   "id": "e73c4c25-d6b9-4d4e-967c-2ee0f26ac8d3",
   "metadata": {},
   "outputs": [],
   "source": [
    "class CustomDataset(Dataset):\n",
    "    def __init__(self, X, Y):\n",
    "        self.X = X\n",
    "        self.Y = Y\n",
    "\n",
    "    def __len__(self):\n",
    "        return len(self.X)\n",
    "\n",
    "    def __getitem__(self, i):\n",
    "        return self.X[i], self.Y[i]\n",
    "\n",
    "\n",
    "class LinearRegression(nn.Module):\n",
    "    def __init__(self):\n",
    "        super(LinearRegression, self).__init__()\n",
    "        self.w = nn.parameter.Parameter(torch.rand([1]))\n",
    "        self.b = nn.parameter.Parameter(torch.rand([1]))\n",
    "\n",
    "    def forward(self, x):\n",
    "        y_pred = self.w * x + self.b\n",
    "        return y_pred"
   ]
  },
  {
   "cell_type": "code",
   "execution_count": 3,
   "id": "e0714fe7-af5f-4b89-b2fe-72661c3d827a",
   "metadata": {},
   "outputs": [],
   "source": [
    "X = torch.tensor([5.0, 7.0, 12.0, 16.0, 20.0])\n",
    "Y = torch.tensor([40.0, 120.0, 180.0, 210.0, 240.0])"
   ]
  },
  {
   "cell_type": "code",
   "execution_count": 4,
   "id": "1a8e15f7-0e8f-4802-9969-6784494621f9",
   "metadata": {},
   "outputs": [],
   "source": [
    "dataset = CustomDataset(X, Y)\n",
    "dataloader = DataLoader(dataset)"
   ]
  },
  {
   "cell_type": "code",
   "execution_count": 5,
   "id": "6ab811dd-d1a5-4665-b878-bfcbe72b54b5",
   "metadata": {},
   "outputs": [],
   "source": [
    "model = LinearRegression()\n",
    "criterion = nn.MSELoss()\n",
    "optimizer = torch.optim.SGD(model.parameters(), lr=0.001)"
   ]
  },
  {
   "cell_type": "code",
   "execution_count": 6,
   "id": "506579c4-0577-41dd-b096-b1d4d7c3d4b8",
   "metadata": {
    "scrolled": true
   },
   "outputs": [
    {
     "name": "stdout",
     "output_type": "stream",
     "text": [
      "The parameters are w=4.9052, b=0.6024 and loss=27411.2305\n",
      "The parameters are w=7.7199, b=0.7994 and loss=11817.5000\n",
      "The parameters are w=9.5458, b=0.9285 and loss=5254.4404\n",
      "The parameters are w=10.7303, b=1.0136 and loss=2492.1890\n",
      "The parameters are w=11.4987, b=1.0700 and loss=1329.6117\n",
      "The parameters are w=11.9971, b=1.1079 and loss=840.3016\n",
      "The parameters are w=12.3203, b=1.1338 and loss=634.3544\n",
      "The parameters are w=12.5299, b=1.1518 and loss=547.6682\n",
      "The parameters are w=12.6658, b=1.1648 and loss=511.1765\n",
      "The parameters are w=12.7539, b=1.1745 and loss=495.8100\n",
      "The parameters are w=12.8109, b=1.1821 and loss=489.3349\n",
      "The parameters are w=12.8479, b=1.1882 and loss=486.6024\n",
      "The parameters are w=12.8717, b=1.1935 and loss=485.4447\n",
      "The parameters are w=12.8871, b=1.1982 and loss=484.9497\n",
      "The parameters are w=12.8970, b=1.2025 and loss=484.7336\n",
      "The parameters are w=12.9034, b=1.2066 and loss=484.6353\n",
      "The parameters are w=12.9074, b=1.2105 and loss=484.5861\n",
      "The parameters are w=12.9099, b=1.2143 and loss=484.5580\n",
      "The parameters are w=12.9115, b=1.2180 and loss=484.5388\n",
      "The parameters are w=12.9124, b=1.2217 and loss=484.5226\n",
      "The parameters are w=12.9129, b=1.2254 and loss=484.5084\n",
      "The parameters are w=12.9131, b=1.2290 and loss=484.4952\n",
      "The parameters are w=12.9132, b=1.2326 and loss=484.4816\n",
      "The parameters are w=12.9132, b=1.2362 and loss=484.4687\n",
      "The parameters are w=12.9131, b=1.2399 and loss=484.4556\n",
      "The parameters are w=12.9129, b=1.2435 and loss=484.4425\n",
      "The parameters are w=12.9127, b=1.2471 and loss=484.4294\n",
      "The parameters are w=12.9125, b=1.2507 and loss=484.4163\n",
      "The parameters are w=12.9123, b=1.2543 and loss=484.4032\n",
      "The parameters are w=12.9120, b=1.2579 and loss=484.3904\n",
      "The parameters are w=12.9118, b=1.2615 and loss=484.3775\n",
      "The parameters are w=12.9116, b=1.2651 and loss=484.3647\n",
      "The parameters are w=12.9113, b=1.2686 and loss=484.3513\n",
      "The parameters are w=12.9111, b=1.2722 and loss=484.3383\n",
      "The parameters are w=12.9108, b=1.2758 and loss=484.3255\n",
      "The parameters are w=12.9106, b=1.2794 and loss=484.3126\n",
      "The parameters are w=12.9103, b=1.2830 and loss=484.2996\n",
      "The parameters are w=12.9101, b=1.2866 and loss=484.2866\n",
      "The parameters are w=12.9098, b=1.2902 and loss=484.2739\n",
      "The parameters are w=12.9096, b=1.2938 and loss=484.2608\n",
      "The parameters are w=12.9094, b=1.2973 and loss=484.2480\n",
      "The parameters are w=12.9091, b=1.3009 and loss=484.2351\n",
      "The parameters are w=12.9089, b=1.3045 and loss=484.2222\n",
      "The parameters are w=12.9086, b=1.3081 and loss=484.2092\n",
      "The parameters are w=12.9084, b=1.3117 and loss=484.1965\n",
      "The parameters are w=12.9081, b=1.3152 and loss=484.1837\n",
      "The parameters are w=12.9079, b=1.3188 and loss=484.1708\n",
      "The parameters are w=12.9076, b=1.3224 and loss=484.1581\n",
      "The parameters are w=12.9074, b=1.3260 and loss=484.1451\n",
      "The parameters are w=12.9071, b=1.3295 and loss=484.1324\n",
      "The parameters are w=12.9069, b=1.3331 and loss=484.1194\n",
      "The parameters are w=12.9067, b=1.3367 and loss=484.1068\n",
      "The parameters are w=12.9064, b=1.3402 and loss=484.0941\n",
      "The parameters are w=12.9062, b=1.3438 and loss=484.0811\n",
      "The parameters are w=12.9059, b=1.3474 and loss=484.0683\n",
      "The parameters are w=12.9057, b=1.3509 and loss=484.0554\n",
      "The parameters are w=12.9054, b=1.3545 and loss=484.0429\n",
      "The parameters are w=12.9052, b=1.3580 and loss=484.0303\n",
      "The parameters are w=12.9049, b=1.3616 and loss=484.0173\n",
      "The parameters are w=12.9047, b=1.3652 and loss=484.0046\n",
      "The parameters are w=12.9044, b=1.3687 and loss=483.9920\n",
      "The parameters are w=12.9042, b=1.3723 and loss=483.9792\n",
      "The parameters are w=12.9040, b=1.3758 and loss=483.9666\n",
      "The parameters are w=12.9037, b=1.3794 and loss=483.9538\n",
      "The parameters are w=12.9035, b=1.3829 and loss=483.9412\n",
      "The parameters are w=12.9032, b=1.3865 and loss=483.9284\n",
      "The parameters are w=12.9030, b=1.3900 and loss=483.9156\n",
      "The parameters are w=12.9027, b=1.3936 and loss=483.9032\n",
      "The parameters are w=12.9025, b=1.3971 and loss=483.8904\n",
      "The parameters are w=12.9023, b=1.4007 and loss=483.8778\n",
      "The parameters are w=12.9020, b=1.4042 and loss=483.8651\n",
      "The parameters are w=12.9018, b=1.4078 and loss=483.8528\n",
      "The parameters are w=12.9015, b=1.4113 and loss=483.8402\n",
      "The parameters are w=12.9013, b=1.4148 and loss=483.8273\n",
      "The parameters are w=12.9010, b=1.4184 and loss=483.8149\n",
      "The parameters are w=12.9008, b=1.4219 and loss=483.8022\n",
      "The parameters are w=12.9005, b=1.4255 and loss=483.7897\n",
      "The parameters are w=12.9003, b=1.4290 and loss=483.7774\n",
      "The parameters are w=12.9001, b=1.4325 and loss=483.7643\n",
      "The parameters are w=12.8998, b=1.4361 and loss=483.7520\n",
      "The parameters are w=12.8996, b=1.4396 and loss=483.7392\n",
      "The parameters are w=12.8993, b=1.4431 and loss=483.7269\n",
      "The parameters are w=12.8991, b=1.4467 and loss=483.7142\n",
      "The parameters are w=12.8989, b=1.4502 and loss=483.7018\n",
      "The parameters are w=12.8986, b=1.4537 and loss=483.6895\n",
      "The parameters are w=12.8984, b=1.4572 and loss=483.6765\n",
      "The parameters are w=12.8981, b=1.4608 and loss=483.6642\n",
      "The parameters are w=12.8979, b=1.4643 and loss=483.6519\n",
      "The parameters are w=12.8976, b=1.4678 and loss=483.6394\n",
      "The parameters are w=12.8974, b=1.4713 and loss=483.6268\n",
      "The parameters are w=12.8972, b=1.4749 and loss=483.6146\n",
      "The parameters are w=12.8969, b=1.4784 and loss=483.6020\n",
      "The parameters are w=12.8967, b=1.4819 and loss=483.5894\n",
      "The parameters are w=12.8964, b=1.4854 and loss=483.5772\n",
      "The parameters are w=12.8962, b=1.4889 and loss=483.5648\n",
      "The parameters are w=12.8959, b=1.4924 and loss=483.5522\n",
      "The parameters are w=12.8957, b=1.4959 and loss=483.5399\n",
      "The parameters are w=12.8955, b=1.4995 and loss=483.5275\n",
      "The parameters are w=12.8952, b=1.5030 and loss=483.5152\n",
      "The parameters are w=12.8950, b=1.5065 and loss=483.5029\n"
     ]
    }
   ],
   "source": [
    "loss_list = []\n",
    "for epoch in range(100):\n",
    "    running_loss = 0.0\n",
    "    optimizer.zero_grad()\n",
    "    \n",
    "    for x, y in dataloader:\n",
    "        y_p = model(x)\n",
    "        loss = criterion(y_p, y)\n",
    "        running_loss += loss\n",
    "\n",
    "    running_loss = running_loss / len(dataloader)\n",
    "    running_loss.backward()\n",
    "    optimizer.step()\n",
    "    \n",
    "    print(\"The parameters are w={:.4f}, b={:.4f} and loss={:.4f}\".format(model.w.item(), model.b.item(), running_loss))\n",
    "    loss_list.append(running_loss.item())"
   ]
  },
  {
   "cell_type": "code",
   "execution_count": 7,
   "id": "e011e1f2-c64c-405f-8d47-b05073ad2af3",
   "metadata": {},
   "outputs": [
    {
     "data": {
      "image/png": "[encoded data removed]",
      "text/plain": [
       "<Figure size 640x480 with 1 Axes>"
      ]
     },
     "metadata": {},
     "output_type": "display_data"
    }
   ],
   "source": [
    "plt.plot(loss_list)\n",
    "plt.show()"
   ]
  },
  {
   "cell_type": "code",
   "execution_count": null,
   "id": "9ffa75b8-f50f-4831-baf0-a5cde15f0db6",
   "metadata": {},
   "outputs": [],
   "source": []
  }
 ],
 "metadata": {
  "kernelspec": {
   "display_name": "Python 3 (ipykernel)",
   "language": "python",
   "name": "python3"
  },
  "language_info": {
   "codemirror_mode": {
    "name": "ipython",
    "version": 3
   },
   "file_extension": ".py",
   "mimetype": "text/x-python",
   "name": "python",
   "nbconvert_exporter": "python",
   "pygments_lexer": "ipython3",
   "version": "3.11.7"
  }
 },
 "nbformat": 4,
 "nbformat_minor": 5
}
