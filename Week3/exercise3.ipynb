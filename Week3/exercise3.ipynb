{
 "cells": [
  {
   "cell_type": "code",
   "execution_count": 1,
   "id": "d430955d-511b-4449-8d9a-1d84412b4dfa",
   "metadata": {},
   "outputs": [],
   "source": [
    "import torch\n",
    "import matplotlib.pyplot as plt"
   ]
  },
  {
   "cell_type": "code",
   "execution_count": 2,
   "id": "b0aec3f6-1d7b-4c94-a134-e05a7bd9d142",
   "metadata": {},
   "outputs": [],
   "source": [
    "class RegressionModel:\n",
    "    def __init__(self):\n",
    "        self.w = torch.rand([1], requires_grad=True)\n",
    "        self.b = torch.rand([1], requires_grad=True)\n",
    "\n",
    "    def forward(self, x):\n",
    "        return self.w * x + self.b\n",
    "\n",
    "    def update(self):\n",
    "        self.w -= learning_rate * self.w.grad\n",
    "        self.b -= learning_rate * self.b.grad\n",
    "\n",
    "    def reset_grad(self):\n",
    "        self.w.grad.zero_()\n",
    "        self.b.grad.zero_()\n",
    "\n",
    "\n",
    "def criterion(yj, y_p):\n",
    "    return (yj - y_p) ** 2"
   ]
  },
  {
   "cell_type": "code",
   "execution_count": 3,
   "id": "08922f20-b849-4ef7-b7e2-dc8ce63c3be7",
   "metadata": {},
   "outputs": [],
   "source": [
    "X = torch.tensor([5.0, 7.0, 12.0, 16.0, 20.0])\n",
    "Y = torch.tensor([40.0, 120.0, 180.0, 210.0, 240.0])"
   ]
  },
  {
   "cell_type": "code",
   "execution_count": 4,
   "id": "6246aba2-4095-4873-a9b0-48b57334b1ae",
   "metadata": {},
   "outputs": [],
   "source": [
    "learning_rate = torch.tensor(0.001)"
   ]
  },
  {
   "cell_type": "code",
   "execution_count": 5,
   "id": "3f689197-24d0-4634-bb73-026582f65832",
   "metadata": {},
   "outputs": [],
   "source": [
    "model = RegressionModel()"
   ]
  },
  {
   "cell_type": "code",
   "execution_count": 6,
   "id": "b3a5d65f-008b-42af-bc46-6e08c5d0fb3d",
   "metadata": {
    "scrolled": true
   },
   "outputs": [
    {
     "name": "stdout",
     "output_type": "stream",
     "text": [
      "The parameters are w=4.7189, b=1.3035 and loss=28340.8965\n",
      "The parameters are w=7.5819, b=1.5036 and loss=12207.3262\n",
      "The parameters are w=9.4392, b=1.6346 and loss=5417.0605\n",
      "The parameters are w=10.6440, b=1.7208 and loss=2559.1855\n",
      "The parameters are w=11.4256, b=1.7779 and loss=1356.3625\n",
      "The parameters are w=11.9325, b=1.8162 and loss=850.1155\n",
      "The parameters are w=12.2613, b=1.8421 and loss=637.0407\n",
      "The parameters are w=12.4746, b=1.8602 and loss=547.3558\n",
      "The parameters are w=12.6128, b=1.8731 and loss=509.6025\n",
      "The parameters are w=12.7024, b=1.8826 and loss=493.7066\n",
      "The parameters are w=12.7605, b=1.8900 and loss=487.0100\n",
      "The parameters are w=12.7980, b=1.8960 and loss=484.1847\n",
      "The parameters are w=12.8223, b=1.9010 and loss=482.9889\n",
      "The parameters are w=12.8380, b=1.9055 and loss=482.4792\n",
      "The parameters are w=12.8481, b=1.9096 and loss=482.2578\n",
      "The parameters are w=12.8546, b=1.9134 and loss=482.1583\n",
      "The parameters are w=12.8587, b=1.9170 and loss=482.1099\n",
      "The parameters are w=12.8613, b=1.9206 and loss=482.0827\n",
      "The parameters are w=12.8629, b=1.9241 and loss=482.0646\n",
      "The parameters are w=12.8638, b=1.9275 and loss=482.0509\n",
      "The parameters are w=12.8644, b=1.9309 and loss=482.0380\n",
      "The parameters are w=12.8647, b=1.9343 and loss=482.0262\n",
      "The parameters are w=12.8647, b=1.9377 and loss=482.0148\n",
      "The parameters are w=12.8647, b=1.9411 and loss=482.0034\n",
      "The parameters are w=12.8646, b=1.9445 and loss=481.9922\n",
      "The parameters are w=12.8645, b=1.9478 and loss=481.9807\n",
      "The parameters are w=12.8643, b=1.9512 and loss=481.9694\n",
      "The parameters are w=12.8641, b=1.9545 and loss=481.9581\n",
      "The parameters are w=12.8639, b=1.9579 and loss=481.9468\n",
      "The parameters are w=12.8637, b=1.9612 and loss=481.9357\n",
      "The parameters are w=12.8635, b=1.9646 and loss=481.9242\n",
      "The parameters are w=12.8633, b=1.9679 and loss=481.9131\n",
      "The parameters are w=12.8630, b=1.9713 and loss=481.9018\n",
      "The parameters are w=12.8628, b=1.9746 and loss=481.8909\n",
      "The parameters are w=12.8626, b=1.9780 and loss=481.8795\n",
      "The parameters are w=12.8624, b=1.9813 and loss=481.8681\n",
      "The parameters are w=12.8621, b=1.9846 and loss=481.8569\n",
      "The parameters are w=12.8619, b=1.9880 and loss=481.8457\n",
      "The parameters are w=12.8617, b=1.9913 and loss=481.8344\n",
      "The parameters are w=12.8614, b=1.9947 and loss=481.8233\n",
      "The parameters are w=12.8612, b=1.9980 and loss=481.8120\n",
      "The parameters are w=12.8610, b=2.0013 and loss=481.8008\n",
      "The parameters are w=12.8607, b=2.0047 and loss=481.7897\n",
      "The parameters are w=12.8605, b=2.0080 and loss=481.7784\n",
      "The parameters are w=12.8603, b=2.0113 and loss=481.7673\n",
      "The parameters are w=12.8601, b=2.0147 and loss=481.7562\n",
      "The parameters are w=12.8598, b=2.0180 and loss=481.7449\n",
      "The parameters are w=12.8596, b=2.0213 and loss=481.7337\n",
      "The parameters are w=12.8594, b=2.0246 and loss=481.7226\n",
      "The parameters are w=12.8591, b=2.0280 and loss=481.7115\n",
      "The parameters are w=12.8589, b=2.0313 and loss=481.7004\n",
      "The parameters are w=12.8587, b=2.0346 and loss=481.6893\n",
      "The parameters are w=12.8585, b=2.0379 and loss=481.6782\n",
      "The parameters are w=12.8582, b=2.0413 and loss=481.6674\n",
      "The parameters are w=12.8580, b=2.0446 and loss=481.6560\n",
      "The parameters are w=12.8578, b=2.0479 and loss=481.6453\n",
      "The parameters are w=12.8575, b=2.0512 and loss=481.6337\n",
      "The parameters are w=12.8573, b=2.0545 and loss=481.6230\n",
      "The parameters are w=12.8571, b=2.0578 and loss=481.6122\n",
      "The parameters are w=12.8569, b=2.0612 and loss=481.6010\n",
      "The parameters are w=12.8566, b=2.0645 and loss=481.5899\n",
      "The parameters are w=12.8564, b=2.0678 and loss=481.5791\n",
      "The parameters are w=12.8562, b=2.0711 and loss=481.5677\n",
      "The parameters are w=12.8560, b=2.0744 and loss=481.5572\n",
      "The parameters are w=12.8557, b=2.0777 and loss=481.5458\n",
      "The parameters are w=12.8555, b=2.0810 and loss=481.5349\n",
      "The parameters are w=12.8553, b=2.0843 and loss=481.5239\n",
      "The parameters are w=12.8550, b=2.0876 and loss=481.5127\n",
      "The parameters are w=12.8548, b=2.0909 and loss=481.5018\n",
      "The parameters are w=12.8546, b=2.0942 and loss=481.4911\n",
      "The parameters are w=12.8544, b=2.0975 and loss=481.4800\n",
      "The parameters are w=12.8541, b=2.1008 and loss=481.4688\n",
      "The parameters are w=12.8539, b=2.1041 and loss=481.4582\n",
      "The parameters are w=12.8537, b=2.1074 and loss=481.4472\n",
      "The parameters are w=12.8535, b=2.1107 and loss=481.4362\n",
      "The parameters are w=12.8532, b=2.1140 and loss=481.4252\n",
      "The parameters are w=12.8530, b=2.1173 and loss=481.4145\n",
      "The parameters are w=12.8528, b=2.1206 and loss=481.4035\n",
      "The parameters are w=12.8526, b=2.1239 and loss=481.3927\n",
      "The parameters are w=12.8523, b=2.1272 and loss=481.3819\n",
      "The parameters are w=12.8521, b=2.1305 and loss=481.3709\n",
      "The parameters are w=12.8519, b=2.1338 and loss=481.3598\n",
      "The parameters are w=12.8516, b=2.1371 and loss=481.3492\n",
      "The parameters are w=12.8514, b=2.1404 and loss=481.3380\n",
      "The parameters are w=12.8512, b=2.1436 and loss=481.3273\n",
      "The parameters are w=12.8510, b=2.1469 and loss=481.3167\n",
      "The parameters are w=12.8507, b=2.1502 and loss=481.3054\n",
      "The parameters are w=12.8505, b=2.1535 and loss=481.2948\n",
      "The parameters are w=12.8503, b=2.1568 and loss=481.2840\n",
      "The parameters are w=12.8501, b=2.1600 and loss=481.2732\n",
      "The parameters are w=12.8498, b=2.1633 and loss=481.2624\n",
      "The parameters are w=12.8496, b=2.1666 and loss=481.2516\n",
      "The parameters are w=12.8494, b=2.1699 and loss=481.2407\n",
      "The parameters are w=12.8492, b=2.1732 and loss=481.2302\n",
      "The parameters are w=12.8489, b=2.1764 and loss=481.2191\n",
      "The parameters are w=12.8487, b=2.1797 and loss=481.2088\n",
      "The parameters are w=12.8485, b=2.1830 and loss=481.1975\n",
      "The parameters are w=12.8483, b=2.1862 and loss=481.1873\n",
      "The parameters are w=12.8480, b=2.1895 and loss=481.1763\n",
      "The parameters are w=12.8478, b=2.1928 and loss=481.1655\n"
     ]
    }
   ],
   "source": [
    "loss_list = []\n",
    "for epochs in range(100):\n",
    "    loss = 0.0\n",
    "\n",
    "    for j in range(len(X)):\n",
    "        y_p = model.forward(X[j])\n",
    "        loss += criterion(Y[j], y_p)\n",
    "\n",
    "    loss = loss / len(X)\n",
    "    loss_list.append(loss.item())\n",
    "    loss.backward()\n",
    "\n",
    "    with torch.no_grad():\n",
    "        model.update()\n",
    "\n",
    "    model.reset_grad()\n",
    "\n",
    "    print(\"The parameters are w={:.4f}, b={:.4f} and loss={:.4f}\".format(model.w.item(), model.b.item(), loss.item()))    "
   ]
  },
  {
   "cell_type": "code",
   "execution_count": 7,
   "id": "50826f7c-482a-4d17-a32b-b61d9bae601b",
   "metadata": {},
   "outputs": [
    {
     "data": {
      "image/png": "[encoded data removed]",
      "text/plain": [
       "<Figure size 640x480 with 1 Axes>"
      ]
     },
     "metadata": {},
     "output_type": "display_data"
    }
   ],
   "source": [
    "plt.plot(loss_list)\n",
    "plt.show()"
   ]
  },
  {
   "cell_type": "code",
   "execution_count": null,
   "id": "eea12439-c856-4760-b8ca-76b7555a1762",
   "metadata": {},
   "outputs": [],
   "source": []
  }
 ],
 "metadata": {
  "kernelspec": {
   "display_name": "Python 3 (ipykernel)",
   "language": "python",
   "name": "python3"
  },
  "language_info": {
   "codemirror_mode": {
    "name": "ipython",
    "version": 3
   },
   "file_extension": ".py",
   "mimetype": "text/x-python",
   "name": "python",
   "nbconvert_exporter": "python",
   "pygments_lexer": "ipython3",
   "version": "3.11.7"
  }
 },
 "nbformat": 4,
 "nbformat_minor": 5
}
