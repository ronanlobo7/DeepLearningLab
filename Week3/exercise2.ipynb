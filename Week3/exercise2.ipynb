{
 "cells": [
  {
   "cell_type": "code",
   "execution_count": 1,
   "id": "fe040465-031a-425c-b876-93326f88b474",
   "metadata": {},
   "outputs": [],
   "source": [
    "import torch"
   ]
  },
  {
   "cell_type": "code",
   "execution_count": 2,
   "id": "d1ad135b-749a-4f73-8116-108d2af1b216",
   "metadata": {},
   "outputs": [],
   "source": [
    "def pytorch_updation(X, Y, w, b):\n",
    "    print('PyTorch: ')\n",
    "    loss = 0.0\n",
    "\n",
    "    for i in range(len(X)):\n",
    "        y_p = w * X[i] + b\n",
    "        loss += (y_p - Y[i])\n",
    "\n",
    "    loss = loss / len(X)\n",
    "    loss_list.append(loss.item())\n",
    "    loss.backward()\n",
    "\n",
    "    print('Gradients:')\n",
    "    print('\\tdw = {:.4f}'.format(w.grad.item()))\n",
    "    print('\\tdb = {:.4f}'.format(b.grad.item()))\n",
    "\n",
    "    with torch.no_grad():\n",
    "        w -= learning_rate * w.grad\n",
    "        b -= learning_rate * b.grad\n",
    "\n",
    "    print('Updated Values:')\n",
    "    print('\\tw = {:.4f}'.format(w.item()))\n",
    "    print('\\tb = {:.4f}'.format(b.item()))\n",
    "\n",
    "    w.grad.zero_()\n",
    "    b.grad.zero_()\n",
    "\n",
    "    return w, b\n",
    "\n",
    "def manual_updation(X, Y, w, b):\n",
    "    print('Manual: ')\n",
    "    loss = 0.0\n",
    "\n",
    "    for i in range(len(X)):\n",
    "        y_p = w * X[i] + b\n",
    "        loss += (y_p - Y[i])\n",
    "\n",
    "\n",
    "    return w, b"
   ]
  },
  {
   "cell_type": "code",
   "execution_count": 3,
   "id": "0b2e631b-9bf7-4a90-bb49-f45dda249463",
   "metadata": {},
   "outputs": [],
   "source": [
    "X_py = [2, 4]\n",
    "Y_py = [20, 40]\n",
    "\n",
    "X_pt = torch.tensor(X_py)\n",
    "Y_pt = torch.tensor(Y_py)"
   ]
  },
  {
   "cell_type": "code",
   "execution_count": 4,
   "id": "5bd7a92a-95b8-46dc-a74f-4d2740503782",
   "metadata": {},
   "outputs": [],
   "source": [
    "w_py = 1.0\n",
    "b_py = 1.0\n",
    "\n",
    "w_pt = torch.tensor(w_py, requires_grad=True)\n",
    "b_pt = torch.tensor(b_py, requires_grad=True)"
   ]
  },
  {
   "cell_type": "code",
   "execution_count": 5,
   "id": "bb89d292-ebbb-4909-9fbe-00c7929ab614",
   "metadata": {},
   "outputs": [],
   "source": [
    "learning_rate = 0.001"
   ]
  },
  {
   "cell_type": "code",
   "execution_count": 6,
   "id": "8a67407f-4d8f-4015-b779-53943211a023",
   "metadata": {},
   "outputs": [
    {
     "name": "stdout",
     "output_type": "stream",
     "text": [
      "PyTorch: \n",
      "Gradients:\n",
      "\tdw = 3.0000\n",
      "\tdb = 1.0000\n",
      "Updated Values:\n",
      "\tw = 0.9970\n",
      "\tb = 0.9990\n",
      "Manual: \n"
     ]
    },
    {
     "ename": "TypeError",
     "evalue": "cannot unpack non-iterable NoneType object",
     "output_type": "error",
     "traceback": [
      "\u001b[0;31m---------------------------------------------------------------------------\u001b[0m",
      "\u001b[0;31mTypeError\u001b[0m                                 Traceback (most recent call last)",
      "Cell \u001b[0;32mIn[6], line 4\u001b[0m\n\u001b[1;32m      2\u001b[0m \u001b[38;5;28;01mfor\u001b[39;00m epochs \u001b[38;5;129;01min\u001b[39;00m \u001b[38;5;28mrange\u001b[39m(\u001b[38;5;241m2\u001b[39m):\n\u001b[1;32m      3\u001b[0m     w_pt, b_pt \u001b[38;5;241m=\u001b[39m pytorch_updation(X_pt, Y_pt, w_pt, b_pt) \n\u001b[0;32m----> 4\u001b[0m     w_py, b_py \u001b[38;5;241m=\u001b[39m manual_updation(X_py, Y_py, w_py, b_py)\n\u001b[1;32m      5\u001b[0m     \u001b[38;5;28mprint\u001b[39m()\n",
      "\u001b[0;31mTypeError\u001b[0m: cannot unpack non-iterable NoneType object"
     ]
    }
   ],
   "source": [
    "loss_list = []\n",
    "for epochs in range(2):\n",
    "    w_pt, b_pt = pytorch_updation(X_pt, Y_pt, w_pt, b_pt) \n",
    "    w_py, b_py = manual_updation(X_py, Y_py, w_py, b_py)\n",
    "    print()"
   ]
  },
  {
   "cell_type": "code",
   "execution_count": null,
   "id": "ab45e554-8365-458c-a7a3-8ad61c546855",
   "metadata": {},
   "outputs": [],
   "source": []
  }
 ],
 "metadata": {
  "kernelspec": {
   "display_name": "Python 3 (ipykernel)",
   "language": "python",
   "name": "python3"
  },
  "language_info": {
   "codemirror_mode": {
    "name": "ipython",
    "version": 3
   },
   "file_extension": ".py",
   "mimetype": "text/x-python",
   "name": "python",
   "nbconvert_exporter": "python",
   "pygments_lexer": "ipython3",
   "version": "3.11.7"
  }
 },
 "nbformat": 4,
 "nbformat_minor": 5
}
