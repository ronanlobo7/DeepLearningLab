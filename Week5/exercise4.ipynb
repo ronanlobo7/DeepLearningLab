{
 "cells": [
  {
   "cell_type": "code",
   "execution_count": 1,
   "id": "960cc226-b66a-4181-ae12-be9cdf70812d",
   "metadata": {},
   "outputs": [],
   "source": [
    "import torch\n",
    "import torch.nn as nn\n",
    "import torch.nn.functional as F\n",
    "import torch.optim as optim\n",
    "from torch.utils.data import DataLoader\n",
    "from torchvision.transforms import ToTensor\n",
    "from torchvision.datasets import MNIST\n",
    "import matplotlib.pyplot as plt\n",
    "from sklearn.metrics import confusion_matrix\n",
    "import seaborn as sns\n",
    "import pandas as pd\n",
    "import numpy as np"
   ]
  },
  {
   "cell_type": "code",
   "execution_count": 2,
   "id": "9b4803d2-9abe-4b82-838a-95e9fb2740f2",
   "metadata": {},
   "outputs": [],
   "source": [
    "class CNNClassifier(nn.Module):\n",
    "    def __init__(self, i):\n",
    "        super(CNNClassifier, self).__init__()\n",
    "        self.net = nn.Sequential(\n",
    "            nn.Conv2d(1, 2**i, kernel_size=3),\n",
    "            nn.ReLU(),\n",
    "            nn.MaxPool2d((2, 2), stride=2),\n",
    "            nn.Conv2d(2**i, 2**(i+1), kernel_size=3),\n",
    "            nn.ReLU(),\n",
    "            nn.MaxPool2d((2, 2), stride=2),\n",
    "            nn.Conv2d(2**(i+1), 2**i, kernel_size=3),\n",
    "            nn.ReLU(),\n",
    "            nn.MaxPool2d((2, 2), stride=2)\n",
    "        )\n",
    "        self.classification_head = nn.Linear(2**i, 10, bias=True)\n",
    "        \n",
    "    def forward(self, x):\n",
    "        features = self.net(x)\n",
    "        return self.classification_head(features.view(features.shape[0], -1))"
   ]
  },
  {
   "cell_type": "code",
   "execution_count": 3,
   "id": "73f9d493-0cc9-491b-814c-1b35cb7ef7f8",
   "metadata": {},
   "outputs": [],
   "source": [
    "def train(model, epoch):\n",
    "    model.train()\n",
    "    for batch_idx, (data, target) in enumerate(train_loader):\n",
    "        data, target = data.to(DEVICE), target.to(DEVICE)\n",
    "        optimizer.zero_grad()\n",
    "        output = model(data)\n",
    "        loss = criterion(output, target)\n",
    "        loss.backward()\n",
    "        optimizer.step()"
   ]
  },
  {
   "cell_type": "code",
   "execution_count": 4,
   "id": "02fc5b7e-f6c6-4e2c-bd54-e2466a993da3",
   "metadata": {},
   "outputs": [],
   "source": [
    "def test(model):\n",
    "    model.eval()\n",
    "    correct = 0\n",
    "    with torch.no_grad():\n",
    "        for data, target in test_loader:\n",
    "            data, target = data.to(DEVICE), target.to(DEVICE)\n",
    "            output = model(data)\n",
    "            pred = output.data.max(1, keepdim=True)[1]\n",
    "            correct += pred.eq(target.data.view_as(pred)).sum()\n",
    "    return 100. * correct / len(test_loader.dataset)"
   ]
  },
  {
   "cell_type": "code",
   "execution_count": 5,
   "id": "4da20d3b-2e8c-409c-bf01-fccf6ec67e39",
   "metadata": {},
   "outputs": [
    {
     "data": {
      "text/plain": [
       "<torch._C.Generator at 0x7f8b8b79a750>"
      ]
     },
     "execution_count": 5,
     "metadata": {},
     "output_type": "execute_result"
    }
   ],
   "source": [
    "EPOCHS = 5\n",
    "BATCH_SIZE_TRAIN = 64\n",
    "BATCH_SIZE_TEST = 1000\n",
    "LR = 0.01\n",
    "LOG_INTERVAL = 100\n",
    "RANDOM_SEED = 1\n",
    "DEVICE = torch.device(\"cuda\" if torch.cuda.is_available() else \"cpu\")\n",
    "\n",
    "torch.manual_seed(RANDOM_SEED)"
   ]
  },
  {
   "cell_type": "code",
   "execution_count": 6,
   "id": "3f141b9c-2d44-44cd-91f5-575bfc7dd5cf",
   "metadata": {},
   "outputs": [],
   "source": [
    "train_dataset = MNIST('data/', train=True, download=True, transform=ToTensor())\n",
    "test_dataset = MNIST('data/', train=False, download=True, transform=ToTensor())\n",
    "\n",
    "train_loader = DataLoader(train_dataset, batch_size=BATCH_SIZE_TRAIN, shuffle=True)\n",
    "test_loader = DataLoader(test_dataset, batch_size=BATCH_SIZE_TEST, shuffle=True)"
   ]
  },
  {
   "cell_type": "code",
   "execution_count": 7,
   "id": "e3e93d63-c6fb-44f1-959d-989522a5efe8",
   "metadata": {},
   "outputs": [
    {
     "name": "stdout",
     "output_type": "stream",
     "text": [
      "Model Number 1:\n",
      "\tTotal Params:  200\n",
      "\tTraining Epoch 1\n"
     ]
    },
    {
     "name": "stderr",
     "output_type": "stream",
     "text": [
      "/opt/anaconda3/envs/pytorch_env/lib/python3.11/site-packages/torch/nn/modules/conv.py:456: UserWarning: Applied workaround for CuDNN issue, install nvrtc.so (Triggered internally at /opt/conda/conda-bld/pytorch_1702400440653/work/aten/src/ATen/native/cudnn/Conv_v8.cpp:80.)\n",
      "  return F.conv2d(input, weight, bias, self.stride,\n"
     ]
    },
    {
     "name": "stdout",
     "output_type": "stream",
     "text": [
      "\tTraining Epoch 2\n",
      "\tTraining Epoch 3\n",
      "\tTraining Epoch 4\n",
      "\tTraining Epoch 5\n",
      "\tTesting Accuracy: 41.62999725341797\n",
      "\tFinished Training and Testing Model 1\n",
      "\n",
      "Model Number 2:\n",
      "\tTotal Params:  678\n",
      "\tTraining Epoch 1\n",
      "\tTraining Epoch 2\n",
      "\tTraining Epoch 3\n",
      "\tTraining Epoch 4\n",
      "\tTraining Epoch 5\n",
      "\tTesting Accuracy: 69.50999450683594\n",
      "\tFinished Training and Testing Model 2\n",
      "\n",
      "Model Number 3:\n",
      "\tTotal Params:  2498\n",
      "\tTraining Epoch 1\n",
      "\tTraining Epoch 2\n",
      "\tTraining Epoch 3\n",
      "\tTraining Epoch 4\n",
      "\tTraining Epoch 5\n",
      "\tTesting Accuracy: 89.11000061035156\n",
      "\tFinished Training and Testing Model 3\n",
      "\n",
      "Model Number 4:\n",
      "\tTotal Params:  9594\n",
      "\tTraining Epoch 1\n",
      "\tTraining Epoch 2\n",
      "\tTraining Epoch 3\n",
      "\tTraining Epoch 4\n",
      "\tTraining Epoch 5\n",
      "\tTesting Accuracy: 93.66999816894531\n",
      "\tFinished Training and Testing Model 4\n",
      "\n",
      "Model Number 5:\n",
      "\tTotal Params:  37610\n",
      "\tTraining Epoch 1\n",
      "\tTraining Epoch 2\n",
      "\tTraining Epoch 3\n",
      "\tTraining Epoch 4\n",
      "\tTraining Epoch 5\n",
      "\tTesting Accuracy: 95.07999420166016\n",
      "\tFinished Training and Testing Model 5\n",
      "\n",
      "Model Number 6:\n",
      "\tTotal Params:  148938\n",
      "\tTraining Epoch 1\n",
      "\tTraining Epoch 2\n",
      "\tTraining Epoch 3\n",
      "\tTraining Epoch 4\n",
      "\tTraining Epoch 5\n",
      "\tTesting Accuracy: 95.6199951171875\n",
      "\tFinished Training and Testing Model 6\n",
      "\n"
     ]
    }
   ],
   "source": [
    "n_params = []\n",
    "acc = []\n",
    "\n",
    "for i in range(1, 7):\n",
    "    print(f'Model Number {i}:')\n",
    "    model = CNNClassifier(i).to(DEVICE)\n",
    "    criterion = nn.CrossEntropyLoss()\n",
    "    optimizer = optim.SGD(model.parameters(), lr=LR)\n",
    "    \n",
    "    total_params = 0\n",
    "    for param in model.parameters():\n",
    "        total_params += param.numel()\n",
    "    print('\\tTotal Params: ', total_params)\n",
    "    for epoch in range(1, EPOCHS + 1):\n",
    "        print(f'\\tTraining Epoch {epoch}')\n",
    "        train(model, epoch)\n",
    "\n",
    "    accuracy = test(model)\n",
    "    print(f'\\tTesting Accuracy: {accuracy}')\n",
    "    n_params.append(total_params)\n",
    "    acc.append(accuracy.item())\n",
    "    print(f'\\tFinished Training and Testing Model {i}\\n')"
   ]
  },
  {
   "cell_type": "code",
   "execution_count": 11,
   "id": "b1167a6e-dcca-43ba-ae38-630063c45b1a",
   "metadata": {},
   "outputs": [
    {
     "data": {
      "image/png": "[encoded data removed]",
      "text/plain": [
       "<Figure size 640x480 with 1 Axes>"
      ]
     },
     "metadata": {},
     "output_type": "display_data"
    }
   ],
   "source": [
    "plt.plot(n_params, acc)\n",
    "plt.xlabel('Number of Parameters')\n",
    "plt.ylabel('Accuracy')\n",
    "plt.xscale('log')\n",
    "plt.show()"
   ]
  },
  {
   "cell_type": "code",
   "execution_count": null,
   "id": "0ee5c7ce-7ea3-4ba1-9589-7e16a3224bef",
   "metadata": {},
   "outputs": [],
   "source": []
  }
 ],
 "metadata": {
  "kernelspec": {
   "display_name": "Python 3 (ipykernel)",
   "language": "python",
   "name": "python3"
  },
  "language_info": {
   "codemirror_mode": {
    "name": "ipython",
    "version": 3
   },
   "file_extension": ".py",
   "mimetype": "text/x-python",
   "name": "python",
   "nbconvert_exporter": "python",
   "pygments_lexer": "ipython3",
   "version": "3.11.7"
  }
 },
 "nbformat": 4,
 "nbformat_minor": 5
}
