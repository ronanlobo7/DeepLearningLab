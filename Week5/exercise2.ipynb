{
  "cells": [
    {
      "cell_type": "code",
      "execution_count": 1,
      "id": "64aa4a01-3c1e-4fd0-9ad4-ec4106e5ac2a",
      "metadata": {
        "id": "64aa4a01-3c1e-4fd0-9ad4-ec4106e5ac2a"
      },
      "outputs": [],
      "source": [
        "import torch\n",
        "import torch.nn as nn\n",
        "import torch.nn.functional as F"
      ]
    },
    {
      "cell_type": "code",
      "execution_count": 2,
      "id": "b5f3b5a8-758c-41b0-a9de-1a103212ee73",
      "metadata": {
        "id": "b5f3b5a8-758c-41b0-a9de-1a103212ee73",
        "outputId": "7bc1d9a4-0d1a-47b9-e131-ac8907cf3aa5",
        "colab": {
          "base_uri": "https://localhost:8080/"
        }
      },
      "outputs": [
        {
          "output_type": "stream",
          "name": "stdout",
          "text": [
            "Image = \n",
            " tensor([[0.8414, 0.8447, 0.8830, 0.1700, 0.4013, 0.9514],\n",
            "        [0.0063, 0.3320, 0.7626, 0.1819, 0.8136, 0.6561],\n",
            "        [0.3665, 0.3986, 0.9396, 0.9791, 0.5025, 0.9616],\n",
            "        [0.3405, 0.3260, 0.1740, 0.5001, 0.9151, 0.4578],\n",
            "        [0.1618, 0.6261, 0.6079, 0.3112, 0.6898, 0.7664],\n",
            "        [0.2651, 0.7767, 0.1232, 0.1478, 0.5765, 0.2052]])\n"
          ]
        }
      ],
      "source": [
        "image = torch.rand(6, 6)\n",
        "\n",
        "print('Image = \\n', image)"
      ]
    },
    {
      "cell_type": "code",
      "execution_count": 3,
      "id": "208a936b-e50e-465b-9b8b-7173a49bb5b4",
      "metadata": {
        "id": "208a936b-e50e-465b-9b8b-7173a49bb5b4",
        "outputId": "38149170-d9c1-4c15-98dc-af564b4f3c8d",
        "colab": {
          "base_uri": "https://localhost:8080/"
        }
      },
      "outputs": [
        {
          "output_type": "stream",
          "name": "stdout",
          "text": [
            "Image shape:  torch.Size([1, 1, 6, 6])\n",
            "Image: \n",
            " tensor([[[[0.8414, 0.8447, 0.8830, 0.1700, 0.4013, 0.9514],\n",
            "          [0.0063, 0.3320, 0.7626, 0.1819, 0.8136, 0.6561],\n",
            "          [0.3665, 0.3986, 0.9396, 0.9791, 0.5025, 0.9616],\n",
            "          [0.3405, 0.3260, 0.1740, 0.5001, 0.9151, 0.4578],\n",
            "          [0.1618, 0.6261, 0.6079, 0.3112, 0.6898, 0.7664],\n",
            "          [0.2651, 0.7767, 0.1232, 0.1478, 0.5765, 0.2052]]]])\n"
          ]
        }
      ],
      "source": [
        "image = image.unsqueeze(dim=0)\n",
        "image = image.unsqueeze(dim=0)\n",
        "\n",
        "print('Image shape: ', image.shape)\n",
        "print('Image: \\n', image)"
      ]
    },
    {
      "cell_type": "code",
      "execution_count": 4,
      "id": "f290dce9-5efc-47c4-8afd-077cdd33dc5c",
      "metadata": {
        "id": "f290dce9-5efc-47c4-8afd-077cdd33dc5c"
      },
      "outputs": [],
      "source": [
        "conv = nn.Conv2d(1, 3, kernel_size=(3, 3), bias=False)"
      ]
    },
    {
      "cell_type": "code",
      "execution_count": 5,
      "id": "a7f9dbe3-0018-4140-a296-121b17a7450f",
      "metadata": {
        "id": "a7f9dbe3-0018-4140-a296-121b17a7450f",
        "outputId": "3b218492-bc4e-4aab-e4d8-706e7cf4c5da",
        "colab": {
          "base_uri": "https://localhost:8080/"
        }
      },
      "outputs": [
        {
          "output_type": "stream",
          "name": "stdout",
          "text": [
            "OutImage shape =  torch.Size([1, 3, 4, 4])\n",
            "OutImage = \n",
            " tensor([[[[ 0.2235,  0.3227,  0.0215, -0.0692],\n",
            "          [-0.3870, -0.2169, -0.0185, -0.3823],\n",
            "          [ 0.0388, -0.0960,  0.1293,  0.0999],\n",
            "          [-0.1435, -0.1858, -0.2065, -0.1780]],\n",
            "\n",
            "         [[-0.3450, -0.3351, -0.4300, -0.3394],\n",
            "          [-0.1092, -0.1282, -0.1250, -0.3497],\n",
            "          [-0.1944, -0.3868, -0.3657, -0.1648],\n",
            "          [-0.0308, -0.1883, -0.2047, -0.1111]],\n",
            "\n",
            "         [[ 0.1938, -0.1679,  0.0933,  0.1886],\n",
            "          [ 0.2053,  0.0995,  0.0414,  0.0903],\n",
            "          [ 0.0247,  0.1045,  0.1600, -0.0094],\n",
            "          [-0.0765,  0.0706,  0.2257, -0.0128]]]],\n",
            "       grad_fn=<ConvolutionBackward0>)\n"
          ]
        }
      ],
      "source": [
        "outimage = conv(image)\n",
        "\n",
        "print('OutImage shape = ', outimage.shape)\n",
        "print('OutImage = \\n', outimage)"
      ]
    },
    {
      "cell_type": "code",
      "execution_count": 6,
      "id": "2a434591-dad2-41a3-8d8e-73151c465ddd",
      "metadata": {
        "id": "2a434591-dad2-41a3-8d8e-73151c465ddd"
      },
      "outputs": [],
      "source": [
        "class MyConv2d:\n",
        "    def __init__(self, in_channels, out_channels, kernel_size, stride=1, padding=0):\n",
        "        self.kernels = torch.rand(out_channels, in_channels, kernel_size[0], kernel_size[1])\n",
        "        self.out_channels = out_channels\n",
        "        self.stride = stride\n",
        "        self.padding = padding\n",
        "    def convolve(self, x):\n",
        "        return F.conv2d(x, self.kernels)"
      ]
    },
    {
      "cell_type": "code",
      "execution_count": 7,
      "id": "6fff3751-e53f-49ec-89c1-0296ec5dc979",
      "metadata": {
        "id": "6fff3751-e53f-49ec-89c1-0296ec5dc979"
      },
      "outputs": [],
      "source": [
        "myconv = MyConv2d(1, 3, (3, 3))"
      ]
    },
    {
      "cell_type": "code",
      "execution_count": 8,
      "id": "daf7936c-5a9c-4c1e-a9d7-bb5b14e458f9",
      "metadata": {
        "id": "daf7936c-5a9c-4c1e-a9d7-bb5b14e458f9",
        "outputId": "e65b1084-ecc0-4c63-fad8-af2d27f22431",
        "colab": {
          "base_uri": "https://localhost:8080/"
        }
      },
      "outputs": [
        {
          "output_type": "stream",
          "name": "stdout",
          "text": [
            "OutImage shape =  torch.Size([1, 3, 4, 4])\n",
            "OutImage = \n",
            " tensor([[[[2.3678, 3.1866, 2.9238, 2.9663],\n",
            "          [1.6746, 2.4053, 3.3340, 3.2991],\n",
            "          [2.0961, 2.3427, 2.5782, 3.2008],\n",
            "          [1.7398, 2.0835, 2.0461, 2.2449]],\n",
            "\n",
            "         [[2.2373, 2.1297, 2.5264, 2.4693],\n",
            "          [1.7829, 2.0102, 2.3712, 2.9208],\n",
            "          [1.6683, 2.2036, 2.3427, 2.3296],\n",
            "          [1.3499, 1.5540, 1.9816, 1.8970]],\n",
            "\n",
            "         [[3.0175, 2.8300, 2.9140, 3.0227],\n",
            "          [2.1605, 2.4624, 2.9374, 3.3561],\n",
            "          [2.1971, 2.6326, 2.9501, 3.1229],\n",
            "          [1.9147, 1.5526, 2.3105, 2.5244]]]])\n"
          ]
        }
      ],
      "source": [
        "outimage = myconv.convolve(image)\n",
        "\n",
        "print('OutImage shape = ', outimage.shape)\n",
        "print('OutImage = \\n', outimage)"
      ]
    },
    {
      "cell_type": "code",
      "execution_count": 8,
      "id": "df1716fc-3d9d-4e03-b19a-363c96a691bb",
      "metadata": {
        "id": "df1716fc-3d9d-4e03-b19a-363c96a691bb"
      },
      "outputs": [],
      "source": []
    }
  ],
  "metadata": {
    "kernelspec": {
      "display_name": "Python 3 (ipykernel)",
      "language": "python",
      "name": "python3"
    },
    "language_info": {
      "codemirror_mode": {
        "name": "ipython",
        "version": 3
      },
      "file_extension": ".py",
      "mimetype": "text/x-python",
      "name": "python",
      "nbconvert_exporter": "python",
      "pygments_lexer": "ipython3",
      "version": "3.11.7"
    },
    "colab": {
      "provenance": []
    }
  },
  "nbformat": 4,
  "nbformat_minor": 5
}