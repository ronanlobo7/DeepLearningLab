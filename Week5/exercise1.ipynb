{
 "cells": [
  {
   "cell_type": "code",
   "execution_count": 1,
   "id": "4d117bb1-ea43-4e1b-ab30-272353cd8244",
   "metadata": {},
   "outputs": [],
   "source": [
    "import torch\n",
    "import torch.nn.functional as F"
   ]
  },
  {
   "cell_type": "code",
   "execution_count": 2,
   "id": "a65f7747-444a-4452-a6b8-6185cb34552e",
   "metadata": {},
   "outputs": [
    {
     "name": "stdout",
     "output_type": "stream",
     "text": [
      "Image = \n",
      " tensor([[0.2250, 0.4065, 0.2362, 0.2412, 0.7866, 0.3665],\n",
      "        [0.8201, 0.5112, 0.8441, 0.8183, 0.5256, 0.5728],\n",
      "        [0.8804, 0.7539, 0.4890, 0.3048, 0.6855, 0.9855],\n",
      "        [0.2825, 0.9261, 0.0604, 0.9401, 0.7487, 0.3663],\n",
      "        [0.3871, 0.8796, 0.3820, 0.6901, 0.5056, 0.0546],\n",
      "        [0.7680, 0.1354, 0.3098, 0.5496, 0.6725, 0.1073]])\n"
     ]
    }
   ],
   "source": [
    "image = torch.rand(6, 6)\n",
    "\n",
    "print('Image = \\n', image)"
   ]
  },
  {
   "cell_type": "code",
   "execution_count": 3,
   "id": "4d78ec14-0f29-4120-95f8-a6cf87fc0814",
   "metadata": {},
   "outputs": [
    {
     "name": "stdout",
     "output_type": "stream",
     "text": [
      "Image shape:  torch.Size([1, 6, 6])\n",
      "Image: \n",
      " tensor([[[0.2250, 0.4065, 0.2362, 0.2412, 0.7866, 0.3665],\n",
      "         [0.8201, 0.5112, 0.8441, 0.8183, 0.5256, 0.5728],\n",
      "         [0.8804, 0.7539, 0.4890, 0.3048, 0.6855, 0.9855],\n",
      "         [0.2825, 0.9261, 0.0604, 0.9401, 0.7487, 0.3663],\n",
      "         [0.3871, 0.8796, 0.3820, 0.6901, 0.5056, 0.0546],\n",
      "         [0.7680, 0.1354, 0.3098, 0.5496, 0.6725, 0.1073]]])\n"
     ]
    }
   ],
   "source": [
    "image = image.unsqueeze(dim=0)\n",
    "\n",
    "print('Image shape: ', image.shape)\n",
    "print('Image: \\n', image)"
   ]
  },
  {
   "cell_type": "code",
   "execution_count": 4,
   "id": "63785553-29c1-43c1-b113-c21b5df2bb36",
   "metadata": {},
   "outputs": [
    {
     "name": "stdout",
     "output_type": "stream",
     "text": [
      "Kernel = \n",
      " tensor([[1., 1., 1.],\n",
      "        [1., 1., 1.],\n",
      "        [1., 1., 1.]])\n"
     ]
    }
   ],
   "source": [
    "kernel = torch.ones(3, 3)\n",
    "\n",
    "print('Kernel = \\n', kernel)"
   ]
  },
  {
   "cell_type": "code",
   "execution_count": 5,
   "id": "ca01db58-350b-4f54-a89a-9bda880f70d4",
   "metadata": {},
   "outputs": [
    {
     "name": "stdout",
     "output_type": "stream",
     "text": [
      "Kernel = \n",
      " tensor([[[[1., 1., 1.],\n",
      "          [1., 1., 1.],\n",
      "          [1., 1., 1.]]]])\n"
     ]
    }
   ],
   "source": [
    "kernel = kernel.unsqueeze(dim=0)\n",
    "kernel = kernel.unsqueeze(dim=0)\n",
    "\n",
    "print('Kernel = \\n', kernel)"
   ]
  },
  {
   "cell_type": "code",
   "execution_count": 6,
   "id": "de949e0f-4076-4cde-99a9-782786602e20",
   "metadata": {},
   "outputs": [
    {
     "name": "stdout",
     "output_type": "stream",
     "text": [
      "OutImage shape =  torch.Size([1, 4, 4])\n",
      "OutImage = \n",
      " tensor([[[5.1664, 4.6051, 4.9313, 5.2869],\n",
      "         [5.5677, 5.6477, 5.4165, 5.9476],\n",
      "         [5.0410, 5.4259, 4.8061, 5.2812],\n",
      "         [4.1310, 4.8731, 4.8588, 4.6349]]])\n"
     ]
    }
   ],
   "source": [
    "outimage = F.conv2d(image, kernel, stride=1, padding=0)\n",
    "print('OutImage shape = ', outimage.shape)\n",
    "print('OutImage = \\n', outimage)"
   ]
  },
  {
   "cell_type": "code",
   "execution_count": 7,
   "id": "0c2c2893-3a0a-4956-84a1-fe48f57928fc",
   "metadata": {},
   "outputs": [
    {
     "name": "stdout",
     "output_type": "stream",
     "text": [
      "OutImage shape =  torch.Size([1, 4, 4])\n",
      "OutImage = \n",
      " tensor([[[5.1664, 4.6051, 4.9313, 5.2869],\n",
      "         [5.5677, 5.6477, 5.4165, 5.9476],\n",
      "         [5.0410, 5.4259, 4.8061, 5.2812],\n",
      "         [4.1310, 4.8731, 4.8588, 4.6349]]])\n",
      "\n",
      "\n",
      "OutImage shape =  torch.Size([1, 2, 2])\n",
      "OutImage = \n",
      " tensor([[[5.1664, 4.9313],\n",
      "         [5.0410, 4.8061]]])\n",
      "\n",
      "\n",
      "OutImage shape =  torch.Size([1, 2, 2])\n",
      "OutImage = \n",
      " tensor([[[5.1664, 5.2869],\n",
      "         [4.1310, 4.6349]]])\n",
      "\n",
      "\n"
     ]
    }
   ],
   "source": [
    "for s in range(1, 4):\n",
    "    outimage = F.conv2d(image, kernel, stride=s, padding=0)\n",
    "    print('OutImage shape = ', outimage.shape)\n",
    "    print('OutImage = \\n', outimage)\n",
    "    print('\\n')"
   ]
  },
  {
   "cell_type": "code",
   "execution_count": 8,
   "id": "d7f432ce-4a65-4127-bba9-df6a11e73a68",
   "metadata": {},
   "outputs": [
    {
     "name": "stdout",
     "output_type": "stream",
     "text": [
      "OutImage shape =  torch.Size([1, 6, 6])\n",
      "OutImage = \n",
      " tensor([[[1.9629, 3.0431, 3.0574, 3.4520, 3.3111, 2.2516],\n",
      "         [3.5972, 5.1664, 4.6051, 4.9313, 5.2869, 3.9226],\n",
      "         [4.1742, 5.5677, 5.6477, 5.4165, 5.9476, 3.8845],\n",
      "         [4.1097, 5.0410, 5.4259, 4.8061, 5.2812, 3.3462],\n",
      "         [3.3788, 4.1310, 4.8731, 4.8588, 4.6349, 2.4550],\n",
      "         [2.1702, 2.8619, 2.9465, 3.1096, 2.5798, 1.3400]]])\n",
      "\n",
      "\n",
      "OutImage shape =  torch.Size([1, 8, 8])\n",
      "OutImage = \n",
      " tensor([[[0.2250, 0.6316, 0.8677, 0.8839, 1.2640, 1.3944, 1.1531, 0.3665],\n",
      "         [1.0452, 1.9629, 3.0431, 3.0574, 3.4520, 3.3111, 2.2516, 0.9393],\n",
      "         [1.9256, 3.5972, 5.1664, 4.6051, 4.9313, 5.2869, 3.9226, 1.9248],\n",
      "         [1.9831, 4.1742, 5.5677, 5.6477, 5.4165, 5.9476, 3.8845, 1.9246],\n",
      "         [1.5501, 4.1097, 5.0410, 5.4259, 4.8061, 5.2812, 3.3462, 1.4064],\n",
      "         [1.4377, 3.3788, 4.1310, 4.8731, 4.8588, 4.6349, 2.4550, 0.5283],\n",
      "         [1.1551, 2.1702, 2.8619, 2.9465, 3.1096, 2.5798, 1.3400, 0.1619],\n",
      "         [0.7680, 0.9034, 1.2132, 0.9949, 1.5320, 1.3294, 0.7798, 0.1073]]])\n",
      "\n",
      "\n",
      "OutImage shape =  torch.Size([1, 10, 10])\n",
      "OutImage = \n",
      " tensor([[[0.0000, 0.0000, 0.0000, 0.0000, 0.0000, 0.0000, 0.0000, 0.0000,\n",
      "          0.0000, 0.0000],\n",
      "         [0.0000, 0.2250, 0.6316, 0.8677, 0.8839, 1.2640, 1.3944, 1.1531,\n",
      "          0.3665, 0.0000],\n",
      "         [0.0000, 1.0452, 1.9629, 3.0431, 3.0574, 3.4520, 3.3111, 2.2516,\n",
      "          0.9393, 0.0000],\n",
      "         [0.0000, 1.9256, 3.5972, 5.1664, 4.6051, 4.9313, 5.2869, 3.9226,\n",
      "          1.9248, 0.0000],\n",
      "         [0.0000, 1.9831, 4.1742, 5.5677, 5.6477, 5.4165, 5.9476, 3.8845,\n",
      "          1.9246, 0.0000],\n",
      "         [0.0000, 1.5501, 4.1097, 5.0410, 5.4259, 4.8061, 5.2812, 3.3462,\n",
      "          1.4064, 0.0000],\n",
      "         [0.0000, 1.4377, 3.3788, 4.1310, 4.8731, 4.8588, 4.6349, 2.4550,\n",
      "          0.5283, 0.0000],\n",
      "         [0.0000, 1.1551, 2.1702, 2.8619, 2.9465, 3.1096, 2.5798, 1.3400,\n",
      "          0.1619, 0.0000],\n",
      "         [0.0000, 0.7680, 0.9034, 1.2132, 0.9949, 1.5320, 1.3294, 0.7798,\n",
      "          0.1073, 0.0000],\n",
      "         [0.0000, 0.0000, 0.0000, 0.0000, 0.0000, 0.0000, 0.0000, 0.0000,\n",
      "          0.0000, 0.0000]]])\n",
      "\n",
      "\n"
     ]
    }
   ],
   "source": [
    "for p in range(1, 4):\n",
    "    outimage = F.conv2d(image, kernel, stride=1, padding=p)\n",
    "    print('OutImage shape = ', outimage.shape)\n",
    "    print('OutImage = \\n', outimage)\n",
    "    print('\\n')"
   ]
  },
  {
   "cell_type": "code",
   "execution_count": 9,
   "id": "a2ae9929-8303-4918-bc97-10a188569f03",
   "metadata": {},
   "outputs": [
    {
     "name": "stdout",
     "output_type": "stream",
     "text": [
      "Number of parameters is  9\n"
     ]
    }
   ],
   "source": [
    "print('Number of parameters is ', kernel.numel())"
   ]
  },
  {
   "cell_type": "code",
   "execution_count": null,
   "id": "40af263e-e472-48cf-968a-7fc1ceb24776",
   "metadata": {},
   "outputs": [],
   "source": []
  }
 ],
 "metadata": {
  "kernelspec": {
   "display_name": "Python 3 (ipykernel)",
   "language": "python",
   "name": "python3"
  },
  "language_info": {
   "codemirror_mode": {
    "name": "ipython",
    "version": 3
   },
   "file_extension": ".py",
   "mimetype": "text/x-python",
   "name": "python",
   "nbconvert_exporter": "python",
   "pygments_lexer": "ipython3",
   "version": "3.11.7"
  }
 },
 "nbformat": 4,
 "nbformat_minor": 5
}
