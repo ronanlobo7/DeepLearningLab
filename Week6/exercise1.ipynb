{
 "cells": [
  {
   "cell_type": "code",
   "execution_count": 5,
   "id": "960cc226-b66a-4181-ae12-be9cdf70812d",
   "metadata": {},
   "outputs": [],
   "source": [
    "import torch\n",
    "import torch.nn as nn\n",
    "import torch.nn.functional as F\n",
    "import torch.optim as optim\n",
    "from torch.utils.data import DataLoader\n",
    "from torchvision.transforms import ToTensor\n",
    "from torchvision.datasets import FashionMNIST\n",
    "import matplotlib.pyplot as plt"
   ]
  },
  {
   "cell_type": "code",
   "execution_count": 2,
   "id": "9b4803d2-9abe-4b82-838a-95e9fb2740f2",
   "metadata": {},
   "outputs": [],
   "source": [
    "class CNNClassifier(nn.Module):\n",
    "    def __init__(self):\n",
    "        super(CNNClassifier, self).__init__()\n",
    "        self.net = nn.Sequential(\n",
    "            nn.Conv2d(1, 64, kernel_size=3),\n",
    "            nn.ReLU(),\n",
    "            nn.MaxPool2d((2, 2), stride=2),\n",
    "            nn.Conv2d(64, 128, kernel_size=3),\n",
    "            nn.ReLU(),\n",
    "            nn.MaxPool2d((2, 2), stride=2),\n",
    "            nn.Conv2d(128, 64, kernel_size=3),\n",
    "            nn.ReLU(),\n",
    "            nn.MaxPool2d((2, 2), stride=2)\n",
    "        )\n",
    "        self.classification_head = nn.Sequential(\n",
    "            nn.Linear(64, 20, bias=True),\n",
    "            nn.ReLU(),\n",
    "            nn.Linear(20, 10, bias=True)\n",
    "        )            \n",
    "        \n",
    "    def forward(self, x):\n",
    "        features = self.net(x)\n",
    "        return self.classification_head(features.view(features.shape[0], -1))"
   ]
  },
  {
   "cell_type": "code",
   "execution_count": 3,
   "id": "73f9d493-0cc9-491b-814c-1b35cb7ef7f8",
   "metadata": {},
   "outputs": [],
   "source": [
    "def train(epoch):\n",
    "    model.train()\n",
    "    for batch_idx, (data, target) in enumerate(train_loader):\n",
    "        data, target = data.to(DEVICE), target.to(DEVICE)\n",
    "        optimizer.zero_grad()\n",
    "        output = model(data)\n",
    "        loss = criterion(output, target)\n",
    "        loss.backward()\n",
    "        optimizer.step()\n",
    "        if batch_idx % LOG_INTERVAL == 0:\n",
    "            print('Train Epoch: {} [{}/{} ({:.0f}%)]\\tLoss: {:.6f}'.format(\n",
    "                    epoch, batch_idx * len(data), len(train_loader.dataset),\n",
    "                    100. * batch_idx / len(train_loader), loss.item()))\n",
    "        train_losses.append(loss.item())\n",
    "        train_counter.append((batch_idx*64) + ((epoch-1)*len(train_loader.dataset)))"
   ]
  },
  {
   "cell_type": "code",
   "execution_count": 4,
   "id": "02fc5b7e-f6c6-4e2c-bd54-e2466a993da3",
   "metadata": {},
   "outputs": [],
   "source": [
    "def test():\n",
    "    model.eval()\n",
    "    test_loss = 0\n",
    "    correct = 0\n",
    "    with torch.no_grad():\n",
    "        for data, target in test_loader:\n",
    "            data, target = data.to(DEVICE), target.to(DEVICE)\n",
    "            output = model(data)\n",
    "            test_loss += criterion(output, target).item()\n",
    "            pred = output.data.max(1, keepdim=True)[1]\n",
    "            correct += pred.eq(target.data.view_as(pred)).sum()\n",
    "    test_loss /= len(test_loader.dataset)\n",
    "    test_losses.append(test_loss)\n",
    "    print('\\nTest set: Avg. loss: {:.4f}, Accuracy: {}/{} ({:.0f}%)\\n'.format(\n",
    "        test_loss, correct, len(test_loader.dataset),\n",
    "        100. * correct / len(test_loader.dataset)))\n",
    "    "
   ]
  },
  {
   "cell_type": "code",
   "execution_count": 6,
   "id": "4da20d3b-2e8c-409c-bf01-fccf6ec67e39",
   "metadata": {},
   "outputs": [
    {
     "data": {
      "text/plain": [
       "<torch._C.Generator at 0x7f78640726d0>"
      ]
     },
     "execution_count": 6,
     "metadata": {},
     "output_type": "execute_result"
    }
   ],
   "source": [
    "EPOCHS = 5\n",
    "BATCH_SIZE_TRAIN = 64\n",
    "BATCH_SIZE_TEST = 1000\n",
    "LR = 0.001\n",
    "LOG_INTERVAL = 100\n",
    "RANDOM_SEED = 1\n",
    "DEVICE = torch.device(\"cuda\" if torch.cuda.is_available() else \"cpu\")\n",
    "\n",
    "torch.manual_seed(RANDOM_SEED)"
   ]
  },
  {
   "cell_type": "code",
   "execution_count": 7,
   "id": "3f141b9c-2d44-44cd-91f5-575bfc7dd5cf",
   "metadata": {},
   "outputs": [
    {
     "name": "stdout",
     "output_type": "stream",
     "text": [
      "Downloading http://fashion-mnist.s3-website.eu-central-1.amazonaws.com/train-images-idx3-ubyte.gz\n",
      "Downloading http://fashion-mnist.s3-website.eu-central-1.amazonaws.com/train-images-idx3-ubyte.gz to data/FashionMNIST/raw/train-images-idx3-ubyte.gz\n"
     ]
    },
    {
     "name": "stderr",
     "output_type": "stream",
     "text": [
      "100%|██████████████████████████| 26421880/26421880 [00:23<00:00, 1133946.66it/s]\n"
     ]
    },
    {
     "name": "stdout",
     "output_type": "stream",
     "text": [
      "Extracting data/FashionMNIST/raw/train-images-idx3-ubyte.gz to data/FashionMNIST/raw\n",
      "\n",
      "Downloading http://fashion-mnist.s3-website.eu-central-1.amazonaws.com/train-labels-idx1-ubyte.gz\n",
      "Downloading http://fashion-mnist.s3-website.eu-central-1.amazonaws.com/train-labels-idx1-ubyte.gz to data/FashionMNIST/raw/train-labels-idx1-ubyte.gz\n"
     ]
    },
    {
     "name": "stderr",
     "output_type": "stream",
     "text": [
      "100%|█████████████████████████████████| 29515/29515 [00:00<00:00, 180836.50it/s]\n"
     ]
    },
    {
     "name": "stdout",
     "output_type": "stream",
     "text": [
      "Extracting data/FashionMNIST/raw/train-labels-idx1-ubyte.gz to data/FashionMNIST/raw\n",
      "\n",
      "Downloading http://fashion-mnist.s3-website.eu-central-1.amazonaws.com/t10k-images-idx3-ubyte.gz\n",
      "Downloading http://fashion-mnist.s3-website.eu-central-1.amazonaws.com/t10k-images-idx3-ubyte.gz to data/FashionMNIST/raw/t10k-images-idx3-ubyte.gz\n"
     ]
    },
    {
     "name": "stderr",
     "output_type": "stream",
     "text": [
      "100%|█████████████████████████████| 4422102/4422102 [00:09<00:00, 465920.55it/s]\n"
     ]
    },
    {
     "name": "stdout",
     "output_type": "stream",
     "text": [
      "Extracting data/FashionMNIST/raw/t10k-images-idx3-ubyte.gz to data/FashionMNIST/raw\n",
      "\n",
      "Downloading http://fashion-mnist.s3-website.eu-central-1.amazonaws.com/t10k-labels-idx1-ubyte.gz\n",
      "Downloading http://fashion-mnist.s3-website.eu-central-1.amazonaws.com/t10k-labels-idx1-ubyte.gz to data/FashionMNIST/raw/t10k-labels-idx1-ubyte.gz\n"
     ]
    },
    {
     "name": "stderr",
     "output_type": "stream",
     "text": [
      "100%|███████████████████████████████████| 5148/5148 [00:00<00:00, 904085.63it/s]\n"
     ]
    },
    {
     "name": "stdout",
     "output_type": "stream",
     "text": [
      "Extracting data/FashionMNIST/raw/t10k-labels-idx1-ubyte.gz to data/FashionMNIST/raw\n",
      "\n"
     ]
    }
   ],
   "source": [
    "train_dataset = FashionMNIST('data/', train=True, download=True, transform=ToTensor())\n",
    "test_dataset = FashionMNIST('data/', train=False, download=True, transform=ToTensor())\n",
    "\n",
    "train_loader = DataLoader(train_dataset, batch_size=BATCH_SIZE_TRAIN, shuffle=True)\n",
    "test_loader = DataLoader(test_dataset, batch_size=BATCH_SIZE_TEST, shuffle=True)"
   ]
  },
  {
   "cell_type": "code",
   "execution_count": 8,
   "id": "4479522b-5f62-4fe8-a451-0617ab09d144",
   "metadata": {},
   "outputs": [],
   "source": [
    "examples = enumerate(test_loader)\n",
    "batch_idx, (example_data, example_targets) = next(examples)"
   ]
  },
  {
   "cell_type": "code",
   "execution_count": 9,
   "id": "7607eda5-8fa0-48a5-a83a-6d7b468a14ba",
   "metadata": {},
   "outputs": [
    {
     "data": {
      "image/png": "[encoded data removed]",
      "text/plain": [
       "<Figure size 640x480 with 6 Axes>"
      ]
     },
     "metadata": {},
     "output_type": "display_data"
    }
   ],
   "source": [
    "for i in range(6):\n",
    "  plt.subplot(2,3,i+1)\n",
    "  plt.tight_layout()\n",
    "  plt.imshow(example_data[i][0], cmap='gray', interpolation='none')\n",
    "  plt.title(\"Ground Truth: {}\".format(example_targets[i]))\n",
    "  plt.xticks([])\n",
    "  plt.yticks([])\n",
    "\n",
    "plt.show()"
   ]
  },
  {
   "cell_type": "code",
   "execution_count": 11,
   "id": "e3e93d63-c6fb-44f1-959d-989522a5efe8",
   "metadata": {},
   "outputs": [],
   "source": [
    "model = torch.load('models/mnist_model.pt').to(DEVICE)\n",
    "model.net.requires_grad = False\n",
    "criterion = nn.CrossEntropyLoss()\n",
    "optimizer = optim.SGD(model.parameters(), lr=LR)"
   ]
  },
  {
   "cell_type": "code",
   "execution_count": 12,
   "id": "46f1fa1b-944f-404b-8624-1c221330d1e3",
   "metadata": {},
   "outputs": [
    {
     "name": "stdout",
     "output_type": "stream",
     "text": [
      "CNNClassifier(\n",
      "  (net): Sequential(\n",
      "    (0): Conv2d(1, 64, kernel_size=(3, 3), stride=(1, 1))\n",
      "    (1): ReLU()\n",
      "    (2): MaxPool2d(kernel_size=(2, 2), stride=2, padding=0, dilation=1, ceil_mode=False)\n",
      "    (3): Conv2d(64, 128, kernel_size=(3, 3), stride=(1, 1))\n",
      "    (4): ReLU()\n",
      "    (5): MaxPool2d(kernel_size=(2, 2), stride=2, padding=0, dilation=1, ceil_mode=False)\n",
      "    (6): Conv2d(128, 64, kernel_size=(3, 3), stride=(1, 1))\n",
      "    (7): ReLU()\n",
      "    (8): MaxPool2d(kernel_size=(2, 2), stride=2, padding=0, dilation=1, ceil_mode=False)\n",
      "  )\n",
      "  (classification_head): Sequential(\n",
      "    (0): Linear(in_features=64, out_features=20, bias=True)\n",
      "    (1): ReLU()\n",
      "    (2): Linear(in_features=20, out_features=10, bias=True)\n",
      "  )\n",
      ")\n"
     ]
    }
   ],
   "source": [
    "print(model)"
   ]
  },
  {
   "cell_type": "code",
   "execution_count": 13,
   "id": "7891b552-6204-402a-915b-03db9a23e242",
   "metadata": {},
   "outputs": [
    {
     "name": "stdout",
     "output_type": "stream",
     "text": [
      "Number of parameters in the model:  149798\n"
     ]
    }
   ],
   "source": [
    "total_params = 0\n",
    "for param in model.parameters():\n",
    "    total_params += param.numel()\n",
    "\n",
    "print('Number of parameters in the model: ', total_params)"
   ]
  },
  {
   "cell_type": "code",
   "execution_count": 14,
   "id": "4b9181aa-c396-4b1d-92d1-b26cf301e345",
   "metadata": {},
   "outputs": [],
   "source": [
    "train_losses = []\n",
    "train_counter = []\n",
    "test_losses = []\n",
    "test_counter = [i*len(train_loader.dataset) for i in range(EPOCHS + 1)]"
   ]
  },
  {
   "cell_type": "code",
   "execution_count": 15,
   "id": "ab55ac3f-8593-45fa-bfcc-c7a671fe5aa9",
   "metadata": {},
   "outputs": [
    {
     "name": "stderr",
     "output_type": "stream",
     "text": [
      "/opt/anaconda3/envs/pytorch_env/lib/python3.11/site-packages/torch/nn/modules/conv.py:456: UserWarning: Applied workaround for CuDNN issue, install nvrtc.so (Triggered internally at /opt/conda/conda-bld/pytorch_1702400440653/work/aten/src/ATen/native/cudnn/Conv_v8.cpp:80.)\n",
      "  return F.conv2d(input, weight, bias, self.stride,\n"
     ]
    },
    {
     "name": "stdout",
     "output_type": "stream",
     "text": [
      "Train Epoch: 1 [0/60000 (0%)]\tLoss: 4.336289\n",
      "Train Epoch: 1 [6400/60000 (11%)]\tLoss: 1.943202\n",
      "Train Epoch: 1 [12800/60000 (21%)]\tLoss: 1.348206\n",
      "Train Epoch: 1 [19200/60000 (32%)]\tLoss: 1.333941\n",
      "Train Epoch: 1 [25600/60000 (43%)]\tLoss: 1.092372\n",
      "Train Epoch: 1 [32000/60000 (53%)]\tLoss: 0.989467\n",
      "Train Epoch: 1 [38400/60000 (64%)]\tLoss: 1.042671\n",
      "Train Epoch: 1 [44800/60000 (75%)]\tLoss: 0.971886\n",
      "Train Epoch: 1 [51200/60000 (85%)]\tLoss: 0.833343\n",
      "Train Epoch: 1 [57600/60000 (96%)]\tLoss: 0.877099\n",
      "\n",
      "Test set: Avg. loss: 0.0010, Accuracy: 6495/10000 (65%)\n",
      "\n",
      "Train Epoch: 2 [0/60000 (0%)]\tLoss: 0.808514\n",
      "Train Epoch: 2 [6400/60000 (11%)]\tLoss: 0.852903\n",
      "Train Epoch: 2 [12800/60000 (21%)]\tLoss: 0.857004\n",
      "Train Epoch: 2 [19200/60000 (32%)]\tLoss: 0.794241\n",
      "Train Epoch: 2 [25600/60000 (43%)]\tLoss: 1.072821\n",
      "Train Epoch: 2 [32000/60000 (53%)]\tLoss: 1.067934\n",
      "Train Epoch: 2 [38400/60000 (64%)]\tLoss: 0.924414\n",
      "Train Epoch: 2 [44800/60000 (75%)]\tLoss: 0.832868\n",
      "Train Epoch: 2 [51200/60000 (85%)]\tLoss: 1.018193\n",
      "Train Epoch: 2 [57600/60000 (96%)]\tLoss: 0.708119\n",
      "\n",
      "Test set: Avg. loss: 0.0008, Accuracy: 6973/10000 (70%)\n",
      "\n",
      "Train Epoch: 3 [0/60000 (0%)]\tLoss: 0.662732\n",
      "Train Epoch: 3 [6400/60000 (11%)]\tLoss: 0.629473\n",
      "Train Epoch: 3 [12800/60000 (21%)]\tLoss: 0.785673\n",
      "Train Epoch: 3 [19200/60000 (32%)]\tLoss: 0.854625\n",
      "Train Epoch: 3 [25600/60000 (43%)]\tLoss: 0.921555\n",
      "Train Epoch: 3 [32000/60000 (53%)]\tLoss: 0.722842\n",
      "Train Epoch: 3 [38400/60000 (64%)]\tLoss: 0.806739\n",
      "Train Epoch: 3 [44800/60000 (75%)]\tLoss: 0.745173\n",
      "Train Epoch: 3 [51200/60000 (85%)]\tLoss: 0.818334\n",
      "Train Epoch: 3 [57600/60000 (96%)]\tLoss: 0.761434\n",
      "\n",
      "Test set: Avg. loss: 0.0008, Accuracy: 7313/10000 (73%)\n",
      "\n",
      "Train Epoch: 4 [0/60000 (0%)]\tLoss: 0.752439\n",
      "Train Epoch: 4 [6400/60000 (11%)]\tLoss: 0.667762\n",
      "Train Epoch: 4 [12800/60000 (21%)]\tLoss: 0.932574\n",
      "Train Epoch: 4 [19200/60000 (32%)]\tLoss: 0.768210\n",
      "Train Epoch: 4 [25600/60000 (43%)]\tLoss: 0.681412\n",
      "Train Epoch: 4 [32000/60000 (53%)]\tLoss: 0.784190\n",
      "Train Epoch: 4 [38400/60000 (64%)]\tLoss: 0.787451\n",
      "Train Epoch: 4 [44800/60000 (75%)]\tLoss: 0.743871\n",
      "Train Epoch: 4 [51200/60000 (85%)]\tLoss: 0.713136\n",
      "Train Epoch: 4 [57600/60000 (96%)]\tLoss: 0.797646\n",
      "\n",
      "Test set: Avg. loss: 0.0007, Accuracy: 7445/10000 (74%)\n",
      "\n",
      "Train Epoch: 5 [0/60000 (0%)]\tLoss: 0.648683\n",
      "Train Epoch: 5 [6400/60000 (11%)]\tLoss: 0.520681\n",
      "Train Epoch: 5 [12800/60000 (21%)]\tLoss: 0.884743\n",
      "Train Epoch: 5 [19200/60000 (32%)]\tLoss: 0.810584\n",
      "Train Epoch: 5 [25600/60000 (43%)]\tLoss: 0.560467\n",
      "Train Epoch: 5 [32000/60000 (53%)]\tLoss: 0.717348\n",
      "Train Epoch: 5 [38400/60000 (64%)]\tLoss: 0.705290\n",
      "Train Epoch: 5 [44800/60000 (75%)]\tLoss: 0.460720\n",
      "Train Epoch: 5 [51200/60000 (85%)]\tLoss: 0.815066\n",
      "Train Epoch: 5 [57600/60000 (96%)]\tLoss: 0.617155\n",
      "\n",
      "Test set: Avg. loss: 0.0007, Accuracy: 7459/10000 (75%)\n",
      "\n"
     ]
    }
   ],
   "source": [
    "for epoch in range(1, EPOCHS + 1):\n",
    "    train(epoch)\n",
    "    test()"
   ]
  },
  {
   "cell_type": "code",
   "execution_count": null,
   "id": "b1167a6e-dcca-43ba-ae38-630063c45b1a",
   "metadata": {},
   "outputs": [],
   "source": []
  }
 ],
 "metadata": {
  "kernelspec": {
   "display_name": "Python 3 (ipykernel)",
   "language": "python",
   "name": "python3"
  },
  "language_info": {
   "codemirror_mode": {
    "name": "ipython",
    "version": 3
   },
   "file_extension": ".py",
   "mimetype": "text/x-python",
   "name": "python",
   "nbconvert_exporter": "python",
   "pygments_lexer": "ipython3",
   "version": "3.11.7"
  }
 },
 "nbformat": 4,
 "nbformat_minor": 5
}
