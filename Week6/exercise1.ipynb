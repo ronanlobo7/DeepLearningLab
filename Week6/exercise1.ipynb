{
  "cells": [
    {
      "cell_type": "code",
      "execution_count": 1,
      "id": "960cc226-b66a-4181-ae12-be9cdf70812d",
      "metadata": {
        "id": "960cc226-b66a-4181-ae12-be9cdf70812d"
      },
      "outputs": [],
      "source": [
        "import torch\n",
        "import torch.nn as nn\n",
        "import torch.nn.functional as F\n",
        "import torch.optim as optim\n",
        "from torch.utils.data import DataLoader\n",
        "from torchvision.transforms import ToTensor\n",
        "from torchvision.datasets import FashionMNIST\n",
        "import matplotlib.pyplot as plt"
      ]
    },
    {
      "cell_type": "code",
      "source": [
        "class CNNClassifier(nn.Module):\n",
        "    def __init__(self):\n",
        "        super(CNNClassifier, self).__init__()\n",
        "        self.net = nn.Sequential(\n",
        "            nn.Conv2d(1, 64, kernel_size=3),\n",
        "            nn.ReLU(),\n",
        "            nn.MaxPool2d((2, 2), stride=2),\n",
        "            nn.Conv2d(64, 128, kernel_size=3),\n",
        "            nn.ReLU(),\n",
        "            nn.MaxPool2d((2, 2), stride=2),\n",
        "            nn.Conv2d(128, 64, kernel_size=3),\n",
        "            nn.ReLU(),\n",
        "            nn.MaxPool2d((2, 2), stride=2)\n",
        "        )\n",
        "        self.classification_head = nn.Sequential(\n",
        "            nn.Linear(64, 20, bias=True),\n",
        "            nn.ReLU(),\n",
        "            nn.Linear(20, 10, bias=True)\n",
        "        )\n",
        "\n",
        "    def forward(self, x):\n",
        "        features = self.net(x)\n",
        "        return self.classification_head(features.view(features.shape[0], -1))"
      ],
      "metadata": {
        "id": "Y76OEFsroId0"
      },
      "id": "Y76OEFsroId0",
      "execution_count": 2,
      "outputs": []
    },
    {
      "cell_type": "code",
      "execution_count": 3,
      "id": "02fc5b7e-f6c6-4e2c-bd54-e2466a993da3",
      "metadata": {
        "id": "02fc5b7e-f6c6-4e2c-bd54-e2466a993da3"
      },
      "outputs": [],
      "source": [
        "def test():\n",
        "    model.eval()\n",
        "    test_loss = 0\n",
        "    correct = 0\n",
        "    with torch.no_grad():\n",
        "        for data, target in test_loader:\n",
        "            data, target = data.to(DEVICE), target.to(DEVICE)\n",
        "            output = model(data)\n",
        "            test_loss += criterion(output, target).item()\n",
        "            pred = output.data.max(1, keepdim=True)[1]\n",
        "            correct += pred.eq(target.data.view_as(pred)).sum()\n",
        "    test_loss /= len(test_loader.dataset)\n",
        "    print('\\nTest set: Avg. loss: {:.4f}, Accuracy: {}/{} ({:.0f}%)\\n'.format(\n",
        "        test_loss, correct, len(test_loader.dataset),\n",
        "        100. * correct / len(test_loader.dataset)))\n",
        ""
      ]
    },
    {
      "cell_type": "code",
      "execution_count": 4,
      "id": "4da20d3b-2e8c-409c-bf01-fccf6ec67e39",
      "metadata": {
        "id": "4da20d3b-2e8c-409c-bf01-fccf6ec67e39",
        "outputId": "65bb98db-f27a-4dcc-9e6c-84e6415b0f0d",
        "colab": {
          "base_uri": "https://localhost:8080/"
        }
      },
      "outputs": [
        {
          "output_type": "execute_result",
          "data": {
            "text/plain": [
              "<torch._C.Generator at 0x7e300012d8b0>"
            ]
          },
          "metadata": {},
          "execution_count": 4
        }
      ],
      "source": [
        "BATCH_SIZE_TEST = 1000\n",
        "RANDOM_SEED = 1\n",
        "DEVICE = torch.device(\"cuda\" if torch.cuda.is_available() else \"cpu\")\n",
        "\n",
        "torch.manual_seed(RANDOM_SEED)"
      ]
    },
    {
      "cell_type": "code",
      "execution_count": 5,
      "id": "3f141b9c-2d44-44cd-91f5-575bfc7dd5cf",
      "metadata": {
        "id": "3f141b9c-2d44-44cd-91f5-575bfc7dd5cf"
      },
      "outputs": [],
      "source": [
        "test_dataset = FashionMNIST('data/', train=False, download=True, transform=ToTensor())\n",
        "\n",
        "test_loader = DataLoader(test_dataset, batch_size=BATCH_SIZE_TEST, shuffle=True)"
      ]
    },
    {
      "cell_type": "code",
      "execution_count": 5,
      "id": "4479522b-5f62-4fe8-a451-0617ab09d144",
      "metadata": {
        "id": "4479522b-5f62-4fe8-a451-0617ab09d144"
      },
      "outputs": [],
      "source": []
    },
    {
      "cell_type": "code",
      "execution_count": 6,
      "id": "e3e93d63-c6fb-44f1-959d-989522a5efe8",
      "metadata": {
        "id": "e3e93d63-c6fb-44f1-959d-989522a5efe8"
      },
      "outputs": [],
      "source": [
        "model = torch.load('models/mnist_model.pt').to(DEVICE)\n",
        "model.requires_grad = False\n",
        "\n",
        "criterion = nn.CrossEntropyLoss()"
      ]
    },
    {
      "cell_type": "code",
      "execution_count": 7,
      "id": "46f1fa1b-944f-404b-8624-1c221330d1e3",
      "metadata": {
        "id": "46f1fa1b-944f-404b-8624-1c221330d1e3",
        "outputId": "75e272e5-e74e-42de-c224-3072a98b0416",
        "colab": {
          "base_uri": "https://localhost:8080/"
        }
      },
      "outputs": [
        {
          "output_type": "stream",
          "name": "stdout",
          "text": [
            "CNNClassifier(\n",
            "  (net): Sequential(\n",
            "    (0): Conv2d(1, 64, kernel_size=(3, 3), stride=(1, 1))\n",
            "    (1): ReLU()\n",
            "    (2): MaxPool2d(kernel_size=(2, 2), stride=2, padding=0, dilation=1, ceil_mode=False)\n",
            "    (3): Conv2d(64, 128, kernel_size=(3, 3), stride=(1, 1))\n",
            "    (4): ReLU()\n",
            "    (5): MaxPool2d(kernel_size=(2, 2), stride=2, padding=0, dilation=1, ceil_mode=False)\n",
            "    (6): Conv2d(128, 64, kernel_size=(3, 3), stride=(1, 1))\n",
            "    (7): ReLU()\n",
            "    (8): MaxPool2d(kernel_size=(2, 2), stride=2, padding=0, dilation=1, ceil_mode=False)\n",
            "  )\n",
            "  (classification_head): Sequential(\n",
            "    (0): Linear(in_features=64, out_features=20, bias=True)\n",
            "    (1): ReLU()\n",
            "    (2): Linear(in_features=20, out_features=10, bias=True)\n",
            "  )\n",
            ")\n"
          ]
        }
      ],
      "source": [
        "print(model)"
      ]
    },
    {
      "cell_type": "code",
      "execution_count": 8,
      "id": "ab55ac3f-8593-45fa-bfcc-c7a671fe5aa9",
      "metadata": {
        "id": "ab55ac3f-8593-45fa-bfcc-c7a671fe5aa9",
        "outputId": "90549c01-8a82-4995-8cbe-97915893bc07",
        "colab": {
          "base_uri": "https://localhost:8080/"
        }
      },
      "outputs": [
        {
          "output_type": "stream",
          "name": "stdout",
          "text": [
            "\n",
            "Test set: Avg. loss: 0.0041, Accuracy: 1015/10000 (10%)\n",
            "\n"
          ]
        }
      ],
      "source": [
        "test()"
      ]
    },
    {
      "cell_type": "code",
      "source": [
        "examples = enumerate(test_loader)\n",
        "batch_idx, (example_data, example_targets) = next(examples)"
      ],
      "metadata": {
        "id": "84fwbh4torAd"
      },
      "id": "84fwbh4torAd",
      "execution_count": 9,
      "outputs": []
    },
    {
      "cell_type": "code",
      "execution_count": 10,
      "id": "b1167a6e-dcca-43ba-ae38-630063c45b1a",
      "metadata": {
        "id": "b1167a6e-dcca-43ba-ae38-630063c45b1a",
        "outputId": "47e3ff76-f214-48c4-e40c-a96dfd728cbd",
        "colab": {
          "base_uri": "https://localhost:8080/",
          "height": 728
        }
      },
      "outputs": [
        {
          "output_type": "display_data",
          "data": {
            "text/plain": [
              "<Figure size 1000x1000 with 6 Axes>"
            ],
            "image/png": "[encoded data removed]"
          },
          "metadata": {}
        }
      ],
      "source": [
        "x = example_data.to(DEVICE)\n",
        "output = model(x)\n",
        "pred = output.data.max(1, keepdim=True)[1]\n",
        "\n",
        "plt.figure(figsize=(10, 10))\n",
        "for i in range(6):\n",
        "  plt.subplot(2,3,i+1)\n",
        "  plt.imshow(example_data[i][0], cmap='gray', interpolation='none')\n",
        "  plt.title(\"Ground Truth: {} \\nPrediction: {}\".format(example_targets[i], pred[i].item()))\n",
        "  plt.xticks([])\n",
        "  plt.yticks([])\n",
        "\n",
        "plt.show()"
      ]
    },
    {
      "cell_type": "code",
      "source": [],
      "metadata": {
        "id": "UFFcFC-rpzj9"
      },
      "id": "UFFcFC-rpzj9",
      "execution_count": 10,
      "outputs": []
    }
  ],
  "metadata": {
    "kernelspec": {
      "display_name": "Python 3",
      "name": "python3"
    },
    "language_info": {
      "codemirror_mode": {
        "name": "ipython",
        "version": 3
      },
      "file_extension": ".py",
      "mimetype": "text/x-python",
      "name": "python",
      "nbconvert_exporter": "python",
      "pygments_lexer": "ipython3",
      "version": "3.11.7"
    },
    "colab": {
      "provenance": [],
      "gpuType": "T4"
    },
    "accelerator": "GPU"
  },
  "nbformat": 4,
  "nbformat_minor": 5
}