{
  "nbformat": 4,
  "nbformat_minor": 0,
  "metadata": {
    "colab": {
      "provenance": [],
      "gpuType": "T4"
    },
    "kernelspec": {
      "name": "python3",
      "display_name": "Python 3"
    },
    "language_info": {
      "name": "python"
    },
    "accelerator": "GPU"
  },
  "cells": [
    {
      "cell_type": "code",
      "execution_count": 1,
      "metadata": {
        "id": "og0i_yzAD6Hq"
      },
      "outputs": [],
      "source": [
        "import torch\n",
        "import torch.nn as nn\n",
        "import torch.nn.functional as F\n",
        "import torch.optim as optim\n",
        "from torch.utils.data import DataLoader\n",
        "from torchvision.transforms import ToTensor\n",
        "from torchvision.datasets import MNIST\n",
        "import matplotlib.pyplot as plt"
      ]
    },
    {
      "cell_type": "markdown",
      "source": [
        "###Train for initial number of epochs and save checkpoint"
      ],
      "metadata": {
        "id": "RNimUUNeHK0Z"
      }
    },
    {
      "cell_type": "code",
      "source": [
        "class CNNClassifier(nn.Module):\n",
        "    def __init__(self):\n",
        "        super(CNNClassifier, self).__init__()\n",
        "        self.net = nn.Sequential(\n",
        "            nn.Conv2d(1, 64, kernel_size=3),\n",
        "            nn.ReLU(),\n",
        "            nn.MaxPool2d((2, 2), stride=2),\n",
        "            nn.Conv2d(64, 128, kernel_size=3),\n",
        "            nn.ReLU(),\n",
        "            nn.MaxPool2d((2, 2), stride=2),\n",
        "            nn.Conv2d(128, 64, kernel_size=3),\n",
        "            nn.ReLU(),\n",
        "            nn.MaxPool2d((2, 2), stride=2)\n",
        "        )\n",
        "        self.classification_head = nn.Sequential(\n",
        "            nn.Linear(64, 20, bias=True),\n",
        "            nn.ReLU(),\n",
        "            nn.Linear(20, 10, bias=True)\n",
        "        )\n",
        "\n",
        "    def forward(self, x):\n",
        "        features = self.net(x)\n",
        "        return self.classification_head(features.view(features.shape[0], -1))"
      ],
      "metadata": {
        "id": "hMnaPcrmEXY9"
      },
      "execution_count": 2,
      "outputs": []
    },
    {
      "cell_type": "code",
      "source": [
        "def train(epoch):\n",
        "    model.train()\n",
        "    for batch_idx, (data, target) in enumerate(train_loader):\n",
        "        data, target = data.to(DEVICE), target.to(DEVICE)\n",
        "        optimizer.zero_grad()\n",
        "        output = model(data)\n",
        "        loss = criterion(output, target)\n",
        "        loss.backward()\n",
        "        optimizer.step()\n",
        "        if batch_idx % LOG_INTERVAL == 0:\n",
        "            print('Train Epoch: {} [{}/{} ({:.0f}%)]\\tLoss: {:.6f}'.format(\n",
        "                    epoch, batch_idx * len(data), len(train_loader.dataset),\n",
        "                    100. * batch_idx / len(train_loader), loss.item()))"
      ],
      "metadata": {
        "id": "7NzLyAdkEcrs"
      },
      "execution_count": 3,
      "outputs": []
    },
    {
      "cell_type": "code",
      "source": [
        "def test():\n",
        "    model.eval()\n",
        "    test_loss = 0\n",
        "    correct = 0\n",
        "    with torch.no_grad():\n",
        "        for data, target in test_loader:\n",
        "            data, target = data.to(DEVICE), target.to(DEVICE)\n",
        "            output = model(data)\n",
        "            test_loss += criterion(output, target).item()\n",
        "            pred = output.data.max(1, keepdim=True)[1]\n",
        "            correct += pred.eq(target.data.view_as(pred)).sum()\n",
        "    test_loss /= len(test_loader.dataset)\n",
        "    print('\\nTest set: Avg. loss: {:.4f}, Accuracy: {}/{} ({:.0f}%)\\n'.format(\n",
        "        test_loss, correct, len(test_loader.dataset),\n",
        "        100. * correct / len(test_loader.dataset)))\n",
        "    return test_loss"
      ],
      "metadata": {
        "id": "obzvZBlwEf25"
      },
      "execution_count": 4,
      "outputs": []
    },
    {
      "cell_type": "code",
      "source": [
        "EPOCHS = 2\n",
        "BATCH_SIZE_TRAIN = 64\n",
        "BATCH_SIZE_TEST = 1000\n",
        "LR = 0.01\n",
        "LOG_INTERVAL = 100\n",
        "RANDOM_SEED = 1\n",
        "DEVICE = torch.device(\"cuda\" if torch.cuda.is_available() else \"cpu\")\n",
        "\n",
        "torch.manual_seed(RANDOM_SEED)"
      ],
      "metadata": {
        "colab": {
          "base_uri": "https://localhost:8080/"
        },
        "id": "PPAxYYbQEj10",
        "outputId": "ae37f23a-5bbc-4e68-86df-032cf61ba371"
      },
      "execution_count": 5,
      "outputs": [
        {
          "output_type": "execute_result",
          "data": {
            "text/plain": [
              "<torch._C.Generator at 0x7a75fc1b55d0>"
            ]
          },
          "metadata": {},
          "execution_count": 5
        }
      ]
    },
    {
      "cell_type": "code",
      "source": [
        "train_dataset = MNIST('data/', train=True, download=True, transform=ToTensor())\n",
        "test_dataset = MNIST('data/', train=False, download=True, transform=ToTensor())\n",
        "\n",
        "train_loader = DataLoader(train_dataset, batch_size=BATCH_SIZE_TRAIN, shuffle=True)\n",
        "test_loader = DataLoader(test_dataset, batch_size=BATCH_SIZE_TEST, shuffle=True)"
      ],
      "metadata": {
        "id": "Qw6ZyET4EpEv"
      },
      "execution_count": 6,
      "outputs": []
    },
    {
      "cell_type": "code",
      "source": [
        "model = CNNClassifier().to(DEVICE)\n",
        "criterion = nn.CrossEntropyLoss()\n",
        "optimizer = optim.SGD(model.parameters(), lr=LR)"
      ],
      "metadata": {
        "id": "ApafBVN5ErZ2"
      },
      "execution_count": 7,
      "outputs": []
    },
    {
      "cell_type": "code",
      "source": [
        "for epoch in range(1, EPOCHS + 1):\n",
        "    train(epoch)\n",
        "    avg_loss = test()\n",
        "\n",
        "    check_point ={\n",
        "      \"last_loss\": avg_loss,\n",
        "      \"last_epoch\": epoch + 1,\n",
        "      \"model_state\": model.state_dict(),\n",
        "      \"optimizer_state\": optimizer.state_dict()\n",
        "    }\n",
        "\n",
        "    torch.save(check_point,\"./checkpoints/checkpoint.pt\")"
      ],
      "metadata": {
        "colab": {
          "base_uri": "https://localhost:8080/"
        },
        "id": "pmqlyuCTEylD",
        "outputId": "382040db-08c5-46cf-fae1-378388f25da0"
      },
      "execution_count": 8,
      "outputs": [
        {
          "output_type": "stream",
          "name": "stdout",
          "text": [
            "Train Epoch: 1 [0/60000 (0%)]\tLoss: 2.323911\n",
            "Train Epoch: 1 [6400/60000 (11%)]\tLoss: 2.288553\n",
            "Train Epoch: 1 [12800/60000 (21%)]\tLoss: 2.286770\n",
            "Train Epoch: 1 [19200/60000 (32%)]\tLoss: 2.313729\n",
            "Train Epoch: 1 [25600/60000 (43%)]\tLoss: 2.290764\n",
            "Train Epoch: 1 [32000/60000 (53%)]\tLoss: 2.285139\n",
            "Train Epoch: 1 [38400/60000 (64%)]\tLoss: 2.266488\n",
            "Train Epoch: 1 [44800/60000 (75%)]\tLoss: 2.234945\n",
            "Train Epoch: 1 [51200/60000 (85%)]\tLoss: 2.199195\n",
            "Train Epoch: 1 [57600/60000 (96%)]\tLoss: 2.183446\n",
            "\n",
            "Test set: Avg. loss: 0.0021, Accuracy: 2820/10000 (28%)\n",
            "\n",
            "Train Epoch: 2 [0/60000 (0%)]\tLoss: 2.102131\n",
            "Train Epoch: 2 [6400/60000 (11%)]\tLoss: 1.866571\n",
            "Train Epoch: 2 [12800/60000 (21%)]\tLoss: 1.472635\n",
            "Train Epoch: 2 [19200/60000 (32%)]\tLoss: 1.022854\n",
            "Train Epoch: 2 [25600/60000 (43%)]\tLoss: 0.880772\n",
            "Train Epoch: 2 [32000/60000 (53%)]\tLoss: 0.858518\n",
            "Train Epoch: 2 [38400/60000 (64%)]\tLoss: 0.734434\n",
            "Train Epoch: 2 [44800/60000 (75%)]\tLoss: 0.659167\n",
            "Train Epoch: 2 [51200/60000 (85%)]\tLoss: 0.571759\n",
            "Train Epoch: 2 [57600/60000 (96%)]\tLoss: 0.382273\n",
            "\n",
            "Test set: Avg. loss: 0.0004, Accuracy: 8845/10000 (88%)\n",
            "\n"
          ]
        }
      ]
    },
    {
      "cell_type": "markdown",
      "source": [
        "To continue training in the same notebook, delete the variables. Otherwise we will have to create a seperate script to load the checkpoints and datasets"
      ],
      "metadata": {
        "id": "XUQDvrc-J4d_"
      }
    },
    {
      "cell_type": "code",
      "source": [
        "del model\n",
        "del criterion\n",
        "del optimizer\n",
        "del check_point\n",
        "del EPOCHS"
      ],
      "metadata": {
        "id": "J9tRX2d5IfXY"
      },
      "execution_count": 9,
      "outputs": []
    },
    {
      "cell_type": "markdown",
      "source": [
        "###Use the checkpoint and resume the training\n"
      ],
      "metadata": {
        "id": "eQvocWR6HBAk"
      }
    },
    {
      "cell_type": "code",
      "source": [
        "NEW_EPOCHS = 5"
      ],
      "metadata": {
        "id": "5HtUpKmsHoXw"
      },
      "execution_count": 10,
      "outputs": []
    },
    {
      "cell_type": "code",
      "source": [
        "check_point = torch.load(\"./checkpoints/checkpoint.pt\")"
      ],
      "metadata": {
        "id": "e0TRUgKqI5iP"
      },
      "execution_count": 11,
      "outputs": []
    },
    {
      "cell_type": "code",
      "source": [
        "model = CNNClassifier().to(DEVICE)\n",
        "model.load_state_dict(check_point[\"model_state\"])"
      ],
      "metadata": {
        "colab": {
          "base_uri": "https://localhost:8080/"
        },
        "id": "nrbEcqQDGzGP",
        "outputId": "388c1e8f-3461-4693-b05a-a5914ac90df8"
      },
      "execution_count": 12,
      "outputs": [
        {
          "output_type": "execute_result",
          "data": {
            "text/plain": [
              "<All keys matched successfully>"
            ]
          },
          "metadata": {},
          "execution_count": 12
        }
      ]
    },
    {
      "cell_type": "code",
      "source": [
        "criterion = nn.CrossEntropyLoss()"
      ],
      "metadata": {
        "id": "Ym3G2RC8G9SZ"
      },
      "execution_count": 13,
      "outputs": []
    },
    {
      "cell_type": "code",
      "source": [
        "optimizer = optim.SGD(model.parameters(), lr=LR)\n",
        "optimizer.load_state_dict(check_point[\"optimizer_state\"])"
      ],
      "metadata": {
        "id": "w9onPyHSJCiM"
      },
      "execution_count": 14,
      "outputs": []
    },
    {
      "cell_type": "code",
      "source": [
        "EPOCHS = check_point[\"last_epoch\"]"
      ],
      "metadata": {
        "id": "GRkdUn2pJPBo"
      },
      "execution_count": 15,
      "outputs": []
    },
    {
      "cell_type": "code",
      "source": [
        "for epoch in range(EPOCHS, NEW_EPOCHS+1):\n",
        "    train(epoch)\n",
        "    avg_loss = test()\n",
        "\n",
        "    check_point ={\n",
        "      \"last_loss\": avg_loss,\n",
        "      \"last_epoch\": epoch + 1,\n",
        "      \"model_state\": model.state_dict(),\n",
        "      \"optimizer_state\": optimizer.state_dict()\n",
        "    }\n",
        "\n",
        "    torch.save(check_point,\"./checkpoints/checkpoint.pt\")"
      ],
      "metadata": {
        "colab": {
          "base_uri": "https://localhost:8080/"
        },
        "id": "qZKV_nYrJUO2",
        "outputId": "2075f9c0-e914-4da9-d58f-3cd393ecc22c"
      },
      "execution_count": 16,
      "outputs": [
        {
          "output_type": "stream",
          "name": "stdout",
          "text": [
            "Train Epoch: 3 [0/60000 (0%)]\tLoss: 0.427495\n",
            "Train Epoch: 3 [6400/60000 (11%)]\tLoss: 0.428752\n",
            "Train Epoch: 3 [12800/60000 (21%)]\tLoss: 0.394461\n",
            "Train Epoch: 3 [19200/60000 (32%)]\tLoss: 0.213186\n",
            "Train Epoch: 3 [25600/60000 (43%)]\tLoss: 0.525503\n",
            "Train Epoch: 3 [32000/60000 (53%)]\tLoss: 0.320296\n",
            "Train Epoch: 3 [38400/60000 (64%)]\tLoss: 0.191262\n",
            "Train Epoch: 3 [44800/60000 (75%)]\tLoss: 0.464563\n",
            "Train Epoch: 3 [51200/60000 (85%)]\tLoss: 0.366457\n",
            "Train Epoch: 3 [57600/60000 (96%)]\tLoss: 0.287874\n",
            "\n",
            "Test set: Avg. loss: 0.0003, Accuracy: 9092/10000 (91%)\n",
            "\n",
            "Train Epoch: 4 [0/60000 (0%)]\tLoss: 0.482808\n",
            "Train Epoch: 4 [6400/60000 (11%)]\tLoss: 0.255070\n",
            "Train Epoch: 4 [12800/60000 (21%)]\tLoss: 0.131819\n",
            "Train Epoch: 4 [19200/60000 (32%)]\tLoss: 0.298918\n",
            "Train Epoch: 4 [25600/60000 (43%)]\tLoss: 0.312414\n",
            "Train Epoch: 4 [32000/60000 (53%)]\tLoss: 0.147537\n",
            "Train Epoch: 4 [38400/60000 (64%)]\tLoss: 0.178648\n",
            "Train Epoch: 4 [44800/60000 (75%)]\tLoss: 0.235495\n",
            "Train Epoch: 4 [51200/60000 (85%)]\tLoss: 0.143505\n",
            "Train Epoch: 4 [57600/60000 (96%)]\tLoss: 0.137462\n",
            "\n",
            "Test set: Avg. loss: 0.0002, Accuracy: 9439/10000 (94%)\n",
            "\n",
            "Train Epoch: 5 [0/60000 (0%)]\tLoss: 0.161214\n",
            "Train Epoch: 5 [6400/60000 (11%)]\tLoss: 0.119960\n",
            "Train Epoch: 5 [12800/60000 (21%)]\tLoss: 0.242474\n",
            "Train Epoch: 5 [19200/60000 (32%)]\tLoss: 0.167392\n",
            "Train Epoch: 5 [25600/60000 (43%)]\tLoss: 0.115163\n",
            "Train Epoch: 5 [32000/60000 (53%)]\tLoss: 0.092172\n",
            "Train Epoch: 5 [38400/60000 (64%)]\tLoss: 0.126321\n",
            "Train Epoch: 5 [44800/60000 (75%)]\tLoss: 0.153628\n",
            "Train Epoch: 5 [51200/60000 (85%)]\tLoss: 0.188033\n",
            "Train Epoch: 5 [57600/60000 (96%)]\tLoss: 0.082625\n",
            "\n",
            "Test set: Avg. loss: 0.0002, Accuracy: 9272/10000 (93%)\n",
            "\n"
          ]
        }
      ]
    }
  ]
}