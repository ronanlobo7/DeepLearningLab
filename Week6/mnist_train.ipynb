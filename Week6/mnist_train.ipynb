{
 "cells": [
  {
   "cell_type": "code",
   "execution_count": 1,
   "id": "960cc226-b66a-4181-ae12-be9cdf70812d",
   "metadata": {},
   "outputs": [],
   "source": [
    "import torch\n",
    "import torch.nn as nn\n",
    "import torch.nn.functional as F\n",
    "import torch.optim as optim\n",
    "from torch.utils.data import DataLoader\n",
    "from torchvision.transforms import ToTensor\n",
    "from torchvision.datasets import MNIST\n",
    "import matplotlib.pyplot as plt"
   ]
  },
  {
   "cell_type": "code",
   "execution_count": 2,
   "id": "9b4803d2-9abe-4b82-838a-95e9fb2740f2",
   "metadata": {},
   "outputs": [],
   "source": [
    "class CNNClassifier(nn.Module):\n",
    "    def __init__(self):\n",
    "        super(CNNClassifier, self).__init__()\n",
    "        self.net = nn.Sequential(\n",
    "            nn.Conv2d(1, 64, kernel_size=3),\n",
    "            nn.ReLU(),\n",
    "            nn.MaxPool2d((2, 2), stride=2),\n",
    "            nn.Conv2d(64, 128, kernel_size=3),\n",
    "            nn.ReLU(),\n",
    "            nn.MaxPool2d((2, 2), stride=2),\n",
    "            nn.Conv2d(128, 64, kernel_size=3),\n",
    "            nn.ReLU(),\n",
    "            nn.MaxPool2d((2, 2), stride=2)\n",
    "        )\n",
    "        self.classification_head = nn.Sequential(\n",
    "            nn.Linear(64, 20, bias=True),\n",
    "            nn.ReLU(),\n",
    "            nn.Linear(20, 10, bias=True)\n",
    "        )            \n",
    "        \n",
    "    def forward(self, x):\n",
    "        features = self.net(x)\n",
    "        return self.classification_head(features.view(features.shape[0], -1))"
   ]
  },
  {
   "cell_type": "code",
   "execution_count": 3,
   "id": "73f9d493-0cc9-491b-814c-1b35cb7ef7f8",
   "metadata": {},
   "outputs": [],
   "source": [
    "def train(epoch):\n",
    "    model.train()\n",
    "    for batch_idx, (data, target) in enumerate(train_loader):\n",
    "        data, target = data.to(DEVICE), target.to(DEVICE)\n",
    "        optimizer.zero_grad()\n",
    "        output = model(data)\n",
    "        loss = criterion(output, target)\n",
    "        loss.backward()\n",
    "        optimizer.step()\n",
    "        if batch_idx % LOG_INTERVAL == 0:\n",
    "            print('Train Epoch: {} [{}/{} ({:.0f}%)]\\tLoss: {:.6f}'.format(\n",
    "                    epoch, batch_idx * len(data), len(train_loader.dataset),\n",
    "                    100. * batch_idx / len(train_loader), loss.item()))\n",
    "        train_losses.append(loss.item())\n",
    "        train_counter.append((batch_idx*64) + ((epoch-1)*len(train_loader.dataset)))"
   ]
  },
  {
   "cell_type": "code",
   "execution_count": 4,
   "id": "02fc5b7e-f6c6-4e2c-bd54-e2466a993da3",
   "metadata": {},
   "outputs": [],
   "source": [
    "def test():\n",
    "    model.eval()\n",
    "    test_loss = 0\n",
    "    correct = 0\n",
    "    with torch.no_grad():\n",
    "        for data, target in test_loader:\n",
    "            data, target = data.to(DEVICE), target.to(DEVICE)\n",
    "            output = model(data)\n",
    "            test_loss += criterion(output, target).item()\n",
    "            pred = output.data.max(1, keepdim=True)[1]\n",
    "            correct += pred.eq(target.data.view_as(pred)).sum()\n",
    "    test_loss /= len(test_loader.dataset)\n",
    "    test_losses.append(test_loss)\n",
    "    print('\\nTest set: Avg. loss: {:.4f}, Accuracy: {}/{} ({:.0f}%)\\n'.format(\n",
    "        test_loss, correct, len(test_loader.dataset),\n",
    "        100. * correct / len(test_loader.dataset)))\n",
    "    "
   ]
  },
  {
   "cell_type": "code",
   "execution_count": 5,
   "id": "4da20d3b-2e8c-409c-bf01-fccf6ec67e39",
   "metadata": {},
   "outputs": [
    {
     "data": {
      "text/plain": [
       "<torch._C.Generator at 0x7f66aa16e6b0>"
      ]
     },
     "execution_count": 5,
     "metadata": {},
     "output_type": "execute_result"
    }
   ],
   "source": [
    "EPOCHS = 10\n",
    "BATCH_SIZE_TRAIN = 64\n",
    "BATCH_SIZE_TEST = 1000\n",
    "LR = 0.01\n",
    "LOG_INTERVAL = 100\n",
    "RANDOM_SEED = 1\n",
    "DEVICE = torch.device(\"cuda\" if torch.cuda.is_available() else \"cpu\")\n",
    "\n",
    "torch.manual_seed(RANDOM_SEED)"
   ]
  },
  {
   "cell_type": "code",
   "execution_count": 6,
   "id": "3f141b9c-2d44-44cd-91f5-575bfc7dd5cf",
   "metadata": {
    "scrolled": true
   },
   "outputs": [],
   "source": [
    "train_dataset = MNIST('data/', train=True, download=True, transform=ToTensor())\n",
    "test_dataset = MNIST('data/', train=False, download=True, transform=ToTensor())\n",
    "\n",
    "train_loader = DataLoader(train_dataset, batch_size=BATCH_SIZE_TRAIN, shuffle=True)\n",
    "test_loader = DataLoader(test_dataset, batch_size=BATCH_SIZE_TEST, shuffle=True)"
   ]
  },
  {
   "cell_type": "code",
   "execution_count": 7,
   "id": "4479522b-5f62-4fe8-a451-0617ab09d144",
   "metadata": {},
   "outputs": [],
   "source": [
    "examples = enumerate(test_loader)\n",
    "batch_idx, (example_data, example_targets) = next(examples)"
   ]
  },
  {
   "cell_type": "code",
   "execution_count": 8,
   "id": "7607eda5-8fa0-48a5-a83a-6d7b468a14ba",
   "metadata": {},
   "outputs": [
    {
     "data": {
      "image/png": "[encoded data removed]",
      "text/plain": [
       "<Figure size 640x480 with 6 Axes>"
      ]
     },
     "metadata": {},
     "output_type": "display_data"
    }
   ],
   "source": [
    "for i in range(6):\n",
    "  plt.subplot(2,3,i+1)\n",
    "  plt.tight_layout()\n",
    "  plt.imshow(example_data[i][0], cmap='gray', interpolation='none')\n",
    "  plt.title(\"Ground Truth: {}\".format(example_targets[i]))\n",
    "  plt.xticks([])\n",
    "  plt.yticks([])\n",
    "\n",
    "plt.show()"
   ]
  },
  {
   "cell_type": "code",
   "execution_count": 9,
   "id": "e3e93d63-c6fb-44f1-959d-989522a5efe8",
   "metadata": {},
   "outputs": [],
   "source": [
    "model = CNNClassifier().to(DEVICE)\n",
    "criterion = nn.CrossEntropyLoss()\n",
    "optimizer = optim.SGD(model.parameters(), lr=LR)"
   ]
  },
  {
   "cell_type": "code",
   "execution_count": 10,
   "id": "46f1fa1b-944f-404b-8624-1c221330d1e3",
   "metadata": {},
   "outputs": [
    {
     "name": "stdout",
     "output_type": "stream",
     "text": [
      "CNNClassifier(\n",
      "  (net): Sequential(\n",
      "    (0): Conv2d(1, 64, kernel_size=(3, 3), stride=(1, 1))\n",
      "    (1): ReLU()\n",
      "    (2): MaxPool2d(kernel_size=(2, 2), stride=2, padding=0, dilation=1, ceil_mode=False)\n",
      "    (3): Conv2d(64, 128, kernel_size=(3, 3), stride=(1, 1))\n",
      "    (4): ReLU()\n",
      "    (5): MaxPool2d(kernel_size=(2, 2), stride=2, padding=0, dilation=1, ceil_mode=False)\n",
      "    (6): Conv2d(128, 64, kernel_size=(3, 3), stride=(1, 1))\n",
      "    (7): ReLU()\n",
      "    (8): MaxPool2d(kernel_size=(2, 2), stride=2, padding=0, dilation=1, ceil_mode=False)\n",
      "  )\n",
      "  (classification_head): Sequential(\n",
      "    (0): Linear(in_features=64, out_features=20, bias=True)\n",
      "    (1): ReLU()\n",
      "    (2): Linear(in_features=20, out_features=10, bias=True)\n",
      "  )\n",
      ")\n"
     ]
    }
   ],
   "source": [
    "print(model)"
   ]
  },
  {
   "cell_type": "code",
   "execution_count": 11,
   "id": "4b9181aa-c396-4b1d-92d1-b26cf301e345",
   "metadata": {},
   "outputs": [],
   "source": [
    "train_losses = []\n",
    "train_counter = []\n",
    "test_losses = []\n",
    "test_counter = [i*len(train_loader.dataset) for i in range(EPOCHS + 1)]"
   ]
  },
  {
   "cell_type": "code",
   "execution_count": 12,
   "id": "ab55ac3f-8593-45fa-bfcc-c7a671fe5aa9",
   "metadata": {},
   "outputs": [
    {
     "name": "stderr",
     "output_type": "stream",
     "text": [
      "/opt/anaconda3/envs/pytorch_env/lib/python3.11/site-packages/torch/nn/modules/conv.py:456: UserWarning: Applied workaround for CuDNN issue, install nvrtc.so (Triggered internally at /opt/conda/conda-bld/pytorch_1702400440653/work/aten/src/ATen/native/cudnn/Conv_v8.cpp:80.)\n",
      "  return F.conv2d(input, weight, bias, self.stride,\n"
     ]
    },
    {
     "name": "stdout",
     "output_type": "stream",
     "text": [
      "Train Epoch: 1 [0/60000 (0%)]\tLoss: 2.273497\n",
      "Train Epoch: 1 [6400/60000 (11%)]\tLoss: 2.295610\n",
      "Train Epoch: 1 [12800/60000 (21%)]\tLoss: 2.293905\n",
      "Train Epoch: 1 [19200/60000 (32%)]\tLoss: 2.289792\n",
      "Train Epoch: 1 [25600/60000 (43%)]\tLoss: 2.264424\n",
      "Train Epoch: 1 [32000/60000 (53%)]\tLoss: 2.241873\n",
      "Train Epoch: 1 [38400/60000 (64%)]\tLoss: 2.185601\n",
      "Train Epoch: 1 [44800/60000 (75%)]\tLoss: 2.120700\n",
      "Train Epoch: 1 [51200/60000 (85%)]\tLoss: 1.868705\n",
      "Train Epoch: 1 [57600/60000 (96%)]\tLoss: 1.589137\n",
      "\n",
      "Test set: Avg. loss: 0.0015, Accuracy: 5195/10000 (52%)\n",
      "\n",
      "Train Epoch: 2 [0/60000 (0%)]\tLoss: 1.537042\n",
      "Train Epoch: 2 [6400/60000 (11%)]\tLoss: 1.074512\n",
      "Train Epoch: 2 [12800/60000 (21%)]\tLoss: 0.962360\n",
      "Train Epoch: 2 [19200/60000 (32%)]\tLoss: 0.715353\n",
      "Train Epoch: 2 [25600/60000 (43%)]\tLoss: 0.566002\n",
      "Train Epoch: 2 [32000/60000 (53%)]\tLoss: 0.536117\n",
      "Train Epoch: 2 [38400/60000 (64%)]\tLoss: 0.515556\n",
      "Train Epoch: 2 [44800/60000 (75%)]\tLoss: 0.362777\n",
      "Train Epoch: 2 [51200/60000 (85%)]\tLoss: 0.557913\n",
      "Train Epoch: 2 [57600/60000 (96%)]\tLoss: 0.621096\n",
      "\n",
      "Test set: Avg. loss: 0.0003, Accuracy: 8928/10000 (89%)\n",
      "\n",
      "Train Epoch: 3 [0/60000 (0%)]\tLoss: 0.413002\n",
      "Train Epoch: 3 [6400/60000 (11%)]\tLoss: 0.264560\n",
      "Train Epoch: 3 [12800/60000 (21%)]\tLoss: 0.323454\n",
      "Train Epoch: 3 [19200/60000 (32%)]\tLoss: 0.277236\n",
      "Train Epoch: 3 [25600/60000 (43%)]\tLoss: 0.308172\n",
      "Train Epoch: 3 [32000/60000 (53%)]\tLoss: 0.307135\n",
      "Train Epoch: 3 [38400/60000 (64%)]\tLoss: 0.307046\n",
      "Train Epoch: 3 [44800/60000 (75%)]\tLoss: 0.232237\n",
      "Train Epoch: 3 [51200/60000 (85%)]\tLoss: 0.207984\n",
      "Train Epoch: 3 [57600/60000 (96%)]\tLoss: 0.280669\n",
      "\n",
      "Test set: Avg. loss: 0.0002, Accuracy: 9355/10000 (94%)\n",
      "\n",
      "Train Epoch: 4 [0/60000 (0%)]\tLoss: 0.218078\n",
      "Train Epoch: 4 [6400/60000 (11%)]\tLoss: 0.147428\n",
      "Train Epoch: 4 [12800/60000 (21%)]\tLoss: 0.285975\n",
      "Train Epoch: 4 [19200/60000 (32%)]\tLoss: 0.157270\n",
      "Train Epoch: 4 [25600/60000 (43%)]\tLoss: 0.286189\n",
      "Train Epoch: 4 [32000/60000 (53%)]\tLoss: 0.101416\n",
      "Train Epoch: 4 [38400/60000 (64%)]\tLoss: 0.119500\n",
      "Train Epoch: 4 [44800/60000 (75%)]\tLoss: 0.258584\n",
      "Train Epoch: 4 [51200/60000 (85%)]\tLoss: 0.096674\n",
      "Train Epoch: 4 [57600/60000 (96%)]\tLoss: 0.119049\n",
      "\n",
      "Test set: Avg. loss: 0.0002, Accuracy: 9497/10000 (95%)\n",
      "\n",
      "Train Epoch: 5 [0/60000 (0%)]\tLoss: 0.189227\n",
      "Train Epoch: 5 [6400/60000 (11%)]\tLoss: 0.076766\n",
      "Train Epoch: 5 [12800/60000 (21%)]\tLoss: 0.185623\n",
      "Train Epoch: 5 [19200/60000 (32%)]\tLoss: 0.150953\n",
      "Train Epoch: 5 [25600/60000 (43%)]\tLoss: 0.108236\n",
      "Train Epoch: 5 [32000/60000 (53%)]\tLoss: 0.081543\n",
      "Train Epoch: 5 [38400/60000 (64%)]\tLoss: 0.115734\n",
      "Train Epoch: 5 [44800/60000 (75%)]\tLoss: 0.111237\n",
      "Train Epoch: 5 [51200/60000 (85%)]\tLoss: 0.195426\n",
      "Train Epoch: 5 [57600/60000 (96%)]\tLoss: 0.142478\n",
      "\n",
      "Test set: Avg. loss: 0.0002, Accuracy: 9506/10000 (95%)\n",
      "\n",
      "Train Epoch: 6 [0/60000 (0%)]\tLoss: 0.123033\n",
      "Train Epoch: 6 [6400/60000 (11%)]\tLoss: 0.236562\n",
      "Train Epoch: 6 [12800/60000 (21%)]\tLoss: 0.094130\n",
      "Train Epoch: 6 [19200/60000 (32%)]\tLoss: 0.080675\n",
      "Train Epoch: 6 [25600/60000 (43%)]\tLoss: 0.367174\n",
      "Train Epoch: 6 [32000/60000 (53%)]\tLoss: 0.132451\n",
      "Train Epoch: 6 [38400/60000 (64%)]\tLoss: 0.136524\n",
      "Train Epoch: 6 [44800/60000 (75%)]\tLoss: 0.121110\n",
      "Train Epoch: 6 [51200/60000 (85%)]\tLoss: 0.039468\n",
      "Train Epoch: 6 [57600/60000 (96%)]\tLoss: 0.175154\n",
      "\n",
      "Test set: Avg. loss: 0.0001, Accuracy: 9581/10000 (96%)\n",
      "\n",
      "Train Epoch: 7 [0/60000 (0%)]\tLoss: 0.142652\n",
      "Train Epoch: 7 [6400/60000 (11%)]\tLoss: 0.122453\n",
      "Train Epoch: 7 [12800/60000 (21%)]\tLoss: 0.104982\n",
      "Train Epoch: 7 [19200/60000 (32%)]\tLoss: 0.166526\n",
      "Train Epoch: 7 [25600/60000 (43%)]\tLoss: 0.051283\n",
      "Train Epoch: 7 [32000/60000 (53%)]\tLoss: 0.217830\n",
      "Train Epoch: 7 [38400/60000 (64%)]\tLoss: 0.182898\n",
      "Train Epoch: 7 [44800/60000 (75%)]\tLoss: 0.173943\n",
      "Train Epoch: 7 [51200/60000 (85%)]\tLoss: 0.172786\n",
      "Train Epoch: 7 [57600/60000 (96%)]\tLoss: 0.013693\n",
      "\n",
      "Test set: Avg. loss: 0.0001, Accuracy: 9678/10000 (97%)\n",
      "\n",
      "Train Epoch: 8 [0/60000 (0%)]\tLoss: 0.092494\n",
      "Train Epoch: 8 [6400/60000 (11%)]\tLoss: 0.190574\n",
      "Train Epoch: 8 [12800/60000 (21%)]\tLoss: 0.045963\n",
      "Train Epoch: 8 [19200/60000 (32%)]\tLoss: 0.093486\n",
      "Train Epoch: 8 [25600/60000 (43%)]\tLoss: 0.099401\n",
      "Train Epoch: 8 [32000/60000 (53%)]\tLoss: 0.094742\n",
      "Train Epoch: 8 [38400/60000 (64%)]\tLoss: 0.046002\n",
      "Train Epoch: 8 [44800/60000 (75%)]\tLoss: 0.125140\n",
      "Train Epoch: 8 [51200/60000 (85%)]\tLoss: 0.037300\n",
      "Train Epoch: 8 [57600/60000 (96%)]\tLoss: 0.046346\n",
      "\n",
      "Test set: Avg. loss: 0.0001, Accuracy: 9704/10000 (97%)\n",
      "\n",
      "Train Epoch: 9 [0/60000 (0%)]\tLoss: 0.179655\n",
      "Train Epoch: 9 [6400/60000 (11%)]\tLoss: 0.080600\n",
      "Train Epoch: 9 [12800/60000 (21%)]\tLoss: 0.078341\n",
      "Train Epoch: 9 [19200/60000 (32%)]\tLoss: 0.059209\n",
      "Train Epoch: 9 [25600/60000 (43%)]\tLoss: 0.047745\n",
      "Train Epoch: 9 [32000/60000 (53%)]\tLoss: 0.083547\n",
      "Train Epoch: 9 [38400/60000 (64%)]\tLoss: 0.202917\n",
      "Train Epoch: 9 [44800/60000 (75%)]\tLoss: 0.073082\n",
      "Train Epoch: 9 [51200/60000 (85%)]\tLoss: 0.212162\n",
      "Train Epoch: 9 [57600/60000 (96%)]\tLoss: 0.136893\n",
      "\n",
      "Test set: Avg. loss: 0.0001, Accuracy: 9724/10000 (97%)\n",
      "\n",
      "Train Epoch: 10 [0/60000 (0%)]\tLoss: 0.198085\n",
      "Train Epoch: 10 [6400/60000 (11%)]\tLoss: 0.270676\n",
      "Train Epoch: 10 [12800/60000 (21%)]\tLoss: 0.114558\n",
      "Train Epoch: 10 [19200/60000 (32%)]\tLoss: 0.151475\n",
      "Train Epoch: 10 [25600/60000 (43%)]\tLoss: 0.136392\n",
      "Train Epoch: 10 [32000/60000 (53%)]\tLoss: 0.020316\n",
      "Train Epoch: 10 [38400/60000 (64%)]\tLoss: 0.039705\n",
      "Train Epoch: 10 [44800/60000 (75%)]\tLoss: 0.031467\n",
      "Train Epoch: 10 [51200/60000 (85%)]\tLoss: 0.031197\n",
      "Train Epoch: 10 [57600/60000 (96%)]\tLoss: 0.033384\n",
      "\n",
      "Test set: Avg. loss: 0.0001, Accuracy: 9739/10000 (97%)\n",
      "\n"
     ]
    }
   ],
   "source": [
    "for epoch in range(1, EPOCHS + 1):\n",
    "    train(epoch)\n",
    "    test()"
   ]
  },
  {
   "cell_type": "code",
   "execution_count": 14,
   "id": "b1167a6e-dcca-43ba-ae38-630063c45b1a",
   "metadata": {},
   "outputs": [],
   "source": [
    "torch.save(model, 'models/mnist_model.pt')"
   ]
  }
 ],
 "metadata": {
  "kernelspec": {
   "display_name": "Python 3 (ipykernel)",
   "language": "python",
   "name": "python3"
  },
  "language_info": {
   "codemirror_mode": {
    "name": "ipython",
    "version": 3
   },
   "file_extension": ".py",
   "mimetype": "text/x-python",
   "name": "python",
   "nbconvert_exporter": "python",
   "pygments_lexer": "ipython3",
   "version": "3.11.7"
  }
 },
 "nbformat": 4,
 "nbformat_minor": 5
}
